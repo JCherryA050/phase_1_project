{
 "cells": [
  {
   "cell_type": "markdown",
   "metadata": {},
   "source": [
    "# Title of the Notebook"
   ]
  },
  {
   "cell_type": "markdown",
   "metadata": {},
   "source": [
    "## Business Understanding"
   ]
  },
  {
   "cell_type": "markdown",
   "metadata": {},
   "source": [
    "explaination of where data is coming"
   ]
  },
  {
   "cell_type": "markdown",
   "metadata": {},
   "source": [
    "cleaning section"
   ]
  },
  {
   "cell_type": "markdown",
   "metadata": {},
   "source": [
    "## Data Understanding (Results Page)"
   ]
  },
  {
   "cell_type": "markdown",
   "metadata": {},
   "source": [
    "## Conclusions Section"
   ]
  },
  {
   "cell_type": "code",
   "execution_count": 416,
   "metadata": {},
   "outputs": [],
   "source": [
    "import difflib"
   ]
  },
  {
   "cell_type": "code",
   "execution_count": 381,
   "metadata": {},
   "outputs": [],
   "source": [
    "import numpy as np\n",
    "import pandas as pd\n",
    "import requests\n",
    "import matplotlib.pyplot as plt\n",
    "import bs4\n",
    "import lxml\n",
    "import csv\n",
    "from rotten_tomatoes_scraper.rt_scraper import MovieScraper\n",
    "%matplotlib inline"
   ]
  },
  {
   "cell_type": "code",
   "execution_count": 382,
   "metadata": {},
   "outputs": [],
   "source": [
    "bom_df     = pd.read_csv('../zippedData/bom.movie_gross.csv.gz')\n",
    "tn_df      = pd.read_csv('../zippedData/tn.movie_budgets.csv.gz')\n",
    "rt_info    = pd.read_csv('../zippedData/rt.movie_info.tsv.gz', delimiter='\\t', encoding='iso8859_1')\n",
    "rt_reviews = pd.read_csv('../zippedData/rt.reviews.tsv.gz', delimiter='\\t', encoding='iso8859_1')\n",
    "data_imdbr = pd.read_csv('../zippedData/imdb.title.ratings.csv.gz')\n",
    "data_imdbb = pd.read_csv('../zippedData/imdb.title.basics.csv.gz')\n",
    "data_imdbn = pd.read_csv('../zippedData/imdb.name.basics.csv.gz')\n",
    "data_imdbc = pd.read_csv('../zippedData/imdb.title.crew.csv.gz')\n",
    "data_imdbp = pd.read_csv('../zippedData/imdb.title.principals.csv.gz')\n",
    "data_imdba = pd.read_csv('../zippedData/imdb.title.akas.csv.gz')\n",
    "data_tmdb  = pd.read_csv('../zippedData/tmdb.movies.csv.gz')"
   ]
  },
  {
   "cell_type": "code",
   "execution_count": 336,
   "metadata": {},
   "outputs": [
    {
     "name": "stdout",
     "output_type": "stream",
     "text": [
      "<class 'pandas.core.frame.DataFrame'>\n",
      "RangeIndex: 26517 entries, 0 to 26516\n",
      "Data columns (total 10 columns):\n",
      " #   Column             Non-Null Count  Dtype  \n",
      "---  ------             --------------  -----  \n",
      " 0   Unnamed: 0         26517 non-null  int64  \n",
      " 1   genre_ids          26517 non-null  object \n",
      " 2   id                 26517 non-null  int64  \n",
      " 3   original_language  26517 non-null  object \n",
      " 4   original_title     26517 non-null  object \n",
      " 5   popularity         26517 non-null  float64\n",
      " 6   release_date       26517 non-null  object \n",
      " 7   title              26517 non-null  object \n",
      " 8   vote_average       26517 non-null  float64\n",
      " 9   vote_count         26517 non-null  int64  \n",
      "dtypes: float64(2), int64(3), object(5)\n",
      "memory usage: 2.0+ MB\n"
     ]
    }
   ],
   "source": [
    "data_tmdb.info()"
   ]
  },
  {
   "cell_type": "markdown",
   "metadata": {},
   "source": [
    "# iMBD"
   ]
  },
  {
   "cell_type": "markdown",
   "metadata": {},
   "source": [
    "## Cleaning"
   ]
  },
  {
   "cell_type": "code",
   "execution_count": 421,
   "metadata": {},
   "outputs": [
    {
     "data": {
      "text/plain": [
       "0.0"
      ]
     },
     "execution_count": 421,
     "metadata": {},
     "output_type": "execute_result"
    }
   ],
   "source": [
    "difflib.SequenceMatcher('happy','happy')"
   ]
  },
  {
   "cell_type": "code",
   "execution_count": 337,
   "metadata": {},
   "outputs": [
    {
     "name": "stdout",
     "output_type": "stream",
     "text": [
      "<class 'pandas.core.frame.DataFrame'>\n",
      "RangeIndex: 73856 entries, 0 to 73855\n",
      "Data columns (total 3 columns):\n",
      " #   Column         Non-Null Count  Dtype  \n",
      "---  ------         --------------  -----  \n",
      " 0   tconst         73856 non-null  object \n",
      " 1   averagerating  73856 non-null  float64\n",
      " 2   numvotes       73856 non-null  int64  \n",
      "dtypes: float64(1), int64(1), object(1)\n",
      "memory usage: 1.7+ MB\n"
     ]
    }
   ],
   "source": [
    "data_imdbr.info()"
   ]
  },
  {
   "cell_type": "code",
   "execution_count": 338,
   "metadata": {},
   "outputs": [
    {
     "name": "stdout",
     "output_type": "stream",
     "text": [
      "<class 'pandas.core.frame.DataFrame'>\n",
      "RangeIndex: 146144 entries, 0 to 146143\n",
      "Data columns (total 6 columns):\n",
      " #   Column           Non-Null Count   Dtype  \n",
      "---  ------           --------------   -----  \n",
      " 0   tconst           146144 non-null  object \n",
      " 1   primary_title    146144 non-null  object \n",
      " 2   original_title   146123 non-null  object \n",
      " 3   start_year       146144 non-null  int64  \n",
      " 4   runtime_minutes  114405 non-null  float64\n",
      " 5   genres           140736 non-null  object \n",
      "dtypes: float64(1), int64(1), object(4)\n",
      "memory usage: 6.7+ MB\n"
     ]
    }
   ],
   "source": [
    "data_imdbb.info()"
   ]
  },
  {
   "cell_type": "code",
   "execution_count": 339,
   "metadata": {},
   "outputs": [],
   "source": [
    "data_imdbb.dropna(axis=0, subset=['genres'],inplace=True)"
   ]
  },
  {
   "cell_type": "code",
   "execution_count": 340,
   "metadata": {},
   "outputs": [
    {
     "data": {
      "text/html": [
       "<div>\n",
       "<style scoped>\n",
       "    .dataframe tbody tr th:only-of-type {\n",
       "        vertical-align: middle;\n",
       "    }\n",
       "\n",
       "    .dataframe tbody tr th {\n",
       "        vertical-align: top;\n",
       "    }\n",
       "\n",
       "    .dataframe thead th {\n",
       "        text-align: right;\n",
       "    }\n",
       "</style>\n",
       "<table border=\"1\" class=\"dataframe\">\n",
       "  <thead>\n",
       "    <tr style=\"text-align: right;\">\n",
       "      <th></th>\n",
       "      <th>tconst</th>\n",
       "      <th>primary_title</th>\n",
       "      <th>original_title</th>\n",
       "      <th>start_year</th>\n",
       "      <th>runtime_minutes</th>\n",
       "      <th>genres</th>\n",
       "    </tr>\n",
       "  </thead>\n",
       "  <tbody>\n",
       "    <tr>\n",
       "      <th>1</th>\n",
       "      <td>tt0066787</td>\n",
       "      <td>One Day Before the Rainy Season</td>\n",
       "      <td>Ashad Ka Ek Din</td>\n",
       "      <td>2019</td>\n",
       "      <td>114.0</td>\n",
       "      <td>Biography,Drama</td>\n",
       "    </tr>\n",
       "    <tr>\n",
       "      <th>4</th>\n",
       "      <td>tt0100275</td>\n",
       "      <td>The Wandering Soap Opera</td>\n",
       "      <td>La Telenovela Errante</td>\n",
       "      <td>2017</td>\n",
       "      <td>80.0</td>\n",
       "      <td>Comedy,Drama,Fantasy</td>\n",
       "    </tr>\n",
       "    <tr>\n",
       "      <th>11</th>\n",
       "      <td>tt0154039</td>\n",
       "      <td>So Much for Justice!</td>\n",
       "      <td>Oda az igazság</td>\n",
       "      <td>2010</td>\n",
       "      <td>100.0</td>\n",
       "      <td>History</td>\n",
       "    </tr>\n",
       "    <tr>\n",
       "      <th>13</th>\n",
       "      <td>tt0162942</td>\n",
       "      <td>Children of the Green Dragon</td>\n",
       "      <td>A zöld sárkány gyermekei</td>\n",
       "      <td>2010</td>\n",
       "      <td>89.0</td>\n",
       "      <td>Drama</td>\n",
       "    </tr>\n",
       "    <tr>\n",
       "      <th>15</th>\n",
       "      <td>tt0176694</td>\n",
       "      <td>The Tragedy of Man</td>\n",
       "      <td>Az ember tragédiája</td>\n",
       "      <td>2011</td>\n",
       "      <td>160.0</td>\n",
       "      <td>Animation,Drama,History</td>\n",
       "    </tr>\n",
       "  </tbody>\n",
       "</table>\n",
       "</div>"
      ],
      "text/plain": [
       "       tconst                    primary_title            original_title  \\\n",
       "1   tt0066787  One Day Before the Rainy Season           Ashad Ka Ek Din   \n",
       "4   tt0100275         The Wandering Soap Opera     La Telenovela Errante   \n",
       "11  tt0154039             So Much for Justice!            Oda az igazság   \n",
       "13  tt0162942     Children of the Green Dragon  A zöld sárkány gyermekei   \n",
       "15  tt0176694               The Tragedy of Man       Az ember tragédiája   \n",
       "\n",
       "    start_year  runtime_minutes                   genres  \n",
       "1         2019            114.0          Biography,Drama  \n",
       "4         2017             80.0     Comedy,Drama,Fantasy  \n",
       "11        2010            100.0                  History  \n",
       "13        2010             89.0                    Drama  \n",
       "15        2011            160.0  Animation,Drama,History  "
      ]
     },
     "execution_count": 340,
     "metadata": {},
     "output_type": "execute_result"
    }
   ],
   "source": [
    "data_imdbb[data_imdbb.primary_title != data_imdbb.original_title].head()"
   ]
  },
  {
   "cell_type": "code",
   "execution_count": 341,
   "metadata": {},
   "outputs": [],
   "source": [
    "data_imdbb['movie_id'] = data_imdbb['original_title'] + '_' + data_imdbb['start_year'].astype(str)"
   ]
  },
  {
   "cell_type": "code",
   "execution_count": 342,
   "metadata": {},
   "outputs": [],
   "source": [
    "data_imdbb.drop_duplicates(subset='movie_id',keep='first',inplace=True)"
   ]
  },
  {
   "cell_type": "code",
   "execution_count": null,
   "metadata": {},
   "outputs": [],
   "source": []
  },
  {
   "cell_type": "markdown",
   "metadata": {},
   "source": [
    "# Box Office Mojo"
   ]
  },
  {
   "cell_type": "markdown",
   "metadata": {},
   "source": [
    "## -----------------------------------Cleaning-------------------------------------\n",
    "### In the cells below, the data is being cleaned for empty cells in studio and summing the total grossing amount to total domestic and foreign and dropping the domestic and foreign columns."
   ]
  },
  {
   "cell_type": "markdown",
   "metadata": {},
   "source": [
    "clean out empty rows in studio column and set to new variable."
   ]
  },
  {
   "cell_type": "code",
   "execution_count": 343,
   "metadata": {},
   "outputs": [],
   "source": [
    "bom_clean = bom_df[bom_df['studio'].notna()]"
   ]
  },
  {
   "cell_type": "markdown",
   "metadata": {},
   "source": [
    "Dropping commas and converting foreign to float."
   ]
  },
  {
   "cell_type": "code",
   "execution_count": 344,
   "metadata": {},
   "outputs": [
    {
     "name": "stderr",
     "output_type": "stream",
     "text": [
      "<ipython-input-344-9d1896d0b027>:1: SettingWithCopyWarning: \n",
      "A value is trying to be set on a copy of a slice from a DataFrame.\n",
      "Try using .loc[row_indexer,col_indexer] = value instead\n",
      "\n",
      "See the caveats in the documentation: https://pandas.pydata.org/pandas-docs/stable/user_guide/indexing.html#returning-a-view-versus-a-copy\n",
      "  bom_clean['foreign_gross'] = bom_clean['foreign_gross'].str.replace(',','').astype(float)\n"
     ]
    }
   ],
   "source": [
    "bom_clean['foreign_gross'] = bom_clean['foreign_gross'].str.replace(',','').astype(float)"
   ]
  },
  {
   "cell_type": "markdown",
   "metadata": {},
   "source": [
    "Adding the foreign and domestic gross to total_gross column."
   ]
  },
  {
   "cell_type": "code",
   "execution_count": 345,
   "metadata": {},
   "outputs": [
    {
     "name": "stderr",
     "output_type": "stream",
     "text": [
      "<ipython-input-345-2e853af365ef>:1: SettingWithCopyWarning: \n",
      "A value is trying to be set on a copy of a slice from a DataFrame.\n",
      "Try using .loc[row_indexer,col_indexer] = value instead\n",
      "\n",
      "See the caveats in the documentation: https://pandas.pydata.org/pandas-docs/stable/user_guide/indexing.html#returning-a-view-versus-a-copy\n",
      "  bom_clean['total_gross'] = bom_clean.fillna(0)['domestic_gross'] + bom_clean.fillna(0)['foreign_gross']\n"
     ]
    }
   ],
   "source": [
    "bom_clean['total_gross'] = bom_clean.fillna(0)['domestic_gross'] + bom_clean.fillna(0)['foreign_gross']"
   ]
  },
  {
   "cell_type": "markdown",
   "metadata": {},
   "source": [
    "Dropping the domestic and foreign columns "
   ]
  },
  {
   "cell_type": "code",
   "execution_count": 346,
   "metadata": {},
   "outputs": [
    {
     "name": "stdout",
     "output_type": "stream",
     "text": [
      "<class 'pandas.core.frame.DataFrame'>\n",
      "Int64Index: 3382 entries, 0 to 3386\n",
      "Data columns (total 6 columns):\n",
      " #   Column          Non-Null Count  Dtype  \n",
      "---  ------          --------------  -----  \n",
      " 0   title           3382 non-null   object \n",
      " 1   studio          3382 non-null   object \n",
      " 2   domestic_gross  3356 non-null   float64\n",
      " 3   foreign_gross   2033 non-null   float64\n",
      " 4   year            3382 non-null   int64  \n",
      " 5   total_gross     3382 non-null   float64\n",
      "dtypes: float64(3), int64(1), object(2)\n",
      "memory usage: 185.0+ KB\n"
     ]
    }
   ],
   "source": [
    "bom_clean.info()"
   ]
  },
  {
   "cell_type": "code",
   "execution_count": 347,
   "metadata": {},
   "outputs": [],
   "source": [
    "title_counts = bom_clean['title'].value_counts() > 1"
   ]
  },
  {
   "cell_type": "code",
   "execution_count": 348,
   "metadata": {},
   "outputs": [
    {
     "data": {
      "text/plain": [
       "Bluebeard    True\n",
       "Name: title, dtype: bool"
      ]
     },
     "execution_count": 348,
     "metadata": {},
     "output_type": "execute_result"
    }
   ],
   "source": [
    "title_counts[title_counts.values == True]"
   ]
  },
  {
   "cell_type": "code",
   "execution_count": 349,
   "metadata": {},
   "outputs": [],
   "source": [
    "bom_clean.reset_index(inplace=True)"
   ]
  },
  {
   "cell_type": "code",
   "execution_count": 350,
   "metadata": {},
   "outputs": [
    {
     "name": "stderr",
     "output_type": "stream",
     "text": [
      "C:\\Users\\ajche\\anaconda3\\envs\\learn-env\\lib\\site-packages\\pandas\\core\\series.py:4563: SettingWithCopyWarning: \n",
      "A value is trying to be set on a copy of a slice from a DataFrame\n",
      "\n",
      "See the caveats in the documentation: https://pandas.pydata.org/pandas-docs/stable/user_guide/indexing.html#returning-a-view-versus-a-copy\n",
      "  return super().replace(\n"
     ]
    }
   ],
   "source": [
    "bom_clean['studio'].replace('WB (NL)','WB',inplace=True)\n",
    "bom_clean['studio'].replace('FoxS','Fox',inplace=True)"
   ]
  },
  {
   "cell_type": "markdown",
   "metadata": {},
   "source": [
    "### Setting variable for to 1k movies"
   ]
  },
  {
   "cell_type": "markdown",
   "metadata": {},
   "source": [
    "## ---------------------------Exploratory Data Analysis----------------------------"
   ]
  },
  {
   "cell_type": "markdown",
   "metadata": {},
   "source": [
    "### Making a plot of the movie count per production company of the top 1000 grossing movies"
   ]
  },
  {
   "cell_type": "code",
   "execution_count": 351,
   "metadata": {},
   "outputs": [],
   "source": [
    "studio_movie_count = bom_clean.groupby('studio').count()['title']\n",
    "studio_top_grossing = bom_clean.groupby('studio').sum()['total_gross']"
   ]
  },
  {
   "cell_type": "code",
   "execution_count": 352,
   "metadata": {},
   "outputs": [],
   "source": [
    "avg_gross_per_movie = studio_top_grossing/studio_movie_count"
   ]
  },
  {
   "cell_type": "code",
   "execution_count": 353,
   "metadata": {},
   "outputs": [
    {
     "data": {
      "text/plain": [
       "studio\n",
       "HC            8.703000e+08\n",
       "P/DW          5.076500e+08\n",
       "BV            4.171027e+08\n",
       "GrtIndia      2.542000e+08\n",
       "WB            2.225440e+08\n",
       "                  ...     \n",
       "BSM           5.100000e+03\n",
       "TAFC          4.600000e+03\n",
       "Hiber         3.600000e+03\n",
       "ALP           2.800000e+03\n",
       "Synergetic    2.400000e+03\n",
       "Length: 255, dtype: float64"
      ]
     },
     "execution_count": 353,
     "metadata": {},
     "output_type": "execute_result"
    }
   ],
   "source": [
    "avg_gross_per_movie.sort_values(ascending=False)"
   ]
  },
  {
   "cell_type": "code",
   "execution_count": 354,
   "metadata": {},
   "outputs": [
    {
     "data": {
      "text/plain": [
       "<BarContainer object of 20 artists>"
      ]
     },
     "execution_count": 354,
     "metadata": {},
     "output_type": "execute_result"
    },
    {
     "data": {
      "image/png": "[encoded data removed]",
      "text/plain": [
       "<Figure size 1080x1080 with 2 Axes>"
      ]
     },
     "metadata": {
      "needs_background": "light"
     },
     "output_type": "display_data"
    }
   ],
   "source": [
    "fig , ax = plt.subplots(1,2,figsize=(15,15))\n",
    "ax[1].barh(studio_top_grossing.sort_values(ascending=False).head(20).sort_values(ascending=True).index,studio_top_grossing.sort_values(ascending=False).head(20).sort_values(ascending=True).values)\n",
    "ax[0].barh(studio_movie_count.sort_values(ascending=False).head(20).sort_values(ascending=True).index,studio_movie_count.sort_values(ascending=False).head(20).sort_values(ascending=True).values)\n"
   ]
  },
  {
   "cell_type": "markdown",
   "metadata": {},
   "source": [
    "Out of the top 1000 grossing movies in the data set, this is a bar graph showing the number of movies by production company. The big players in the film industry in terms of sheer numbers are universal, Fax, warner brothers, Walt Disney, Soney, Paramount, and Lionsgate.\n",
    "\n",
    "TODO: match these values with the production cost.\n"
   ]
  },
  {
   "cell_type": "markdown",
   "metadata": {},
   "source": [
    "## Bar Chart of the average grossing income per movie made within the years 2010-2018 top 20."
   ]
  },
  {
   "cell_type": "code",
   "execution_count": 355,
   "metadata": {},
   "outputs": [
    {
     "data": {
      "text/plain": [
       "<BarContainer object of 20 artists>"
      ]
     },
     "execution_count": 355,
     "metadata": {},
     "output_type": "execute_result"
    },
    {
     "data": {
      "image/png": "[encoded data removed]",
      "text/plain": [
       "<Figure size 1080x1080 with 1 Axes>"
      ]
     },
     "metadata": {
      "needs_background": "light"
     },
     "output_type": "display_data"
    }
   ],
   "source": [
    "fig,ax = plt.subplots(figsize=(15,15))\n",
    "ax.barh(avg_gross_per_movie.sort_values(ascending=False).head(20).sort_values(ascending=True).index\\\n",
    "    ,avg_gross_per_movie.sort_values(ascending=False).head(20).sort_values(ascending=True).values)"
   ]
  },
  {
   "cell_type": "markdown",
   "metadata": {},
   "source": [
    "### Find out who P/DW studios are and emulate their business model."
   ]
  },
  {
   "cell_type": "code",
   "execution_count": 356,
   "metadata": {},
   "outputs": [
    {
     "data": {
      "text/html": [
       "<div>\n",
       "<style scoped>\n",
       "    .dataframe tbody tr th:only-of-type {\n",
       "        vertical-align: middle;\n",
       "    }\n",
       "\n",
       "    .dataframe tbody tr th {\n",
       "        vertical-align: top;\n",
       "    }\n",
       "\n",
       "    .dataframe thead th {\n",
       "        text-align: right;\n",
       "    }\n",
       "</style>\n",
       "<table border=\"1\" class=\"dataframe\">\n",
       "  <thead>\n",
       "    <tr style=\"text-align: right;\">\n",
       "      <th></th>\n",
       "      <th>index</th>\n",
       "      <th>title</th>\n",
       "      <th>studio</th>\n",
       "      <th>domestic_gross</th>\n",
       "      <th>foreign_gross</th>\n",
       "      <th>year</th>\n",
       "      <th>total_gross</th>\n",
       "    </tr>\n",
       "  </thead>\n",
       "  <tbody>\n",
       "    <tr>\n",
       "      <th>4</th>\n",
       "      <td>4</td>\n",
       "      <td>Shrek Forever After</td>\n",
       "      <td>P/DW</td>\n",
       "      <td>238700000.0</td>\n",
       "      <td>513900000.0</td>\n",
       "      <td>2010</td>\n",
       "      <td>7.526000e+08</td>\n",
       "    </tr>\n",
       "    <tr>\n",
       "      <th>9</th>\n",
       "      <td>9</td>\n",
       "      <td>How to Train Your Dragon</td>\n",
       "      <td>P/DW</td>\n",
       "      <td>217600000.0</td>\n",
       "      <td>277300000.0</td>\n",
       "      <td>2010</td>\n",
       "      <td>4.949000e+08</td>\n",
       "    </tr>\n",
       "    <tr>\n",
       "      <th>17</th>\n",
       "      <td>17</td>\n",
       "      <td>Megamind</td>\n",
       "      <td>P/DW</td>\n",
       "      <td>148400000.0</td>\n",
       "      <td>173500000.0</td>\n",
       "      <td>2010</td>\n",
       "      <td>3.219000e+08</td>\n",
       "    </tr>\n",
       "    <tr>\n",
       "      <th>71</th>\n",
       "      <td>71</td>\n",
       "      <td>Dinner for Schmucks</td>\n",
       "      <td>P/DW</td>\n",
       "      <td>73000000.0</td>\n",
       "      <td>13800000.0</td>\n",
       "      <td>2010</td>\n",
       "      <td>8.680000e+07</td>\n",
       "    </tr>\n",
       "    <tr>\n",
       "      <th>328</th>\n",
       "      <td>329</td>\n",
       "      <td>Transformers: Dark of the Moon</td>\n",
       "      <td>P/DW</td>\n",
       "      <td>352400000.0</td>\n",
       "      <td>771400000.0</td>\n",
       "      <td>2011</td>\n",
       "      <td>1.123800e+09</td>\n",
       "    </tr>\n",
       "    <tr>\n",
       "      <th>332</th>\n",
       "      <td>333</td>\n",
       "      <td>Kung Fu Panda 2</td>\n",
       "      <td>P/DW</td>\n",
       "      <td>165200000.0</td>\n",
       "      <td>500400000.0</td>\n",
       "      <td>2011</td>\n",
       "      <td>6.656000e+08</td>\n",
       "    </tr>\n",
       "    <tr>\n",
       "      <th>337</th>\n",
       "      <td>338</td>\n",
       "      <td>Puss in Boots</td>\n",
       "      <td>P/DW</td>\n",
       "      <td>149300000.0</td>\n",
       "      <td>405700000.0</td>\n",
       "      <td>2011</td>\n",
       "      <td>5.550000e+08</td>\n",
       "    </tr>\n",
       "    <tr>\n",
       "      <th>732</th>\n",
       "      <td>734</td>\n",
       "      <td>Madagascar 3: Europe's Most Wanted</td>\n",
       "      <td>P/DW</td>\n",
       "      <td>216400000.0</td>\n",
       "      <td>530500000.0</td>\n",
       "      <td>2012</td>\n",
       "      <td>7.469000e+08</td>\n",
       "    </tr>\n",
       "    <tr>\n",
       "      <th>750</th>\n",
       "      <td>752</td>\n",
       "      <td>Rise of the Guardians</td>\n",
       "      <td>P/DW</td>\n",
       "      <td>103400000.0</td>\n",
       "      <td>203500000.0</td>\n",
       "      <td>2012</td>\n",
       "      <td>3.069000e+08</td>\n",
       "    </tr>\n",
       "    <tr>\n",
       "      <th>863</th>\n",
       "      <td>865</td>\n",
       "      <td>A Thousand Words</td>\n",
       "      <td>P/DW</td>\n",
       "      <td>18500000.0</td>\n",
       "      <td>3600000.0</td>\n",
       "      <td>2012</td>\n",
       "      <td>2.210000e+07</td>\n",
       "    </tr>\n",
       "  </tbody>\n",
       "</table>\n",
       "</div>"
      ],
      "text/plain": [
       "     index                               title studio  domestic_gross  \\\n",
       "4        4                 Shrek Forever After   P/DW     238700000.0   \n",
       "9        9            How to Train Your Dragon   P/DW     217600000.0   \n",
       "17      17                            Megamind   P/DW     148400000.0   \n",
       "71      71                 Dinner for Schmucks   P/DW      73000000.0   \n",
       "328    329      Transformers: Dark of the Moon   P/DW     352400000.0   \n",
       "332    333                     Kung Fu Panda 2   P/DW     165200000.0   \n",
       "337    338                       Puss in Boots   P/DW     149300000.0   \n",
       "732    734  Madagascar 3: Europe's Most Wanted   P/DW     216400000.0   \n",
       "750    752               Rise of the Guardians   P/DW     103400000.0   \n",
       "863    865                    A Thousand Words   P/DW      18500000.0   \n",
       "\n",
       "     foreign_gross  year   total_gross  \n",
       "4      513900000.0  2010  7.526000e+08  \n",
       "9      277300000.0  2010  4.949000e+08  \n",
       "17     173500000.0  2010  3.219000e+08  \n",
       "71      13800000.0  2010  8.680000e+07  \n",
       "328    771400000.0  2011  1.123800e+09  \n",
       "332    500400000.0  2011  6.656000e+08  \n",
       "337    405700000.0  2011  5.550000e+08  \n",
       "732    530500000.0  2012  7.469000e+08  \n",
       "750    203500000.0  2012  3.069000e+08  \n",
       "863      3600000.0  2012  2.210000e+07  "
      ]
     },
     "execution_count": 356,
     "metadata": {},
     "output_type": "execute_result"
    }
   ],
   "source": [
    "bom_clean[bom_clean['studio'] == 'P/DW']"
   ]
  },
  {
   "cell_type": "code",
   "execution_count": null,
   "metadata": {},
   "outputs": [],
   "source": []
  },
  {
   "cell_type": "markdown",
   "metadata": {},
   "source": [
    "IFC: IFC Films\n",
    "Uni.: Universal\n",
    "WB: Warner Brothers\n",
    "Magn.: Magnolia Studios\n",
    "Fox: Fox\n",
    "SPC: Sony Pictures Classics\n",
    "Sony: Sony Productions\n",
    "BV: Disney\n",
    "LGF: Lionsgate\n",
    "Par.: Paramount\n",
    "Eros: Eros International Media Ltd. (India Studio)\n",
    "Wein.: The Weinstein Company\n",
    "CL: ?\n",
    "Strand: Strand Studios(Animated Movies)\n",
    "FoxS: part of The Walt Disney Company (India)\n"
   ]
  },
  {
   "cell_type": "markdown",
   "metadata": {},
   "source": [
    "# Rotten Tomatoes"
   ]
  },
  {
   "cell_type": "markdown",
   "metadata": {},
   "source": [
    "## Data Cleaning"
   ]
  },
  {
   "cell_type": "code",
   "execution_count": 357,
   "metadata": {},
   "outputs": [
    {
     "name": "stdout",
     "output_type": "stream",
     "text": [
      "<class 'pandas.core.frame.DataFrame'>\n",
      "RangeIndex: 54432 entries, 0 to 54431\n",
      "Data columns (total 8 columns):\n",
      " #   Column      Non-Null Count  Dtype \n",
      "---  ------      --------------  ----- \n",
      " 0   id          54432 non-null  int64 \n",
      " 1   review      48869 non-null  object\n",
      " 2   rating      40915 non-null  object\n",
      " 3   fresh       54432 non-null  object\n",
      " 4   critic      51710 non-null  object\n",
      " 5   top_critic  54432 non-null  int64 \n",
      " 6   publisher   54123 non-null  object\n",
      " 7   date        54432 non-null  object\n",
      "dtypes: int64(2), object(6)\n",
      "memory usage: 3.3+ MB\n"
     ]
    }
   ],
   "source": [
    "rt_reviews.info()"
   ]
  },
  {
   "cell_type": "code",
   "execution_count": 358,
   "metadata": {},
   "outputs": [
    {
     "name": "stdout",
     "output_type": "stream",
     "text": [
      "<class 'pandas.core.frame.DataFrame'>\n",
      "RangeIndex: 1560 entries, 0 to 1559\n",
      "Data columns (total 12 columns):\n",
      " #   Column        Non-Null Count  Dtype \n",
      "---  ------        --------------  ----- \n",
      " 0   id            1560 non-null   int64 \n",
      " 1   synopsis      1498 non-null   object\n",
      " 2   rating        1557 non-null   object\n",
      " 3   genre         1552 non-null   object\n",
      " 4   director      1361 non-null   object\n",
      " 5   writer        1111 non-null   object\n",
      " 6   theater_date  1201 non-null   object\n",
      " 7   dvd_date      1201 non-null   object\n",
      " 8   currency      340 non-null    object\n",
      " 9   box_office    340 non-null    object\n",
      " 10  runtime       1530 non-null   object\n",
      " 11  studio        494 non-null    object\n",
      "dtypes: int64(1), object(11)\n",
      "memory usage: 146.4+ KB\n"
     ]
    }
   ],
   "source": [
    "rt_info.info()"
   ]
  },
  {
   "cell_type": "code",
   "execution_count": 396,
   "metadata": {},
   "outputs": [],
   "source": [
    "rt_info.dropna(subset=['theater_date'],inplace=True)"
   ]
  },
  {
   "cell_type": "code",
   "execution_count": 397,
   "metadata": {},
   "outputs": [],
   "source": [
    "rt_info['genre'] = rt_info['genre'].str.replace(' ','').str.replace('|',' ').str.split()"
   ]
  },
  {
   "cell_type": "code",
   "execution_count": 398,
   "metadata": {},
   "outputs": [
    {
     "data": {
      "text/plain": [
       "DatetimeIndex(['1971-10-09', '2012-08-17', '1996-09-13', '1994-12-09',\n",
       "               '2000-03-03', '2002-01-11', '2006-04-27', '2010-06-30',\n",
       "               '1995-06-09', '2002-08-23',\n",
       "               ...\n",
       "               '2002-08-30', '1974-06-01', '1991-08-21', '1993-06-04',\n",
       "               '1999-06-30', '2006-08-18', '1993-07-23', '1962-01-01',\n",
       "               '1993-04-01', '2001-09-27'],\n",
       "              dtype='datetime64[ns]', name='theater_date', length=1201, freq=None)"
      ]
     },
     "execution_count": 398,
     "metadata": {},
     "output_type": "execute_result"
    }
   ],
   "source": [
    "rt_info['theater_date']\n",
    "pd.DatetimeIndex(rt_info.theater_date)"
   ]
  },
  {
   "cell_type": "code",
   "execution_count": 399,
   "metadata": {},
   "outputs": [],
   "source": [
    "rt_info['theater_date'] = pd.DatetimeIndex(rt_info.theater_date)"
   ]
  },
  {
   "cell_type": "code",
   "execution_count": 400,
   "metadata": {},
   "outputs": [],
   "source": [
    "rt_info['month'] = pd.DatetimeIndex(rt_info.theater_date).month\n",
    "rt_info['year'] = pd.DatetimeIndex(rt_info.theater_date).year\n",
    "rt_info['day'] = pd.DatetimeIndex(rt_info.theater_date).dayofweek"
   ]
  },
  {
   "cell_type": "code",
   "execution_count": 401,
   "metadata": {},
   "outputs": [],
   "source": [
    "rt_all_genres = []\n",
    "rt_unique_genres = []"
   ]
  },
  {
   "cell_type": "code",
   "execution_count": 402,
   "metadata": {},
   "outputs": [],
   "source": [
    "for n in rt_info['genre'].values:\n",
    "    rt_all_genres.extend(n)\n"
   ]
  },
  {
   "cell_type": "code",
   "execution_count": 403,
   "metadata": {},
   "outputs": [],
   "source": [
    "rt_unique_genres = set(rt_all_genres)"
   ]
  },
  {
   "cell_type": "code",
   "execution_count": 404,
   "metadata": {},
   "outputs": [],
   "source": [
    "genres_count = dict(zip(rt_unique_genres,np.zeros(len(rt_unique_genres))))"
   ]
  },
  {
   "cell_type": "code",
   "execution_count": 405,
   "metadata": {},
   "outputs": [],
   "source": [
    "for index,row in rt_info.iterrows():\n",
    "    for genre in genres_count:\n",
    "        if genre in row.genre:\n",
    "            genres_count[genre] += 1"
   ]
  },
  {
   "cell_type": "code",
   "execution_count": 406,
   "metadata": {},
   "outputs": [],
   "source": [
    "genres_sorted = {k: v for k, v in sorted(genres_count.items(), key=lambda item: item[1],reverse=True)}"
   ]
  },
  {
   "cell_type": "code",
   "execution_count": 407,
   "metadata": {},
   "outputs": [
    {
     "data": {
      "text/plain": [
       "<BarContainer object of 21 artists>"
      ]
     },
     "execution_count": 407,
     "metadata": {},
     "output_type": "execute_result"
    },
    {
     "data": {
      "image/png": "[encoded data removed]",
      "text/plain": [
       "<Figure size 1080x576 with 1 Axes>"
      ]
     },
     "metadata": {
      "needs_background": "light"
     },
     "output_type": "display_data"
    }
   ],
   "source": [
    "fig,ax = plt.subplots(figsize=(15,8),)\n",
    "ax.bar(genres_sorted.keys(),genres_sorted.values())"
   ]
  },
  {
   "cell_type": "code",
   "execution_count": 415,
   "metadata": {},
   "outputs": [
    {
     "data": {
      "text/plain": [
       "<AxesSubplot:xlabel='month'>"
      ]
     },
     "execution_count": 415,
     "metadata": {},
     "output_type": "execute_result"
    },
    {
     "data": {
      "image/png": "[encoded data removed]",
      "text/plain": [
       "<Figure size 432x288 with 1 Axes>"
      ]
     },
     "metadata": {
      "needs_background": "light"
     },
     "output_type": "display_data"
    }
   ],
   "source": [
    "rt_info.groupby('month').count()['id'].plot(kind='bar')"
   ]
  },
  {
   "cell_type": "markdown",
   "metadata": {},
   "source": [
    "# THE NUMBERS\n"
   ]
  },
  {
   "cell_type": "markdown",
   "metadata": {},
   "source": [
    "## Data Cleaning"
   ]
  },
  {
   "cell_type": "code",
   "execution_count": 29,
   "metadata": {},
   "outputs": [
    {
     "name": "stdout",
     "output_type": "stream",
     "text": [
      "<class 'pandas.core.frame.DataFrame'>\n",
      "RangeIndex: 5782 entries, 0 to 5781\n",
      "Data columns (total 6 columns):\n",
      " #   Column             Non-Null Count  Dtype \n",
      "---  ------             --------------  ----- \n",
      " 0   id                 5782 non-null   int64 \n",
      " 1   release_date       5782 non-null   object\n",
      " 2   movie              5782 non-null   object\n",
      " 3   production_budget  5782 non-null   object\n",
      " 4   domestic_gross     5782 non-null   object\n",
      " 5   worldwide_gross    5782 non-null   object\n",
      "dtypes: int64(1), object(5)\n",
      "memory usage: 271.2+ KB\n"
     ]
    }
   ],
   "source": [
    "tn_df.info()"
   ]
  },
  {
   "cell_type": "code",
   "execution_count": 154,
   "metadata": {},
   "outputs": [
    {
     "name": "stdout",
     "output_type": "stream",
     "text": [
      "<class 'pandas.core.frame.DataFrame'>\n",
      "RangeIndex: 5782 entries, 0 to 5781\n",
      "Data columns (total 10 columns):\n",
      " #   Column             Non-Null Count  Dtype         \n",
      "---  ------             --------------  -----         \n",
      " 0   id                 5782 non-null   int64         \n",
      " 1   release_date       5782 non-null   datetime64[ns]\n",
      " 2   movie              5782 non-null   object        \n",
      " 3   production_budget  5782 non-null   float64       \n",
      " 4   domestic_gross     5782 non-null   float64       \n",
      " 5   worldwide_gross    5782 non-null   float64       \n",
      " 6   year               5782 non-null   int64         \n",
      " 7   month              5782 non-null   int64         \n",
      " 8   day                5782 non-null   int64         \n",
      " 9   movie_id           5782 non-null   object        \n",
      "dtypes: datetime64[ns](1), float64(3), int64(4), object(2)\n",
      "memory usage: 451.8+ KB\n"
     ]
    }
   ],
   "source": [
    "tn_df.info()"
   ]
  },
  {
   "cell_type": "code",
   "execution_count": 145,
   "metadata": {},
   "outputs": [],
   "source": [
    "tn_df['release_date'] = pd.DatetimeIndex(tn_df['release_date'])"
   ]
  },
  {
   "cell_type": "code",
   "execution_count": 146,
   "metadata": {},
   "outputs": [],
   "source": [
    "tn_df['domestic_gross'] = tn_df['domestic_gross'].str.replace(',','')\n",
    "tn_df['domestic_gross'] = tn_df['domestic_gross'].str.replace('$','')\n",
    "tn_df['domestic_gross'] = tn_df['domestic_gross'].astype(float)"
   ]
  },
  {
   "cell_type": "code",
   "execution_count": 147,
   "metadata": {},
   "outputs": [],
   "source": [
    "tn_df['production_budget'] = tn_df['production_budget'].str.replace(',','')\n",
    "tn_df['production_budget'] = tn_df['production_budget'].str.replace('$','')\n",
    "tn_df['production_budget'] = tn_df['production_budget'].astype(float)"
   ]
  },
  {
   "cell_type": "code",
   "execution_count": 148,
   "metadata": {},
   "outputs": [],
   "source": [
    "tn_df['worldwide_gross'] = tn_df['worldwide_gross'].str.replace(',','')\n",
    "tn_df['worldwide_gross'] = tn_df['worldwide_gross'].str.replace('$','')\n",
    "tn_df['worldwide_gross'] = tn_df['worldwide_gross'].astype(float)"
   ]
  },
  {
   "cell_type": "code",
   "execution_count": 149,
   "metadata": {},
   "outputs": [
    {
     "data": {
      "text/html": [
       "<div>\n",
       "<style scoped>\n",
       "    .dataframe tbody tr th:only-of-type {\n",
       "        vertical-align: middle;\n",
       "    }\n",
       "\n",
       "    .dataframe tbody tr th {\n",
       "        vertical-align: top;\n",
       "    }\n",
       "\n",
       "    .dataframe thead th {\n",
       "        text-align: right;\n",
       "    }\n",
       "</style>\n",
       "<table border=\"1\" class=\"dataframe\">\n",
       "  <thead>\n",
       "    <tr style=\"text-align: right;\">\n",
       "      <th></th>\n",
       "      <th>id</th>\n",
       "      <th>release_date</th>\n",
       "      <th>movie</th>\n",
       "      <th>production_budget</th>\n",
       "      <th>domestic_gross</th>\n",
       "      <th>worldwide_gross</th>\n",
       "    </tr>\n",
       "  </thead>\n",
       "  <tbody>\n",
       "    <tr>\n",
       "      <th>243</th>\n",
       "      <td>44</td>\n",
       "      <td>2015-03-27</td>\n",
       "      <td>Home</td>\n",
       "      <td>130000000.0</td>\n",
       "      <td>177397510.0</td>\n",
       "      <td>385997896.0</td>\n",
       "    </tr>\n",
       "    <tr>\n",
       "      <th>3455</th>\n",
       "      <td>56</td>\n",
       "      <td>2009-06-05</td>\n",
       "      <td>Home</td>\n",
       "      <td>12000000.0</td>\n",
       "      <td>0.0</td>\n",
       "      <td>0.0</td>\n",
       "    </tr>\n",
       "    <tr>\n",
       "      <th>5459</th>\n",
       "      <td>60</td>\n",
       "      <td>2009-04-23</td>\n",
       "      <td>Home</td>\n",
       "      <td>500000.0</td>\n",
       "      <td>15433.0</td>\n",
       "      <td>44793168.0</td>\n",
       "    </tr>\n",
       "  </tbody>\n",
       "</table>\n",
       "</div>"
      ],
      "text/plain": [
       "      id release_date movie  production_budget  domestic_gross  \\\n",
       "243   44   2015-03-27  Home        130000000.0     177397510.0   \n",
       "3455  56   2009-06-05  Home         12000000.0             0.0   \n",
       "5459  60   2009-04-23  Home           500000.0         15433.0   \n",
       "\n",
       "      worldwide_gross  \n",
       "243       385997896.0  \n",
       "3455              0.0  \n",
       "5459       44793168.0  "
      ]
     },
     "execution_count": 149,
     "metadata": {},
     "output_type": "execute_result"
    }
   ],
   "source": [
    "tn_df[tn_df['movie'] == 'Home']"
   ]
  },
  {
   "cell_type": "code",
   "execution_count": 150,
   "metadata": {},
   "outputs": [],
   "source": [
    "tn_df['year'] = tn_df['release_date'].dt.year"
   ]
  },
  {
   "cell_type": "code",
   "execution_count": 151,
   "metadata": {},
   "outputs": [],
   "source": [
    "tn_df['month'] = tn_df['release_date'].dt.month"
   ]
  },
  {
   "cell_type": "code",
   "execution_count": 152,
   "metadata": {},
   "outputs": [],
   "source": [
    "tn_df['day'] = tn_df['release_date'].dt.dayofweek"
   ]
  },
  {
   "cell_type": "code",
   "execution_count": 196,
   "metadata": {},
   "outputs": [],
   "source": [
    "tn_df['movie_id'] = tn_df['movie'] + '_' + tn_df['year'].astype(str)"
   ]
  },
  {
   "cell_type": "code",
   "execution_count": 198,
   "metadata": {},
   "outputs": [
    {
     "data": {
      "text/html": [
       "<div>\n",
       "<style scoped>\n",
       "    .dataframe tbody tr th:only-of-type {\n",
       "        vertical-align: middle;\n",
       "    }\n",
       "\n",
       "    .dataframe tbody tr th {\n",
       "        vertical-align: top;\n",
       "    }\n",
       "\n",
       "    .dataframe thead th {\n",
       "        text-align: right;\n",
       "    }\n",
       "</style>\n",
       "<table border=\"1\" class=\"dataframe\">\n",
       "  <thead>\n",
       "    <tr style=\"text-align: right;\">\n",
       "      <th></th>\n",
       "      <th>id</th>\n",
       "      <th>release_date</th>\n",
       "      <th>movie</th>\n",
       "      <th>production_budget</th>\n",
       "      <th>domestic_gross</th>\n",
       "      <th>worldwide_gross</th>\n",
       "      <th>year</th>\n",
       "      <th>month</th>\n",
       "      <th>day</th>\n",
       "      <th>movie_id</th>\n",
       "    </tr>\n",
       "  </thead>\n",
       "  <tbody>\n",
       "    <tr>\n",
       "      <th>3455</th>\n",
       "      <td>56</td>\n",
       "      <td>2009-06-05</td>\n",
       "      <td>Home</td>\n",
       "      <td>12000000.0</td>\n",
       "      <td>0.0</td>\n",
       "      <td>0.0</td>\n",
       "      <td>2009</td>\n",
       "      <td>6</td>\n",
       "      <td>4</td>\n",
       "      <td>Home_2009</td>\n",
       "    </tr>\n",
       "    <tr>\n",
       "      <th>5459</th>\n",
       "      <td>60</td>\n",
       "      <td>2009-04-23</td>\n",
       "      <td>Home</td>\n",
       "      <td>500000.0</td>\n",
       "      <td>15433.0</td>\n",
       "      <td>44793168.0</td>\n",
       "      <td>2009</td>\n",
       "      <td>4</td>\n",
       "      <td>3</td>\n",
       "      <td>Home_2009</td>\n",
       "    </tr>\n",
       "  </tbody>\n",
       "</table>\n",
       "</div>"
      ],
      "text/plain": [
       "      id release_date movie  production_budget  domestic_gross  \\\n",
       "3455  56   2009-06-05  Home         12000000.0             0.0   \n",
       "5459  60   2009-04-23  Home           500000.0         15433.0   \n",
       "\n",
       "      worldwide_gross  year  month  day   movie_id  \n",
       "3455              0.0  2009      6    4  Home_2009  \n",
       "5459       44793168.0  2009      4    3  Home_2009  "
      ]
     },
     "execution_count": 198,
     "metadata": {},
     "output_type": "execute_result"
    }
   ],
   "source": [
    "tn_df[tn_df.movie_id == 'Home_2009']"
   ]
  },
  {
   "cell_type": "code",
   "execution_count": 69,
   "metadata": {},
   "outputs": [],
   "source": [
    "tn_df['worldwide_net'] = tn_df['worldwide_gross'] - tn_df['production_budget']\n",
    "tn_df['domestic_net'] = tn_df['domestic_gross'] - tn_df['production_budget']"
   ]
  },
  {
   "cell_type": "markdown",
   "metadata": {},
   "source": [
    "## What is the average worldwide net profit per movie released by month? This analysis shows that, by movie per month, that the Summer months and November are the optimal months to release new content."
   ]
  },
  {
   "cell_type": "code",
   "execution_count": 103,
   "metadata": {},
   "outputs": [],
   "source": [
    "tn_worldnet_per_movie_byMonth = tn_df.groupby('month').sum()['worldwide_net'].values/\\\n",
    "tn_df.groupby('month').count()['movie'].values"
   ]
  },
  {
   "cell_type": "code",
   "execution_count": 106,
   "metadata": {},
   "outputs": [
    {
     "data": {
      "text/plain": [
       "array([2.57203341e+07, 4.34981068e+07, 4.98512924e+07, 3.61174282e+07,\n",
       "       1.15132808e+08, 9.94239110e+07, 9.84174584e+07, 3.54223169e+07,\n",
       "       2.48807849e+07, 2.90719038e+07, 9.31415693e+07, 6.84415653e+07])"
      ]
     },
     "execution_count": 106,
     "metadata": {},
     "output_type": "execute_result"
    }
   ],
   "source": [
    "tn_worldnet_per_movie_byMonth"
   ]
  },
  {
   "cell_type": "code",
   "execution_count": 105,
   "metadata": {},
   "outputs": [
    {
     "data": {
      "text/plain": [
       "<BarContainer object of 12 artists>"
      ]
     },
     "execution_count": 105,
     "metadata": {},
     "output_type": "execute_result"
    },
    {
     "data": {
      "image/png": "[encoded data removed]",
      "text/plain": [
       "<Figure size 1080x1080 with 1 Axes>"
      ]
     },
     "metadata": {
      "needs_background": "light"
     },
     "output_type": "display_data"
    }
   ],
   "source": [
    "fig,ax = plt.subplots(figsize = (15,15))\n",
    "ax.bar(month_map.values(),tn_worldnet_per_movie_byMonth/1000000)"
   ]
  },
  {
   "cell_type": "code",
   "execution_count": null,
   "metadata": {},
   "outputs": [],
   "source": []
  },
  {
   "cell_type": "markdown",
   "metadata": {},
   "source": [
    "## Exploratory Data Analysis"
   ]
  },
  {
   "cell_type": "markdown",
   "metadata": {},
   "source": [
    "## What is the worldwide gross with the month of the year? Maybe rolling out new original content should match the month of the year that yields the highest profit margin?"
   ]
  },
  {
   "cell_type": "code",
   "execution_count": 46,
   "metadata": {},
   "outputs": [],
   "source": [
    "month_map = {1:'January',2:'February',3:'March',4:'April',5:'May',6:'June',7:'July',8:'August',9:'September',10:'October',11:'November',12:'December' }\n",
    "day_map = {0 : 'Monday',1:'Tuesday',2:'Wednesday',3:'Thursday',4:'Friday',5:'Saturday',6:'Sunday'}"
   ]
  },
  {
   "cell_type": "code",
   "execution_count": 60,
   "metadata": {},
   "outputs": [
    {
     "data": {
      "text/plain": [
       "<matplotlib.legend.Legend at 0x1b70316fcd0>"
      ]
     },
     "execution_count": 60,
     "metadata": {},
     "output_type": "execute_result"
    },
    {
     "data": {
      "image/png": "[encoded data removed]",
      "text/plain": [
       "<Figure size 1080x1080 with 1 Axes>"
      ]
     },
     "metadata": {
      "needs_background": "light"
     },
     "output_type": "display_data"
    }
   ],
   "source": [
    "fig,ax = plt.subplots(figsize = (15,15))\n",
    "ax.bar(month_map.values(),tn_df.groupby('month').sum()['worldwide_net_per_movie'].values/1000000)\n",
    "ax.bar(month_map.values(),tn_df.groupby('month').sum()['domestic_net_per_movie'].values/1000000)\n",
    "ax.set_title('Worldwide and Domestic Net Profit by Release Month')\n",
    "ax.set_ylabel('Total Gross Profit (In Millions)')\n",
    "ax.legend(['World Gross','Domestic Gross'],loc='upper left')"
   ]
  },
  {
   "cell_type": "markdown",
   "metadata": {},
   "source": [
    "## What is the worldwide and domestic gross by the day of the week. Maybe rolling out new movies or episodes on Friday would be better than rolling out in the middle of the week."
   ]
  },
  {
   "cell_type": "code",
   "execution_count": 78,
   "metadata": {},
   "outputs": [
    {
     "data": {
      "text/plain": [
       "<matplotlib.legend.Legend at 0x1b701ffa7f0>"
      ]
     },
     "execution_count": 78,
     "metadata": {},
     "output_type": "execute_result"
    },
    {
     "data": {
      "image/png": "[encoded data removed]",
      "text/plain": [
       "<Figure size 1080x1080 with 1 Axes>"
      ]
     },
     "metadata": {
      "needs_background": "light"
     },
     "output_type": "display_data"
    }
   ],
   "source": [
    "fig,ax = plt.subplots(figsize = (15,15))\n",
    "ax.bar(day_map.values(),tn_df.groupby('day').sum()['worldwide_gross'].values/1000000000)\n",
    "ax.bar(day_map.values(),tn_df.groupby('day').sum()['domestic_gross'].values/1000000000)\n",
    "ax.set_title('Worldwide and Domestic Gross Profic by Release Day of the Week')\n",
    "ax.set_ylabel('Total Gross Profit (In Billions)')\n",
    "ax.legend(['World Gross','Domestic Gross'],loc='upper left')"
   ]
  },
  {
   "cell_type": "code",
   "execution_count": 79,
   "metadata": {},
   "outputs": [],
   "source": [
    "bom_tojoin = bom_clean.set_index('title')\n",
    "tn_tojoin = tn_df.set_index('movie')"
   ]
  },
  {
   "cell_type": "code",
   "execution_count": 80,
   "metadata": {},
   "outputs": [
    {
     "data": {
      "text/plain": [
       "<matplotlib.collections.PathCollection at 0x1b700b60d00>"
      ]
     },
     "execution_count": 80,
     "metadata": {},
     "output_type": "execute_result"
    },
    {
     "data": {
      "image/png": "[encoded data removed]",
      "text/plain": [
       "<Figure size 1080x1080 with 1 Axes>"
      ]
     },
     "metadata": {
      "needs_background": "light"
     },
     "output_type": "display_data"
    }
   ],
   "source": [
    "fig,ax = plt.subplots(figsize=(15,15))\n",
    "ax.scatter(tn_df['production_budget'],tn_df['worldwide_gross'])"
   ]
  },
  {
   "cell_type": "markdown",
   "metadata": {},
   "source": [
    "## Running correlation between budget of a movie and it's grossing income."
   ]
  },
  {
   "cell_type": "code",
   "execution_count": 81,
   "metadata": {},
   "outputs": [
    {
     "name": "stdout",
     "output_type": "stream",
     "text": [
      "Correlation between budget and gross\n"
     ]
    },
    {
     "data": {
      "text/html": [
       "<div>\n",
       "<style scoped>\n",
       "    .dataframe tbody tr th:only-of-type {\n",
       "        vertical-align: middle;\n",
       "    }\n",
       "\n",
       "    .dataframe tbody tr th {\n",
       "        vertical-align: top;\n",
       "    }\n",
       "\n",
       "    .dataframe thead th {\n",
       "        text-align: right;\n",
       "    }\n",
       "</style>\n",
       "<table border=\"1\" class=\"dataframe\">\n",
       "  <thead>\n",
       "    <tr style=\"text-align: right;\">\n",
       "      <th></th>\n",
       "      <th>0</th>\n",
       "      <th>1</th>\n",
       "    </tr>\n",
       "  </thead>\n",
       "  <tbody>\n",
       "    <tr>\n",
       "      <th>world</th>\n",
       "      <td>0.748306</td>\n",
       "      <td>NaN</td>\n",
       "    </tr>\n",
       "    <tr>\n",
       "      <th>domestic</th>\n",
       "      <td>NaN</td>\n",
       "      <td>0.685682</td>\n",
       "    </tr>\n",
       "  </tbody>\n",
       "</table>\n",
       "</div>"
      ],
      "text/plain": [
       "                 0         1\n",
       "world     0.748306       NaN\n",
       "domestic       NaN  0.685682"
      ]
     },
     "execution_count": 81,
     "metadata": {},
     "output_type": "execute_result"
    }
   ],
   "source": [
    "print('Correlation between budget and gross')\n",
    "pd.DataFrame([{'world':tn_df['worldwide_gross'].corr(tn_df['production_budget'])},\\\n",
    "{'domestic':tn_df['domestic_gross'].corr(tn_df['production_budget'])}]).T"
   ]
  },
  {
   "cell_type": "code",
   "execution_count": 82,
   "metadata": {},
   "outputs": [
    {
     "data": {
      "text/plain": [
       "<matplotlib.collections.PathCollection at 0x1b700bd5dc0>"
      ]
     },
     "execution_count": 82,
     "metadata": {},
     "output_type": "execute_result"
    },
    {
     "data": {
      "image/png": "[encoded data removed]",
      "text/plain": [
       "<Figure size 1080x1080 with 1 Axes>"
      ]
     },
     "metadata": {
      "needs_background": "light"
     },
     "output_type": "display_data"
    }
   ],
   "source": [
    "fig,ax = plt.subplots(figsize=(15,15))\n",
    "ax.scatter(tn_df['domestic_gross'],tn_df['production_budget'])"
   ]
  },
  {
   "cell_type": "code",
   "execution_count": 83,
   "metadata": {},
   "outputs": [],
   "source": [
    "tn_bom_joined = bom_tojoin.join(tn_tojoin,how='inner',lsuffix='_1')"
   ]
  },
  {
   "cell_type": "code",
   "execution_count": 84,
   "metadata": {},
   "outputs": [
    {
     "name": "stdout",
     "output_type": "stream",
     "text": [
      "<class 'pandas.core.frame.DataFrame'>\n",
      "Index: 1246 entries, 10 Cloverfield Lane to mother!\n",
      "Data columns (total 16 columns):\n",
      " #   Column             Non-Null Count  Dtype         \n",
      "---  ------             --------------  -----         \n",
      " 0   index              1246 non-null   int64         \n",
      " 1   studio             1246 non-null   object        \n",
      " 2   domestic_gross_1   1244 non-null   float64       \n",
      " 3   foreign_gross      1085 non-null   float64       \n",
      " 4   year_1             1246 non-null   int64         \n",
      " 5   total_gross        1246 non-null   float64       \n",
      " 6   id                 1246 non-null   int64         \n",
      " 7   release_date       1246 non-null   datetime64[ns]\n",
      " 8   production_budget  1246 non-null   float64       \n",
      " 9   domestic_gross     1246 non-null   float64       \n",
      " 10  worldwide_gross    1246 non-null   float64       \n",
      " 11  year               1246 non-null   int64         \n",
      " 12  month              1246 non-null   int64         \n",
      " 13  day                1246 non-null   int64         \n",
      " 14  worldwide_net      1246 non-null   float64       \n",
      " 15  domestic_net       1246 non-null   float64       \n",
      "dtypes: datetime64[ns](1), float64(8), int64(6), object(1)\n",
      "memory usage: 165.5+ KB\n"
     ]
    }
   ],
   "source": [
    "tn_bom_joined.info()"
   ]
  },
  {
   "cell_type": "code",
   "execution_count": 85,
   "metadata": {},
   "outputs": [
    {
     "data": {
      "text/plain": [
       "array(['Par.', 'WB', 'Fox', 'RTWC', 'Uni.', 'Sony', 'Rela.', 'Anch.',\n",
       "       'Sum.', 'STX', 'SPC', 'A24', 'ORF', 'RAtt.', 'MNE', 'Focus', 'LGF',\n",
       "       'Cleopatra', 'P/DW', 'BG', 'BV', 'UTV', 'NM', 'IFC', 'Kino',\n",
       "       'LG/S', 'Magn.', 'Affirm', 'Studio 8', 'CE', 'VE', 'P4', 'W/Dim.',\n",
       "       'SGem', 'Wein.', 'GrtIndia', 'BSC', 'TriS', 'Eros', 'CBS', 'ALP',\n",
       "       'Over.', 'ParV', 'ATO', 'NFC', 'Cohen', 'PNT', 'MGM', 'BST', 'FD',\n",
       "       'Annapurna', 'Yash', 'PFR', 'OMNI/FSR', 'Free', 'Drft.', 'ENTMP',\n",
       "       'Gold.', 'WHE', 'IM', 'Global Road', 'Orch.', 'Neon', 'MBox',\n",
       "       'BH Tilt', 'DR', 'LD', 'Relbig.', 'LGP', 'Jan.', 'First', 'Viv.',\n",
       "       'Mont.', 'RLJ', 'Osci.', 'PH', 'EC', 'CJ', 'Trib.', 'SMod', 'IVP',\n",
       "       '3D', 'TFA', 'Alc', 'Amazon', 'ELS', 'Scre.', 'Strand', 'Saban',\n",
       "       'EOne', 'IW', 'App.', 'GK', 'Mira.', 'BBC', 'FCW', 'KE'],\n",
       "      dtype=object)"
      ]
     },
     "execution_count": 85,
     "metadata": {},
     "output_type": "execute_result"
    }
   ],
   "source": [
    "tn_bom_joined['studio'].unique()"
   ]
  },
  {
   "cell_type": "code",
   "execution_count": 86,
   "metadata": {},
   "outputs": [
    {
     "name": "stdout",
     "output_type": "stream",
     "text": [
      "<class 'pandas.core.frame.DataFrame'>\n",
      "Index: 72 entries, A Wrinkle in Time to Zootopia\n",
      "Data columns (total 16 columns):\n",
      " #   Column             Non-Null Count  Dtype         \n",
      "---  ------             --------------  -----         \n",
      " 0   index              72 non-null     int64         \n",
      " 1   studio             72 non-null     object        \n",
      " 2   domestic_gross_1   72 non-null     float64       \n",
      " 3   foreign_gross      70 non-null     float64       \n",
      " 4   year_1             72 non-null     int64         \n",
      " 5   total_gross        72 non-null     float64       \n",
      " 6   id                 72 non-null     int64         \n",
      " 7   release_date       72 non-null     datetime64[ns]\n",
      " 8   production_budget  72 non-null     float64       \n",
      " 9   domestic_gross     72 non-null     float64       \n",
      " 10  worldwide_gross    72 non-null     float64       \n",
      " 11  year               72 non-null     int64         \n",
      " 12  month              72 non-null     int64         \n",
      " 13  day                72 non-null     int64         \n",
      " 14  worldwide_net      72 non-null     float64       \n",
      " 15  domestic_net       72 non-null     float64       \n",
      "dtypes: datetime64[ns](1), float64(8), int64(6), object(1)\n",
      "memory usage: 9.6+ KB\n"
     ]
    }
   ],
   "source": [
    "disney_movies = tn_bom_joined[tn_bom_joined['studio'] == 'BV']\n",
    "disney_movies.info()"
   ]
  },
  {
   "cell_type": "code",
   "execution_count": null,
   "metadata": {},
   "outputs": [],
   "source": []
  },
  {
   "cell_type": "code",
   "execution_count": 87,
   "metadata": {},
   "outputs": [
    {
     "data": {
      "text/plain": [
       "<matplotlib.legend.Legend at 0x1b700c5f9a0>"
      ]
     },
     "execution_count": 87,
     "metadata": {},
     "output_type": "execute_result"
    },
    {
     "data": {
      "image/png": "[encoded data removed]",
      "text/plain": [
       "<Figure size 1080x1080 with 1 Axes>"
      ]
     },
     "metadata": {
      "needs_background": "light"
     },
     "output_type": "display_data"
    }
   ],
   "source": [
    "fig,ax = plt.subplots(figsize = (15,15))\n",
    "ax.bar(month_map.values(),disney_movies.groupby('month').sum()['worldwide_gross'].values/1000000000)\n",
    "ax.bar(month_map.values(),disney_movies.groupby('month').sum()['domestic_gross'].values/1000000000)\n",
    "ax.set_title('Worldwide and Domestic Gross Profic by Release Month: Disney')\n",
    "ax.set_ylabel('Total Gross Profit (In Billions)')\n",
    "ax.legend(['World Gross','Domestic Gross'],loc='upper left')\n",
    "\n"
   ]
  },
  {
   "cell_type": "markdown",
   "metadata": {},
   "source": [
    "### It looks like Disney will mainly release movies at the beginning of Summer and in November for christmas movies. Following the general trend."
   ]
  },
  {
   "cell_type": "code",
   "execution_count": 88,
   "metadata": {},
   "outputs": [],
   "source": [
    "gross_by_day = disney_movies.groupby('day').sum()"
   ]
  },
  {
   "cell_type": "code",
   "execution_count": 89,
   "metadata": {},
   "outputs": [
    {
     "data": {
      "text/html": [
       "<div>\n",
       "<style scoped>\n",
       "    .dataframe tbody tr th:only-of-type {\n",
       "        vertical-align: middle;\n",
       "    }\n",
       "\n",
       "    .dataframe tbody tr th {\n",
       "        vertical-align: top;\n",
       "    }\n",
       "\n",
       "    .dataframe thead th {\n",
       "        text-align: right;\n",
       "    }\n",
       "</style>\n",
       "<table border=\"1\" class=\"dataframe\">\n",
       "  <thead>\n",
       "    <tr style=\"text-align: right;\">\n",
       "      <th></th>\n",
       "      <th>index</th>\n",
       "      <th>domestic_gross_1</th>\n",
       "      <th>foreign_gross</th>\n",
       "      <th>year_1</th>\n",
       "      <th>total_gross</th>\n",
       "      <th>id</th>\n",
       "      <th>production_budget</th>\n",
       "      <th>domestic_gross</th>\n",
       "      <th>worldwide_gross</th>\n",
       "      <th>year</th>\n",
       "      <th>month</th>\n",
       "      <th>worldwide_net</th>\n",
       "      <th>domestic_net</th>\n",
       "    </tr>\n",
       "    <tr>\n",
       "      <th>day</th>\n",
       "      <th></th>\n",
       "      <th></th>\n",
       "      <th></th>\n",
       "      <th></th>\n",
       "      <th></th>\n",
       "      <th></th>\n",
       "      <th></th>\n",
       "      <th></th>\n",
       "      <th></th>\n",
       "      <th></th>\n",
       "      <th></th>\n",
       "      <th></th>\n",
       "      <th></th>\n",
       "    </tr>\n",
       "  </thead>\n",
       "  <tbody>\n",
       "    <tr>\n",
       "      <th>1</th>\n",
       "      <td>1157</td>\n",
       "      <td>8.930000e+07</td>\n",
       "      <td>1.712000e+08</td>\n",
       "      <td>2013</td>\n",
       "      <td>2.605000e+08</td>\n",
       "      <td>13</td>\n",
       "      <td>2.750000e+08</td>\n",
       "      <td>8.930212e+07</td>\n",
       "      <td>2.600021e+08</td>\n",
       "      <td>2013</td>\n",
       "      <td>7</td>\n",
       "      <td>-1.499788e+07</td>\n",
       "      <td>-1.856979e+08</td>\n",
       "    </tr>\n",
       "    <tr>\n",
       "      <th>2</th>\n",
       "      <td>11759</td>\n",
       "      <td>1.390800e+09</td>\n",
       "      <td>2.075600e+09</td>\n",
       "      <td>20130</td>\n",
       "      <td>3.466400e+09</td>\n",
       "      <td>419</td>\n",
       "      <td>1.192500e+09</td>\n",
       "      <td>1.390637e+09</td>\n",
       "      <td>3.437309e+09</td>\n",
       "      <td>20130</td>\n",
       "      <td>93</td>\n",
       "      <td>2.244809e+09</td>\n",
       "      <td>1.981369e+08</td>\n",
       "    </tr>\n",
       "    <tr>\n",
       "      <th>3</th>\n",
       "      <td>1589</td>\n",
       "      <td>1.474000e+08</td>\n",
       "      <td>1.483000e+08</td>\n",
       "      <td>4024</td>\n",
       "      <td>2.957000e+08</td>\n",
       "      <td>79</td>\n",
       "      <td>1.362000e+08</td>\n",
       "      <td>1.474247e+08</td>\n",
       "      <td>2.999039e+08</td>\n",
       "      <td>4024</td>\n",
       "      <td>16</td>\n",
       "      <td>1.637039e+08</td>\n",
       "      <td>1.122469e+07</td>\n",
       "    </tr>\n",
       "    <tr>\n",
       "      <th>4</th>\n",
       "      <td>94784</td>\n",
       "      <td>1.121950e+10</td>\n",
       "      <td>1.661574e+10</td>\n",
       "      <td>116823</td>\n",
       "      <td>2.783524e+10</td>\n",
       "      <td>2366</td>\n",
       "      <td>7.777100e+09</td>\n",
       "      <td>1.121890e+10</td>\n",
       "      <td>2.913199e+10</td>\n",
       "      <td>116823</td>\n",
       "      <td>395</td>\n",
       "      <td>2.135489e+10</td>\n",
       "      <td>3.441795e+09</td>\n",
       "    </tr>\n",
       "    <tr>\n",
       "      <th>6</th>\n",
       "      <td>366</td>\n",
       "      <td>7.990000e+07</td>\n",
       "      <td>9.770000e+07</td>\n",
       "      <td>2011</td>\n",
       "      <td>1.776000e+08</td>\n",
       "      <td>12</td>\n",
       "      <td>7.000000e+07</td>\n",
       "      <td>7.988336e+07</td>\n",
       "      <td>1.568155e+08</td>\n",
       "      <td>2011</td>\n",
       "      <td>12</td>\n",
       "      <td>8.681553e+07</td>\n",
       "      <td>9.883359e+06</td>\n",
       "    </tr>\n",
       "  </tbody>\n",
       "</table>\n",
       "</div>"
      ],
      "text/plain": [
       "     index  domestic_gross_1  foreign_gross  year_1   total_gross    id  \\\n",
       "day                                                                       \n",
       "1     1157      8.930000e+07   1.712000e+08    2013  2.605000e+08    13   \n",
       "2    11759      1.390800e+09   2.075600e+09   20130  3.466400e+09   419   \n",
       "3     1589      1.474000e+08   1.483000e+08    4024  2.957000e+08    79   \n",
       "4    94784      1.121950e+10   1.661574e+10  116823  2.783524e+10  2366   \n",
       "6      366      7.990000e+07   9.770000e+07    2011  1.776000e+08    12   \n",
       "\n",
       "     production_budget  domestic_gross  worldwide_gross    year  month  \\\n",
       "day                                                                      \n",
       "1         2.750000e+08    8.930212e+07     2.600021e+08    2013      7   \n",
       "2         1.192500e+09    1.390637e+09     3.437309e+09   20130     93   \n",
       "3         1.362000e+08    1.474247e+08     2.999039e+08    4024     16   \n",
       "4         7.777100e+09    1.121890e+10     2.913199e+10  116823    395   \n",
       "6         7.000000e+07    7.988336e+07     1.568155e+08    2011     12   \n",
       "\n",
       "     worldwide_net  domestic_net  \n",
       "day                               \n",
       "1    -1.499788e+07 -1.856979e+08  \n",
       "2     2.244809e+09  1.981369e+08  \n",
       "3     1.637039e+08  1.122469e+07  \n",
       "4     2.135489e+10  3.441795e+09  \n",
       "6     8.681553e+07  9.883359e+06  "
      ]
     },
     "execution_count": 89,
     "metadata": {},
     "output_type": "execute_result"
    }
   ],
   "source": [
    "gross_by_day"
   ]
  },
  {
   "cell_type": "code",
   "execution_count": 90,
   "metadata": {},
   "outputs": [],
   "source": [
    "worldGross_by_day = gross_by_day['worldwide_gross'].append(pd.Series([0,0],index=[0,5])).sort_index()"
   ]
  },
  {
   "cell_type": "code",
   "execution_count": 91,
   "metadata": {},
   "outputs": [],
   "source": [
    "domestGross_by_day = gross_by_day['domestic_gross'].append(pd.Series([0,0],index=[0,5])).sort_index()"
   ]
  },
  {
   "cell_type": "code",
   "execution_count": 92,
   "metadata": {},
   "outputs": [
    {
     "data": {
      "text/plain": [
       "<matplotlib.legend.Legend at 0x1b700cd1040>"
      ]
     },
     "execution_count": 92,
     "metadata": {},
     "output_type": "execute_result"
    },
    {
     "data": {
      "image/png": "[encoded data removed]",
      "text/plain": [
       "<Figure size 1080x1080 with 1 Axes>"
      ]
     },
     "metadata": {
      "needs_background": "light"
     },
     "output_type": "display_data"
    }
   ],
   "source": [
    "fig,ax = plt.subplots(figsize = (15,15))\n",
    "ax.bar(day_map.values(),worldGross_by_day.values/1000000000)\n",
    "ax.bar(day_map.values(),domestGross_by_day.values/1000000000)\n",
    "ax.set_title('Worldwide and Domestic Gross Profit by Release Day of the Week: Disney')\n",
    "ax.set_ylabel('Total Gross Profit (In Billions)')\n",
    "ax.legend(['World Gross','Domestic Gross'],loc='upper left')"
   ]
  },
  {
   "cell_type": "markdown",
   "metadata": {},
   "source": [
    "## Looking at joined tables iMBD and The Numbers"
   ]
  },
  {
   "cell_type": "markdown",
   "metadata": {},
   "source": [
    "### Looking at the genre of movie by release month"
   ]
  },
  {
   "cell_type": "code",
   "execution_count": 213,
   "metadata": {},
   "outputs": [
    {
     "name": "stdout",
     "output_type": "stream",
     "text": [
      "<class 'pandas.core.frame.DataFrame'>\n",
      "Int64Index: 139303 entries, 0 to 146143\n",
      "Data columns (total 7 columns):\n",
      " #   Column           Non-Null Count   Dtype  \n",
      "---  ------           --------------   -----  \n",
      " 0   tconst           139303 non-null  object \n",
      " 1   primary_title    139303 non-null  object \n",
      " 2   original_title   139302 non-null  object \n",
      " 3   start_year       139303 non-null  int64  \n",
      " 4   runtime_minutes  111096 non-null  float64\n",
      " 5   genres           139303 non-null  object \n",
      " 6   movie_id         139302 non-null  object \n",
      "dtypes: float64(1), int64(1), object(5)\n",
      "memory usage: 8.5+ MB\n"
     ]
    }
   ],
   "source": [
    "data_imdbb.info()"
   ]
  },
  {
   "cell_type": "code",
   "execution_count": 214,
   "metadata": {},
   "outputs": [
    {
     "name": "stdout",
     "output_type": "stream",
     "text": [
      "<class 'pandas.core.frame.DataFrame'>\n",
      "RangeIndex: 5782 entries, 0 to 5781\n",
      "Data columns (total 10 columns):\n",
      " #   Column             Non-Null Count  Dtype         \n",
      "---  ------             --------------  -----         \n",
      " 0   id                 5782 non-null   int64         \n",
      " 1   release_date       5782 non-null   datetime64[ns]\n",
      " 2   movie              5782 non-null   object        \n",
      " 3   production_budget  5782 non-null   float64       \n",
      " 4   domestic_gross     5782 non-null   float64       \n",
      " 5   worldwide_gross    5782 non-null   float64       \n",
      " 6   year               5782 non-null   int64         \n",
      " 7   month              5782 non-null   int64         \n",
      " 8   day                5782 non-null   int64         \n",
      " 9   movie_id           5782 non-null   object        \n",
      "dtypes: datetime64[ns](1), float64(3), int64(4), object(2)\n",
      "memory usage: 451.8+ KB\n"
     ]
    }
   ],
   "source": [
    "tn_df.info()"
   ]
  },
  {
   "cell_type": "code",
   "execution_count": 229,
   "metadata": {},
   "outputs": [],
   "source": [
    "tn_imdb_joined = tn_df.set_index('movie_id').join(data_imdbb.set_index('movie_id'),how='inner')"
   ]
  },
  {
   "cell_type": "code",
   "execution_count": 235,
   "metadata": {},
   "outputs": [
    {
     "name": "stdout",
     "output_type": "stream",
     "text": [
      "<class 'pandas.core.frame.DataFrame'>\n",
      "Index: 1484 entries, #Horror_2015 to xXx: Return of Xander Cage_2017\n",
      "Data columns (total 15 columns):\n",
      " #   Column             Non-Null Count  Dtype         \n",
      "---  ------             --------------  -----         \n",
      " 0   id                 1484 non-null   int64         \n",
      " 1   release_date       1484 non-null   datetime64[ns]\n",
      " 2   movie              1484 non-null   object        \n",
      " 3   production_budget  1484 non-null   float64       \n",
      " 4   domestic_gross     1484 non-null   float64       \n",
      " 5   worldwide_gross    1484 non-null   float64       \n",
      " 6   year               1484 non-null   int64         \n",
      " 7   month              1484 non-null   int64         \n",
      " 8   day                1484 non-null   int64         \n",
      " 9   tconst             1484 non-null   object        \n",
      " 10  primary_title      1484 non-null   object        \n",
      " 11  original_title     1484 non-null   object        \n",
      " 12  start_year         1484 non-null   int64         \n",
      " 13  runtime_minutes    1467 non-null   float64       \n",
      " 14  genres             1484 non-null   object        \n",
      "dtypes: datetime64[ns](1), float64(4), int64(5), object(5)\n",
      "memory usage: 225.5+ KB\n"
     ]
    }
   ],
   "source": [
    "tn_imdb_joined.info()"
   ]
  },
  {
   "cell_type": "code",
   "execution_count": 233,
   "metadata": {},
   "outputs": [],
   "source": [
    "tn_imdb_joined['genres'] = tn_imdb_joined['genres'].str.replace(',',' ').str.split()"
   ]
  },
  {
   "cell_type": "code",
   "execution_count": 234,
   "metadata": {},
   "outputs": [
    {
     "data": {
      "text/plain": [
       "movie_id\n",
       "#Horror_2015                               [Crime, Drama, Horror]\n",
       "10 Cloverfield Lane_2016                 [Drama, Horror, Mystery]\n",
       "10 Days in a Madhouse_2015                                [Drama]\n",
       "12 Strong_2018                           [Action, Drama, History]\n",
       "12 Years a Slave_2013                 [Biography, Drama, History]\n",
       "                                                ...              \n",
       "Zookeeper_2011                          [Comedy, Family, Romance]\n",
       "Zoolander 2_2016                                         [Comedy]\n",
       "Zootopia_2016                      [Adventure, Animation, Comedy]\n",
       "Zulu_2013                                [Crime, Drama, Thriller]\n",
       "xXx: Return of Xander Cage_2017     [Action, Adventure, Thriller]\n",
       "Name: genres, Length: 1484, dtype: object"
      ]
     },
     "execution_count": 234,
     "metadata": {},
     "output_type": "execute_result"
    }
   ],
   "source": [
    "tn_imdb_joined['genres']"
   ]
  },
  {
   "cell_type": "code",
   "execution_count": null,
   "metadata": {},
   "outputs": [],
   "source": []
  },
  {
   "cell_type": "code",
   "execution_count": null,
   "metadata": {},
   "outputs": [],
   "source": []
  },
  {
   "cell_type": "code",
   "execution_count": null,
   "metadata": {},
   "outputs": [],
   "source": []
  },
  {
   "cell_type": "code",
   "execution_count": null,
   "metadata": {},
   "outputs": [],
   "source": []
  },
  {
   "cell_type": "code",
   "execution_count": null,
   "metadata": {},
   "outputs": [],
   "source": []
  },
  {
   "cell_type": "code",
   "execution_count": null,
   "metadata": {},
   "outputs": [],
   "source": []
  },
  {
   "cell_type": "code",
   "execution_count": null,
   "metadata": {},
   "outputs": [],
   "source": []
  },
  {
   "cell_type": "code",
   "execution_count": null,
   "metadata": {},
   "outputs": [],
   "source": []
  }
 ],
 "metadata": {
  "kernelspec": {
   "display_name": "Python (learn-env)",
   "language": "python",
   "name": "learn-env"
  },
  "language_info": {
   "codemirror_mode": {
    "name": "ipython",
    "version": 3
   },
   "file_extension": ".py",
   "mimetype": "text/x-python",
   "name": "python",
   "nbconvert_exporter": "python",
   "pygments_lexer": "ipython3",
   "version": "3.8.5"
  }
 },
 "nbformat": 4,
 "nbformat_minor": 2
}
