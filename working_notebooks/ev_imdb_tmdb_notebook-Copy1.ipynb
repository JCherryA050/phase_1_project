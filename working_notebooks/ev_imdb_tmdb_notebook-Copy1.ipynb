{
 "cells": [
  {
   "cell_type": "markdown",
   "metadata": {},
   "source": [
    "## Microsoft's Studios: Rise to the Surface"
   ]
  },
  {
   "cell_type": "markdown",
   "metadata": {},
   "source": [
    "\n",
    "In this notebook, we will use data from Box Office Mojo, IMDB, Rotten Tomatoes, TheMovieDB, and The Numbers to gain insight on how the new Microsoft Movie studio should proceed in content creation to maximize ratings, reviews, and profit. The data we are using is important and helpful to this case because the information within the data can help us narrow down which genres of movies were well received and yielded higher ratings and grossed higher earnings."
   ]
  },
  {
   "cell_type": "markdown",
   "metadata": {},
   "source": [
    "So it looks like we need to join/merge the different tables so we can get the names/ratings/reviews etc matching\n",
    "\n",
    "ratings with titles on tconstant\n",
    "\n",
    "once we have the titles we can join the other sets that have the movie names"
   ]
  },
  {
   "cell_type": "markdown",
   "metadata": {},
   "source": [
    "## business understanding top top explaining the goal and identify questions\n",
    "\n",
    "diff sections\n",
    "explain where the data comes from/source\n",
    "prep explain cleaning\n",
    "analysis/understanding - recs\n",
    "conclusion section tying it back in to general overview/main question\n"
   ]
  },
  {
   "cell_type": "code",
   "execution_count": 2,
   "metadata": {},
   "outputs": [],
   "source": [
    "import pandas as pd\n",
    "import numpy as np\n",
    "import matplotlib.pyplot as plt\n",
    "import seaborn as sns\n",
    "%matplotlib inline"
   ]
  },
  {
   "cell_type": "markdown",
   "metadata": {},
   "source": [
    "## Importing Data"
   ]
  },
  {
   "cell_type": "code",
   "execution_count": 3,
   "metadata": {},
   "outputs": [
    {
     "data": {
      "text/html": [
       "<div>\n",
       "<style scoped>\n",
       "    .dataframe tbody tr th:only-of-type {\n",
       "        vertical-align: middle;\n",
       "    }\n",
       "\n",
       "    .dataframe tbody tr th {\n",
       "        vertical-align: top;\n",
       "    }\n",
       "\n",
       "    .dataframe thead th {\n",
       "        text-align: right;\n",
       "    }\n",
       "</style>\n",
       "<table border=\"1\" class=\"dataframe\">\n",
       "  <thead>\n",
       "    <tr style=\"text-align: right;\">\n",
       "      <th></th>\n",
       "      <th>tconst</th>\n",
       "      <th>primary_title</th>\n",
       "      <th>original_title</th>\n",
       "      <th>start_year</th>\n",
       "      <th>runtime_minutes</th>\n",
       "      <th>genres</th>\n",
       "    </tr>\n",
       "  </thead>\n",
       "  <tbody>\n",
       "    <tr>\n",
       "      <th>0</th>\n",
       "      <td>tt0063540</td>\n",
       "      <td>Sunghursh</td>\n",
       "      <td>Sunghursh</td>\n",
       "      <td>2013</td>\n",
       "      <td>175.0</td>\n",
       "      <td>Action,Crime,Drama</td>\n",
       "    </tr>\n",
       "    <tr>\n",
       "      <th>1</th>\n",
       "      <td>tt0066787</td>\n",
       "      <td>One Day Before the Rainy Season</td>\n",
       "      <td>Ashad Ka Ek Din</td>\n",
       "      <td>2019</td>\n",
       "      <td>114.0</td>\n",
       "      <td>Biography,Drama</td>\n",
       "    </tr>\n",
       "    <tr>\n",
       "      <th>2</th>\n",
       "      <td>tt0069049</td>\n",
       "      <td>The Other Side of the Wind</td>\n",
       "      <td>The Other Side of the Wind</td>\n",
       "      <td>2018</td>\n",
       "      <td>122.0</td>\n",
       "      <td>Drama</td>\n",
       "    </tr>\n",
       "    <tr>\n",
       "      <th>3</th>\n",
       "      <td>tt0069204</td>\n",
       "      <td>Sabse Bada Sukh</td>\n",
       "      <td>Sabse Bada Sukh</td>\n",
       "      <td>2018</td>\n",
       "      <td>NaN</td>\n",
       "      <td>Comedy,Drama</td>\n",
       "    </tr>\n",
       "    <tr>\n",
       "      <th>4</th>\n",
       "      <td>tt0100275</td>\n",
       "      <td>The Wandering Soap Opera</td>\n",
       "      <td>La Telenovela Errante</td>\n",
       "      <td>2017</td>\n",
       "      <td>80.0</td>\n",
       "      <td>Comedy,Drama,Fantasy</td>\n",
       "    </tr>\n",
       "    <tr>\n",
       "      <th>...</th>\n",
       "      <td>...</td>\n",
       "      <td>...</td>\n",
       "      <td>...</td>\n",
       "      <td>...</td>\n",
       "      <td>...</td>\n",
       "      <td>...</td>\n",
       "    </tr>\n",
       "    <tr>\n",
       "      <th>146139</th>\n",
       "      <td>tt9916538</td>\n",
       "      <td>Kuambil Lagi Hatiku</td>\n",
       "      <td>Kuambil Lagi Hatiku</td>\n",
       "      <td>2019</td>\n",
       "      <td>123.0</td>\n",
       "      <td>Drama</td>\n",
       "    </tr>\n",
       "    <tr>\n",
       "      <th>146140</th>\n",
       "      <td>tt9916622</td>\n",
       "      <td>Rodolpho Teóphilo - O Legado de um Pioneiro</td>\n",
       "      <td>Rodolpho Teóphilo - O Legado de um Pioneiro</td>\n",
       "      <td>2015</td>\n",
       "      <td>NaN</td>\n",
       "      <td>Documentary</td>\n",
       "    </tr>\n",
       "    <tr>\n",
       "      <th>146141</th>\n",
       "      <td>tt9916706</td>\n",
       "      <td>Dankyavar Danka</td>\n",
       "      <td>Dankyavar Danka</td>\n",
       "      <td>2013</td>\n",
       "      <td>NaN</td>\n",
       "      <td>Comedy</td>\n",
       "    </tr>\n",
       "    <tr>\n",
       "      <th>146142</th>\n",
       "      <td>tt9916730</td>\n",
       "      <td>6 Gunn</td>\n",
       "      <td>6 Gunn</td>\n",
       "      <td>2017</td>\n",
       "      <td>116.0</td>\n",
       "      <td>NaN</td>\n",
       "    </tr>\n",
       "    <tr>\n",
       "      <th>146143</th>\n",
       "      <td>tt9916754</td>\n",
       "      <td>Chico Albuquerque - Revelações</td>\n",
       "      <td>Chico Albuquerque - Revelações</td>\n",
       "      <td>2013</td>\n",
       "      <td>NaN</td>\n",
       "      <td>Documentary</td>\n",
       "    </tr>\n",
       "  </tbody>\n",
       "</table>\n",
       "<p>146144 rows × 6 columns</p>\n",
       "</div>"
      ],
      "text/plain": [
       "           tconst                                primary_title  \\\n",
       "0       tt0063540                                    Sunghursh   \n",
       "1       tt0066787              One Day Before the Rainy Season   \n",
       "2       tt0069049                   The Other Side of the Wind   \n",
       "3       tt0069204                              Sabse Bada Sukh   \n",
       "4       tt0100275                     The Wandering Soap Opera   \n",
       "...           ...                                          ...   \n",
       "146139  tt9916538                          Kuambil Lagi Hatiku   \n",
       "146140  tt9916622  Rodolpho Teóphilo - O Legado de um Pioneiro   \n",
       "146141  tt9916706                              Dankyavar Danka   \n",
       "146142  tt9916730                                       6 Gunn   \n",
       "146143  tt9916754               Chico Albuquerque - Revelações   \n",
       "\n",
       "                                     original_title  start_year  \\\n",
       "0                                         Sunghursh        2013   \n",
       "1                                   Ashad Ka Ek Din        2019   \n",
       "2                        The Other Side of the Wind        2018   \n",
       "3                                   Sabse Bada Sukh        2018   \n",
       "4                             La Telenovela Errante        2017   \n",
       "...                                             ...         ...   \n",
       "146139                          Kuambil Lagi Hatiku        2019   \n",
       "146140  Rodolpho Teóphilo - O Legado de um Pioneiro        2015   \n",
       "146141                              Dankyavar Danka        2013   \n",
       "146142                                       6 Gunn        2017   \n",
       "146143               Chico Albuquerque - Revelações        2013   \n",
       "\n",
       "        runtime_minutes                genres  \n",
       "0                 175.0    Action,Crime,Drama  \n",
       "1                 114.0       Biography,Drama  \n",
       "2                 122.0                 Drama  \n",
       "3                   NaN          Comedy,Drama  \n",
       "4                  80.0  Comedy,Drama,Fantasy  \n",
       "...                 ...                   ...  \n",
       "146139            123.0                 Drama  \n",
       "146140              NaN           Documentary  \n",
       "146141              NaN                Comedy  \n",
       "146142            116.0                   NaN  \n",
       "146143              NaN           Documentary  \n",
       "\n",
       "[146144 rows x 6 columns]"
      ]
     },
     "execution_count": 3,
     "metadata": {},
     "output_type": "execute_result"
    }
   ],
   "source": [
    "imdb_title_df   = pd.read_csv    ('../zippedData/imdb.title.basics.csv.gz')\n",
    "imdb_title_df"
   ]
  },
  {
   "cell_type": "markdown",
   "metadata": {},
   "source": [
    "- Eyeballing the data sets to see how many data points we have, what we need to change, and how we can merge the sets together to get a better understanding of our data."
   ]
  },
  {
   "cell_type": "markdown",
   "metadata": {},
   "source": [
    "In this set, we have the average ratings for 73,856 and the number of votes for movies/'tconst'."
   ]
  },
  {
   "cell_type": "code",
   "execution_count": 4,
   "metadata": {
    "scrolled": true
   },
   "outputs": [
    {
     "name": "stdout",
     "output_type": "stream",
     "text": [
      "<class 'pandas.core.frame.DataFrame'>\n",
      "RangeIndex: 73856 entries, 0 to 73855\n",
      "Data columns (total 3 columns):\n",
      " #   Column         Non-Null Count  Dtype  \n",
      "---  ------         --------------  -----  \n",
      " 0   tconst         73856 non-null  object \n",
      " 1   averagerating  73856 non-null  float64\n",
      " 2   numvotes       73856 non-null  int64  \n",
      "dtypes: float64(1), int64(1), object(1)\n",
      "memory usage: 1.7+ MB\n"
     ]
    }
   ],
   "source": [
    "imdb_ratings = pd.read_csv('../zippedData/imdb.title.ratings.csv.gz')\n",
    "imdb_ratings.info()"
   ]
  },
  {
   "cell_type": "code",
   "execution_count": 5,
   "metadata": {},
   "outputs": [
    {
     "data": {
      "text/html": [
       "<div>\n",
       "<style scoped>\n",
       "    .dataframe tbody tr th:only-of-type {\n",
       "        vertical-align: middle;\n",
       "    }\n",
       "\n",
       "    .dataframe tbody tr th {\n",
       "        vertical-align: top;\n",
       "    }\n",
       "\n",
       "    .dataframe thead th {\n",
       "        text-align: right;\n",
       "    }\n",
       "</style>\n",
       "<table border=\"1\" class=\"dataframe\">\n",
       "  <thead>\n",
       "    <tr style=\"text-align: right;\">\n",
       "      <th></th>\n",
       "      <th>tconst</th>\n",
       "      <th>averagerating</th>\n",
       "      <th>numvotes</th>\n",
       "    </tr>\n",
       "  </thead>\n",
       "  <tbody>\n",
       "    <tr>\n",
       "      <th>0</th>\n",
       "      <td>tt10356526</td>\n",
       "      <td>8.3</td>\n",
       "      <td>31</td>\n",
       "    </tr>\n",
       "    <tr>\n",
       "      <th>1</th>\n",
       "      <td>tt10384606</td>\n",
       "      <td>8.9</td>\n",
       "      <td>559</td>\n",
       "    </tr>\n",
       "    <tr>\n",
       "      <th>2</th>\n",
       "      <td>tt1042974</td>\n",
       "      <td>6.4</td>\n",
       "      <td>20</td>\n",
       "    </tr>\n",
       "    <tr>\n",
       "      <th>3</th>\n",
       "      <td>tt1043726</td>\n",
       "      <td>4.2</td>\n",
       "      <td>50352</td>\n",
       "    </tr>\n",
       "    <tr>\n",
       "      <th>4</th>\n",
       "      <td>tt1060240</td>\n",
       "      <td>6.5</td>\n",
       "      <td>21</td>\n",
       "    </tr>\n",
       "  </tbody>\n",
       "</table>\n",
       "</div>"
      ],
      "text/plain": [
       "       tconst  averagerating  numvotes\n",
       "0  tt10356526            8.3        31\n",
       "1  tt10384606            8.9       559\n",
       "2   tt1042974            6.4        20\n",
       "3   tt1043726            4.2     50352\n",
       "4   tt1060240            6.5        21"
      ]
     },
     "execution_count": 5,
     "metadata": {},
     "output_type": "execute_result"
    }
   ],
   "source": [
    "imdb_ratings.head()"
   ]
  },
  {
   "cell_type": "markdown",
   "metadata": {},
   "source": [
    "In this data set, we have the name of different employees in the industry and their profession and what titles they're known for. Unsure of how we can use the birth and death years. Will probably drop those two"
   ]
  },
  {
   "cell_type": "code",
   "execution_count": 6,
   "metadata": {
    "scrolled": true
   },
   "outputs": [
    {
     "name": "stdout",
     "output_type": "stream",
     "text": [
      "<class 'pandas.core.frame.DataFrame'>\n",
      "RangeIndex: 606648 entries, 0 to 606647\n",
      "Data columns (total 6 columns):\n",
      " #   Column              Non-Null Count   Dtype  \n",
      "---  ------              --------------   -----  \n",
      " 0   nconst              606648 non-null  object \n",
      " 1   primary_name        606648 non-null  object \n",
      " 2   birth_year          82736 non-null   float64\n",
      " 3   death_year          6783 non-null    float64\n",
      " 4   primary_profession  555308 non-null  object \n",
      " 5   known_for_titles    576444 non-null  object \n",
      "dtypes: float64(2), object(4)\n",
      "memory usage: 27.8+ MB\n"
     ]
    }
   ],
   "source": [
    "imdb_title_df = pd.read_csv('../zippeddata/imdb.name.basics.csv.gz')\n",
    "imdb_title_df.info()"
   ]
  },
  {
   "cell_type": "markdown",
   "metadata": {},
   "source": [
    "In this data set, we have those same employees on 'nconst' with a more defined category of their position on each movie title 'tconst'. This set seems more useful to define what movies a certain person worked on to see the successs of a movie in relation to the artist."
   ]
  },
  {
   "cell_type": "code",
   "execution_count": 7,
   "metadata": {
    "scrolled": true
   },
   "outputs": [
    {
     "name": "stdout",
     "output_type": "stream",
     "text": [
      "<class 'pandas.core.frame.DataFrame'>\n",
      "RangeIndex: 1028186 entries, 0 to 1028185\n",
      "Data columns (total 6 columns):\n",
      " #   Column      Non-Null Count    Dtype \n",
      "---  ------      --------------    ----- \n",
      " 0   tconst      1028186 non-null  object\n",
      " 1   ordering    1028186 non-null  int64 \n",
      " 2   nconst      1028186 non-null  object\n",
      " 3   category    1028186 non-null  object\n",
      " 4   job         177684 non-null   object\n",
      " 5   characters  393360 non-null   object\n",
      "dtypes: int64(1), object(5)\n",
      "memory usage: 47.1+ MB\n"
     ]
    }
   ],
   "source": [
    "imdb_principals = pd.read_csv('../zippeddata/imdb.title.principals.csv.gz')\n",
    "imdb_principals.info()"
   ]
  },
  {
   "cell_type": "code",
   "execution_count": 8,
   "metadata": {},
   "outputs": [],
   "source": [
    "imdb_name_basics = pd.read_csv('../zippedData/imdb.name.basics.csv.gz')"
   ]
  },
  {
   "cell_type": "markdown",
   "metadata": {},
   "source": [
    "This dataset has the names of the movies in relation to the title_id/'tconst'. We can use the 'title_id' renamed as 'tconst' to merge the sets together."
   ]
  },
  {
   "cell_type": "code",
   "execution_count": 9,
   "metadata": {},
   "outputs": [
    {
     "name": "stdout",
     "output_type": "stream",
     "text": [
      "<class 'pandas.core.frame.DataFrame'>\n",
      "RangeIndex: 331703 entries, 0 to 331702\n",
      "Data columns (total 8 columns):\n",
      " #   Column             Non-Null Count   Dtype  \n",
      "---  ------             --------------   -----  \n",
      " 0   title_id           331703 non-null  object \n",
      " 1   ordering           331703 non-null  int64  \n",
      " 2   title              331703 non-null  object \n",
      " 3   region             278410 non-null  object \n",
      " 4   language           41715 non-null   object \n",
      " 5   types              168447 non-null  object \n",
      " 6   attributes         14925 non-null   object \n",
      " 7   is_original_title  331678 non-null  float64\n",
      "dtypes: float64(1), int64(1), object(6)\n",
      "memory usage: 20.2+ MB\n"
     ]
    }
   ],
   "source": [
    "imdb_akas = pd.read_csv('../zippeddata/imdb.title.akas.csv.gz')\n",
    "imdb_akas.info()"
   ]
  },
  {
   "cell_type": "code",
   "execution_count": 10,
   "metadata": {},
   "outputs": [],
   "source": [
    "imdb_akas.rename(columns = {'title_id': 'tconst'}, inplace=True)"
   ]
  },
  {
   "cell_type": "markdown",
   "metadata": {},
   "source": [
    "This dataset has the directors and writers associated with each movie."
   ]
  },
  {
   "cell_type": "code",
   "execution_count": 11,
   "metadata": {},
   "outputs": [
    {
     "name": "stdout",
     "output_type": "stream",
     "text": [
      "<class 'pandas.core.frame.DataFrame'>\n",
      "RangeIndex: 146144 entries, 0 to 146143\n",
      "Data columns (total 3 columns):\n",
      " #   Column     Non-Null Count   Dtype \n",
      "---  ------     --------------   ----- \n",
      " 0   tconst     146144 non-null  object\n",
      " 1   directors  140417 non-null  object\n",
      " 2   writers    110261 non-null  object\n",
      "dtypes: object(3)\n",
      "memory usage: 3.3+ MB\n"
     ]
    }
   ],
   "source": [
    "imdb_crew = pd.read_csv('../zippedData/imdb.title.crew.csv.gz')\n",
    "imdb_crew.info()"
   ]
  },
  {
   "cell_type": "markdown",
   "metadata": {},
   "source": [
    "This data set has genre_ids as integers. We should try to find the associating genre with the ID. It also shows the popularity, releae date, average, and vote count for different movies."
   ]
  },
  {
   "cell_type": "code",
   "execution_count": 12,
   "metadata": {
    "scrolled": true
   },
   "outputs": [],
   "source": [
    "#tmdb_movies = pd.read_csv('../zippedData/tmdb.movies.csv.gz', index_col=0)\n",
    "#tmdb_movies = tmdb_movies.drop('id', axis=1)\n",
    "#tmdb_movies.info()"
   ]
  },
  {
   "cell_type": "markdown",
   "metadata": {},
   "source": [
    "This data set has movie titles with the production budget, domestic gross, and the worldwide gross. We can merge the movie titles with the ratings to see how the ratings of movies stack up against the budget and gross."
   ]
  },
  {
   "cell_type": "code",
   "execution_count": 13,
   "metadata": {},
   "outputs": [],
   "source": [
    "tn_df = pd.read_csv('../zippedData/tn.movie_budgets.csv.gz', index_col=0)\n"
   ]
  },
  {
   "cell_type": "code",
   "execution_count": 14,
   "metadata": {},
   "outputs": [
    {
     "data": {
      "text/html": [
       "<div>\n",
       "<style scoped>\n",
       "    .dataframe tbody tr th:only-of-type {\n",
       "        vertical-align: middle;\n",
       "    }\n",
       "\n",
       "    .dataframe tbody tr th {\n",
       "        vertical-align: top;\n",
       "    }\n",
       "\n",
       "    .dataframe thead th {\n",
       "        text-align: right;\n",
       "    }\n",
       "</style>\n",
       "<table border=\"1\" class=\"dataframe\">\n",
       "  <thead>\n",
       "    <tr style=\"text-align: right;\">\n",
       "      <th></th>\n",
       "      <th>release_date</th>\n",
       "      <th>movie</th>\n",
       "      <th>production_budget</th>\n",
       "      <th>domestic_gross</th>\n",
       "      <th>worldwide_gross</th>\n",
       "    </tr>\n",
       "    <tr>\n",
       "      <th>id</th>\n",
       "      <th></th>\n",
       "      <th></th>\n",
       "      <th></th>\n",
       "      <th></th>\n",
       "      <th></th>\n",
       "    </tr>\n",
       "  </thead>\n",
       "  <tbody>\n",
       "    <tr>\n",
       "      <th>1</th>\n",
       "      <td>Dec 18, 2009</td>\n",
       "      <td>Avatar</td>\n",
       "      <td>$425,000,000</td>\n",
       "      <td>$760,507,625</td>\n",
       "      <td>$2,776,345,279</td>\n",
       "    </tr>\n",
       "    <tr>\n",
       "      <th>2</th>\n",
       "      <td>May 20, 2011</td>\n",
       "      <td>Pirates of the Caribbean: On Stranger Tides</td>\n",
       "      <td>$410,600,000</td>\n",
       "      <td>$241,063,875</td>\n",
       "      <td>$1,045,663,875</td>\n",
       "    </tr>\n",
       "    <tr>\n",
       "      <th>3</th>\n",
       "      <td>Jun 7, 2019</td>\n",
       "      <td>Dark Phoenix</td>\n",
       "      <td>$350,000,000</td>\n",
       "      <td>$42,762,350</td>\n",
       "      <td>$149,762,350</td>\n",
       "    </tr>\n",
       "    <tr>\n",
       "      <th>4</th>\n",
       "      <td>May 1, 2015</td>\n",
       "      <td>Avengers: Age of Ultron</td>\n",
       "      <td>$330,600,000</td>\n",
       "      <td>$459,005,868</td>\n",
       "      <td>$1,403,013,963</td>\n",
       "    </tr>\n",
       "    <tr>\n",
       "      <th>5</th>\n",
       "      <td>Dec 15, 2017</td>\n",
       "      <td>Star Wars Ep. VIII: The Last Jedi</td>\n",
       "      <td>$317,000,000</td>\n",
       "      <td>$620,181,382</td>\n",
       "      <td>$1,316,721,747</td>\n",
       "    </tr>\n",
       "    <tr>\n",
       "      <th>...</th>\n",
       "      <td>...</td>\n",
       "      <td>...</td>\n",
       "      <td>...</td>\n",
       "      <td>...</td>\n",
       "      <td>...</td>\n",
       "    </tr>\n",
       "    <tr>\n",
       "      <th>78</th>\n",
       "      <td>Dec 31, 2018</td>\n",
       "      <td>Red 11</td>\n",
       "      <td>$7,000</td>\n",
       "      <td>$0</td>\n",
       "      <td>$0</td>\n",
       "    </tr>\n",
       "    <tr>\n",
       "      <th>79</th>\n",
       "      <td>Apr 2, 1999</td>\n",
       "      <td>Following</td>\n",
       "      <td>$6,000</td>\n",
       "      <td>$48,482</td>\n",
       "      <td>$240,495</td>\n",
       "    </tr>\n",
       "    <tr>\n",
       "      <th>80</th>\n",
       "      <td>Jul 13, 2005</td>\n",
       "      <td>Return to the Land of Wonders</td>\n",
       "      <td>$5,000</td>\n",
       "      <td>$1,338</td>\n",
       "      <td>$1,338</td>\n",
       "    </tr>\n",
       "    <tr>\n",
       "      <th>81</th>\n",
       "      <td>Sep 29, 2015</td>\n",
       "      <td>A Plague So Pleasant</td>\n",
       "      <td>$1,400</td>\n",
       "      <td>$0</td>\n",
       "      <td>$0</td>\n",
       "    </tr>\n",
       "    <tr>\n",
       "      <th>82</th>\n",
       "      <td>Aug 5, 2005</td>\n",
       "      <td>My Date With Drew</td>\n",
       "      <td>$1,100</td>\n",
       "      <td>$181,041</td>\n",
       "      <td>$181,041</td>\n",
       "    </tr>\n",
       "  </tbody>\n",
       "</table>\n",
       "<p>5782 rows × 5 columns</p>\n",
       "</div>"
      ],
      "text/plain": [
       "    release_date                                        movie  \\\n",
       "id                                                              \n",
       "1   Dec 18, 2009                                       Avatar   \n",
       "2   May 20, 2011  Pirates of the Caribbean: On Stranger Tides   \n",
       "3    Jun 7, 2019                                 Dark Phoenix   \n",
       "4    May 1, 2015                      Avengers: Age of Ultron   \n",
       "5   Dec 15, 2017            Star Wars Ep. VIII: The Last Jedi   \n",
       "..           ...                                          ...   \n",
       "78  Dec 31, 2018                                       Red 11   \n",
       "79   Apr 2, 1999                                    Following   \n",
       "80  Jul 13, 2005                Return to the Land of Wonders   \n",
       "81  Sep 29, 2015                         A Plague So Pleasant   \n",
       "82   Aug 5, 2005                            My Date With Drew   \n",
       "\n",
       "   production_budget domestic_gross worldwide_gross  \n",
       "id                                                   \n",
       "1       $425,000,000   $760,507,625  $2,776,345,279  \n",
       "2       $410,600,000   $241,063,875  $1,045,663,875  \n",
       "3       $350,000,000    $42,762,350    $149,762,350  \n",
       "4       $330,600,000   $459,005,868  $1,403,013,963  \n",
       "5       $317,000,000   $620,181,382  $1,316,721,747  \n",
       "..               ...            ...             ...  \n",
       "78            $7,000             $0              $0  \n",
       "79            $6,000        $48,482        $240,495  \n",
       "80            $5,000         $1,338          $1,338  \n",
       "81            $1,400             $0              $0  \n",
       "82            $1,100       $181,041        $181,041  \n",
       "\n",
       "[5782 rows x 5 columns]"
      ]
     },
     "execution_count": 14,
     "metadata": {},
     "output_type": "execute_result"
    }
   ],
   "source": [
    "tn_df"
   ]
  },
  {
   "cell_type": "markdown",
   "metadata": {},
   "source": [
    "## Merging IMDB Ratings Dataset with IMDB Titles"
   ]
  },
  {
   "cell_type": "markdown",
   "metadata": {},
   "source": [
    "Here we are merging the IMDB name/titles set with the ratings and the directors and writers."
   ]
  },
  {
   "cell_type": "code",
   "execution_count": 15,
   "metadata": {},
   "outputs": [
    {
     "name": "stdout",
     "output_type": "stream",
     "text": [
      "<class 'pandas.core.frame.DataFrame'>\n",
      "RangeIndex: 331703 entries, 0 to 331702\n",
      "Data columns (total 8 columns):\n",
      " #   Column             Non-Null Count   Dtype  \n",
      "---  ------             --------------   -----  \n",
      " 0   tconst             331703 non-null  object \n",
      " 1   ordering           331703 non-null  int64  \n",
      " 2   title              331703 non-null  object \n",
      " 3   region             278410 non-null  object \n",
      " 4   language           41715 non-null   object \n",
      " 5   types              168447 non-null  object \n",
      " 6   attributes         14925 non-null   object \n",
      " 7   is_original_title  331678 non-null  float64\n",
      "dtypes: float64(1), int64(1), object(6)\n",
      "memory usage: 20.2+ MB\n"
     ]
    }
   ],
   "source": [
    "imdb_akas.info()"
   ]
  },
  {
   "cell_type": "code",
   "execution_count": 16,
   "metadata": {
    "scrolled": true
   },
   "outputs": [
    {
     "data": {
      "text/html": [
       "<div>\n",
       "<style scoped>\n",
       "    .dataframe tbody tr th:only-of-type {\n",
       "        vertical-align: middle;\n",
       "    }\n",
       "\n",
       "    .dataframe tbody tr th {\n",
       "        vertical-align: top;\n",
       "    }\n",
       "\n",
       "    .dataframe thead th {\n",
       "        text-align: right;\n",
       "    }\n",
       "</style>\n",
       "<table border=\"1\" class=\"dataframe\">\n",
       "  <thead>\n",
       "    <tr style=\"text-align: right;\">\n",
       "      <th></th>\n",
       "      <th>tconst</th>\n",
       "      <th>ordering</th>\n",
       "      <th>title</th>\n",
       "      <th>region</th>\n",
       "      <th>language</th>\n",
       "      <th>types</th>\n",
       "      <th>attributes</th>\n",
       "      <th>is_original_title</th>\n",
       "    </tr>\n",
       "  </thead>\n",
       "  <tbody>\n",
       "    <tr>\n",
       "      <th>0</th>\n",
       "      <td>tt0369610</td>\n",
       "      <td>10</td>\n",
       "      <td>Джурасик свят</td>\n",
       "      <td>BG</td>\n",
       "      <td>bg</td>\n",
       "      <td>NaN</td>\n",
       "      <td>NaN</td>\n",
       "      <td>0.0</td>\n",
       "    </tr>\n",
       "    <tr>\n",
       "      <th>1</th>\n",
       "      <td>tt0369610</td>\n",
       "      <td>11</td>\n",
       "      <td>Jurashikku warudo</td>\n",
       "      <td>JP</td>\n",
       "      <td>NaN</td>\n",
       "      <td>imdbDisplay</td>\n",
       "      <td>NaN</td>\n",
       "      <td>0.0</td>\n",
       "    </tr>\n",
       "    <tr>\n",
       "      <th>2</th>\n",
       "      <td>tt0369610</td>\n",
       "      <td>12</td>\n",
       "      <td>Jurassic World: O Mundo dos Dinossauros</td>\n",
       "      <td>BR</td>\n",
       "      <td>NaN</td>\n",
       "      <td>imdbDisplay</td>\n",
       "      <td>NaN</td>\n",
       "      <td>0.0</td>\n",
       "    </tr>\n",
       "    <tr>\n",
       "      <th>3</th>\n",
       "      <td>tt0369610</td>\n",
       "      <td>13</td>\n",
       "      <td>O Mundo dos Dinossauros</td>\n",
       "      <td>BR</td>\n",
       "      <td>NaN</td>\n",
       "      <td>NaN</td>\n",
       "      <td>short title</td>\n",
       "      <td>0.0</td>\n",
       "    </tr>\n",
       "    <tr>\n",
       "      <th>4</th>\n",
       "      <td>tt0369610</td>\n",
       "      <td>14</td>\n",
       "      <td>Jurassic World</td>\n",
       "      <td>FR</td>\n",
       "      <td>NaN</td>\n",
       "      <td>imdbDisplay</td>\n",
       "      <td>NaN</td>\n",
       "      <td>0.0</td>\n",
       "    </tr>\n",
       "    <tr>\n",
       "      <th>...</th>\n",
       "      <td>...</td>\n",
       "      <td>...</td>\n",
       "      <td>...</td>\n",
       "      <td>...</td>\n",
       "      <td>...</td>\n",
       "      <td>...</td>\n",
       "      <td>...</td>\n",
       "      <td>...</td>\n",
       "    </tr>\n",
       "    <tr>\n",
       "      <th>331698</th>\n",
       "      <td>tt9827784</td>\n",
       "      <td>2</td>\n",
       "      <td>Sayonara kuchibiru</td>\n",
       "      <td>NaN</td>\n",
       "      <td>NaN</td>\n",
       "      <td>original</td>\n",
       "      <td>NaN</td>\n",
       "      <td>1.0</td>\n",
       "    </tr>\n",
       "    <tr>\n",
       "      <th>331699</th>\n",
       "      <td>tt9827784</td>\n",
       "      <td>3</td>\n",
       "      <td>Farewell Song</td>\n",
       "      <td>XWW</td>\n",
       "      <td>en</td>\n",
       "      <td>imdbDisplay</td>\n",
       "      <td>NaN</td>\n",
       "      <td>0.0</td>\n",
       "    </tr>\n",
       "    <tr>\n",
       "      <th>331700</th>\n",
       "      <td>tt9880178</td>\n",
       "      <td>1</td>\n",
       "      <td>La atención</td>\n",
       "      <td>NaN</td>\n",
       "      <td>NaN</td>\n",
       "      <td>original</td>\n",
       "      <td>NaN</td>\n",
       "      <td>1.0</td>\n",
       "    </tr>\n",
       "    <tr>\n",
       "      <th>331701</th>\n",
       "      <td>tt9880178</td>\n",
       "      <td>2</td>\n",
       "      <td>La atención</td>\n",
       "      <td>ES</td>\n",
       "      <td>NaN</td>\n",
       "      <td>NaN</td>\n",
       "      <td>NaN</td>\n",
       "      <td>0.0</td>\n",
       "    </tr>\n",
       "    <tr>\n",
       "      <th>331702</th>\n",
       "      <td>tt9880178</td>\n",
       "      <td>3</td>\n",
       "      <td>The Attention</td>\n",
       "      <td>XWW</td>\n",
       "      <td>en</td>\n",
       "      <td>imdbDisplay</td>\n",
       "      <td>NaN</td>\n",
       "      <td>0.0</td>\n",
       "    </tr>\n",
       "  </tbody>\n",
       "</table>\n",
       "<p>331703 rows × 8 columns</p>\n",
       "</div>"
      ],
      "text/plain": [
       "           tconst  ordering                                    title region  \\\n",
       "0       tt0369610        10                            Джурасик свят     BG   \n",
       "1       tt0369610        11                        Jurashikku warudo     JP   \n",
       "2       tt0369610        12  Jurassic World: O Mundo dos Dinossauros     BR   \n",
       "3       tt0369610        13                  O Mundo dos Dinossauros     BR   \n",
       "4       tt0369610        14                           Jurassic World     FR   \n",
       "...           ...       ...                                      ...    ...   \n",
       "331698  tt9827784         2                       Sayonara kuchibiru    NaN   \n",
       "331699  tt9827784         3                            Farewell Song    XWW   \n",
       "331700  tt9880178         1                              La atención    NaN   \n",
       "331701  tt9880178         2                              La atención     ES   \n",
       "331702  tt9880178         3                            The Attention    XWW   \n",
       "\n",
       "       language        types   attributes  is_original_title  \n",
       "0            bg          NaN          NaN                0.0  \n",
       "1           NaN  imdbDisplay          NaN                0.0  \n",
       "2           NaN  imdbDisplay          NaN                0.0  \n",
       "3           NaN          NaN  short title                0.0  \n",
       "4           NaN  imdbDisplay          NaN                0.0  \n",
       "...         ...          ...          ...                ...  \n",
       "331698      NaN     original          NaN                1.0  \n",
       "331699       en  imdbDisplay          NaN                0.0  \n",
       "331700      NaN     original          NaN                1.0  \n",
       "331701      NaN          NaN          NaN                0.0  \n",
       "331702       en  imdbDisplay          NaN                0.0  \n",
       "\n",
       "[331703 rows x 8 columns]"
      ]
     },
     "execution_count": 16,
     "metadata": {},
     "output_type": "execute_result"
    }
   ],
   "source": [
    "imdb_akas.rename(columns = {'title_id': 'tconst'}, inplace=True)\n",
    "imdb_akas"
   ]
  },
  {
   "cell_type": "code",
   "execution_count": 17,
   "metadata": {},
   "outputs": [
    {
     "name": "stdout",
     "output_type": "stream",
     "text": [
      "<class 'pandas.core.frame.DataFrame'>\n",
      "RangeIndex: 73856 entries, 0 to 73855\n",
      "Data columns (total 3 columns):\n",
      " #   Column         Non-Null Count  Dtype  \n",
      "---  ------         --------------  -----  \n",
      " 0   tconst         73856 non-null  object \n",
      " 1   averagerating  73856 non-null  float64\n",
      " 2   numvotes       73856 non-null  int64  \n",
      "dtypes: float64(1), int64(1), object(1)\n",
      "memory usage: 1.7+ MB\n"
     ]
    }
   ],
   "source": [
    "imdb_ratings.info()"
   ]
  },
  {
   "cell_type": "code",
   "execution_count": 18,
   "metadata": {},
   "outputs": [
    {
     "name": "stdout",
     "output_type": "stream",
     "text": [
      "<class 'pandas.core.frame.DataFrame'>\n",
      "RangeIndex: 146144 entries, 0 to 146143\n",
      "Data columns (total 3 columns):\n",
      " #   Column     Non-Null Count   Dtype \n",
      "---  ------     --------------   ----- \n",
      " 0   tconst     146144 non-null  object\n",
      " 1   directors  140417 non-null  object\n",
      " 2   writers    110261 non-null  object\n",
      "dtypes: object(3)\n",
      "memory usage: 3.3+ MB\n"
     ]
    }
   ],
   "source": [
    "imdb_crew.info()"
   ]
  },
  {
   "cell_type": "code",
   "execution_count": 19,
   "metadata": {
    "scrolled": true
   },
   "outputs": [
    {
     "name": "stdout",
     "output_type": "stream",
     "text": [
      "<class 'pandas.core.frame.DataFrame'>\n",
      "Int64Index: 261806 entries, 0 to 261805\n",
      "Data columns (total 10 columns):\n",
      " #   Column             Non-Null Count   Dtype  \n",
      "---  ------             --------------   -----  \n",
      " 0   tconst             261806 non-null  object \n",
      " 1   ordering           261806 non-null  int64  \n",
      " 2   title              261806 non-null  object \n",
      " 3   region             218341 non-null  object \n",
      " 4   language           37080 non-null   object \n",
      " 5   types              153268 non-null  object \n",
      " 6   attributes         12924 non-null   object \n",
      " 7   is_original_title  261806 non-null  float64\n",
      " 8   averagerating      261806 non-null  float64\n",
      " 9   numvotes           261806 non-null  int64  \n",
      "dtypes: float64(2), int64(2), object(6)\n",
      "memory usage: 22.0+ MB\n"
     ]
    }
   ],
   "source": [
    "imdb_df = pd.merge(imdb_akas, imdb_ratings, on='tconst', how='inner')\n",
    "imdb_df.info()"
   ]
  },
  {
   "cell_type": "code",
   "execution_count": 19,
   "metadata": {},
   "outputs": [
    {
     "data": {
      "text/html": [
       "<div>\n",
       "<style scoped>\n",
       "    .dataframe tbody tr th:only-of-type {\n",
       "        vertical-align: middle;\n",
       "    }\n",
       "\n",
       "    .dataframe tbody tr th {\n",
       "        vertical-align: top;\n",
       "    }\n",
       "\n",
       "    .dataframe thead th {\n",
       "        text-align: right;\n",
       "    }\n",
       "</style>\n",
       "<table border=\"1\" class=\"dataframe\">\n",
       "  <thead>\n",
       "    <tr style=\"text-align: right;\">\n",
       "      <th></th>\n",
       "      <th>tconst</th>\n",
       "      <th>ordering</th>\n",
       "      <th>nconst</th>\n",
       "      <th>category</th>\n",
       "      <th>job</th>\n",
       "      <th>characters</th>\n",
       "      <th>primary_name</th>\n",
       "      <th>birth_year</th>\n",
       "      <th>death_year</th>\n",
       "      <th>primary_profession</th>\n",
       "      <th>known_for_titles</th>\n",
       "    </tr>\n",
       "  </thead>\n",
       "  <tbody>\n",
       "    <tr>\n",
       "      <th>0</th>\n",
       "      <td>tt0111414</td>\n",
       "      <td>1</td>\n",
       "      <td>nm0246005</td>\n",
       "      <td>actor</td>\n",
       "      <td>NaN</td>\n",
       "      <td>[\"The Man\"]</td>\n",
       "      <td>Tommy Dysart</td>\n",
       "      <td>NaN</td>\n",
       "      <td>NaN</td>\n",
       "      <td>actor</td>\n",
       "      <td>tt0093120,tt0076974,tt0084296,tt0077064</td>\n",
       "    </tr>\n",
       "    <tr>\n",
       "      <th>1</th>\n",
       "      <td>tt0111414</td>\n",
       "      <td>2</td>\n",
       "      <td>nm0398271</td>\n",
       "      <td>director</td>\n",
       "      <td>NaN</td>\n",
       "      <td>NaN</td>\n",
       "      <td>Frank Howson</td>\n",
       "      <td>1952.0</td>\n",
       "      <td>NaN</td>\n",
       "      <td>actor,writer,producer</td>\n",
       "      <td>tt0104271,tt0094789,tt0102076,tt0111414</td>\n",
       "    </tr>\n",
       "    <tr>\n",
       "      <th>2</th>\n",
       "      <td>tt0111414</td>\n",
       "      <td>3</td>\n",
       "      <td>nm3739909</td>\n",
       "      <td>producer</td>\n",
       "      <td>producer</td>\n",
       "      <td>NaN</td>\n",
       "      <td>Barry Porter-Robinson</td>\n",
       "      <td>NaN</td>\n",
       "      <td>NaN</td>\n",
       "      <td>producer,art_department</td>\n",
       "      <td>tt0290884,tt0101374,tt0111414,tt1566940</td>\n",
       "    </tr>\n",
       "    <tr>\n",
       "      <th>3</th>\n",
       "      <td>tt0323808</td>\n",
       "      <td>10</td>\n",
       "      <td>nm0059247</td>\n",
       "      <td>editor</td>\n",
       "      <td>NaN</td>\n",
       "      <td>NaN</td>\n",
       "      <td>Sean Barton</td>\n",
       "      <td>1944.0</td>\n",
       "      <td>NaN</td>\n",
       "      <td>editor,editorial_department,assistant_director</td>\n",
       "      <td>tt0402910,tt1022883,tt0086190,tt0490181</td>\n",
       "    </tr>\n",
       "    <tr>\n",
       "      <th>4</th>\n",
       "      <td>tt0323808</td>\n",
       "      <td>1</td>\n",
       "      <td>nm3579312</td>\n",
       "      <td>actress</td>\n",
       "      <td>NaN</td>\n",
       "      <td>[\"Beth Boothby\"]</td>\n",
       "      <td>Brittania Nicol</td>\n",
       "      <td>NaN</td>\n",
       "      <td>NaN</td>\n",
       "      <td>actress,soundtrack</td>\n",
       "      <td>tt0323808</td>\n",
       "    </tr>\n",
       "    <tr>\n",
       "      <th>...</th>\n",
       "      <td>...</td>\n",
       "      <td>...</td>\n",
       "      <td>...</td>\n",
       "      <td>...</td>\n",
       "      <td>...</td>\n",
       "      <td>...</td>\n",
       "      <td>...</td>\n",
       "      <td>...</td>\n",
       "      <td>...</td>\n",
       "      <td>...</td>\n",
       "      <td>...</td>\n",
       "    </tr>\n",
       "    <tr>\n",
       "      <th>1028181</th>\n",
       "      <td>tt9692684</td>\n",
       "      <td>1</td>\n",
       "      <td>nm0186469</td>\n",
       "      <td>actor</td>\n",
       "      <td>NaN</td>\n",
       "      <td>[\"Ebenezer Scrooge\"]</td>\n",
       "      <td>Kenneth Cranham</td>\n",
       "      <td>1944.0</td>\n",
       "      <td>NaN</td>\n",
       "      <td>actor,soundtrack</td>\n",
       "      <td>tt0095294,tt0375912,tt0063385,tt0985699</td>\n",
       "    </tr>\n",
       "    <tr>\n",
       "      <th>1028182</th>\n",
       "      <td>tt9692684</td>\n",
       "      <td>2</td>\n",
       "      <td>nm4929530</td>\n",
       "      <td>self</td>\n",
       "      <td>NaN</td>\n",
       "      <td>[\"Herself\",\"Regan\"]</td>\n",
       "      <td>Pearl Mackie</td>\n",
       "      <td>1987.0</td>\n",
       "      <td>NaN</td>\n",
       "      <td>actress</td>\n",
       "      <td>tt9676034,tt5498354,tt0436992,tt8972256</td>\n",
       "    </tr>\n",
       "    <tr>\n",
       "      <th>1028183</th>\n",
       "      <td>tt9692684</td>\n",
       "      <td>3</td>\n",
       "      <td>nm10441594</td>\n",
       "      <td>director</td>\n",
       "      <td>NaN</td>\n",
       "      <td>NaN</td>\n",
       "      <td>Guy Jones</td>\n",
       "      <td>NaN</td>\n",
       "      <td>NaN</td>\n",
       "      <td>director</td>\n",
       "      <td>NaN</td>\n",
       "    </tr>\n",
       "    <tr>\n",
       "      <th>1028184</th>\n",
       "      <td>tt9692684</td>\n",
       "      <td>4</td>\n",
       "      <td>nm6009913</td>\n",
       "      <td>writer</td>\n",
       "      <td>writer</td>\n",
       "      <td>NaN</td>\n",
       "      <td>Sabrina Mahfouz</td>\n",
       "      <td>NaN</td>\n",
       "      <td>NaN</td>\n",
       "      <td>writer</td>\n",
       "      <td>tt5191128,tt3254170,tt2319282,tt8452302</td>\n",
       "    </tr>\n",
       "    <tr>\n",
       "      <th>1028185</th>\n",
       "      <td>tt9692684</td>\n",
       "      <td>5</td>\n",
       "      <td>nm10441595</td>\n",
       "      <td>producer</td>\n",
       "      <td>producer</td>\n",
       "      <td>NaN</td>\n",
       "      <td>Simmer Dim</td>\n",
       "      <td>NaN</td>\n",
       "      <td>NaN</td>\n",
       "      <td>producer</td>\n",
       "      <td>tt9692684</td>\n",
       "    </tr>\n",
       "  </tbody>\n",
       "</table>\n",
       "<p>1028186 rows × 11 columns</p>\n",
       "</div>"
      ],
      "text/plain": [
       "            tconst  ordering      nconst  category       job  \\\n",
       "0        tt0111414         1   nm0246005     actor       NaN   \n",
       "1        tt0111414         2   nm0398271  director       NaN   \n",
       "2        tt0111414         3   nm3739909  producer  producer   \n",
       "3        tt0323808        10   nm0059247    editor       NaN   \n",
       "4        tt0323808         1   nm3579312   actress       NaN   \n",
       "...            ...       ...         ...       ...       ...   \n",
       "1028181  tt9692684         1   nm0186469     actor       NaN   \n",
       "1028182  tt9692684         2   nm4929530      self       NaN   \n",
       "1028183  tt9692684         3  nm10441594  director       NaN   \n",
       "1028184  tt9692684         4   nm6009913    writer    writer   \n",
       "1028185  tt9692684         5  nm10441595  producer  producer   \n",
       "\n",
       "                   characters           primary_name  birth_year  death_year  \\\n",
       "0                 [\"The Man\"]           Tommy Dysart         NaN         NaN   \n",
       "1                         NaN           Frank Howson      1952.0         NaN   \n",
       "2                         NaN  Barry Porter-Robinson         NaN         NaN   \n",
       "3                         NaN            Sean Barton      1944.0         NaN   \n",
       "4            [\"Beth Boothby\"]        Brittania Nicol         NaN         NaN   \n",
       "...                       ...                    ...         ...         ...   \n",
       "1028181  [\"Ebenezer Scrooge\"]        Kenneth Cranham      1944.0         NaN   \n",
       "1028182   [\"Herself\",\"Regan\"]           Pearl Mackie      1987.0         NaN   \n",
       "1028183                   NaN              Guy Jones         NaN         NaN   \n",
       "1028184                   NaN        Sabrina Mahfouz         NaN         NaN   \n",
       "1028185                   NaN             Simmer Dim         NaN         NaN   \n",
       "\n",
       "                                     primary_profession  \\\n",
       "0                                                 actor   \n",
       "1                                 actor,writer,producer   \n",
       "2                               producer,art_department   \n",
       "3        editor,editorial_department,assistant_director   \n",
       "4                                    actress,soundtrack   \n",
       "...                                                 ...   \n",
       "1028181                                actor,soundtrack   \n",
       "1028182                                         actress   \n",
       "1028183                                        director   \n",
       "1028184                                          writer   \n",
       "1028185                                        producer   \n",
       "\n",
       "                                known_for_titles  \n",
       "0        tt0093120,tt0076974,tt0084296,tt0077064  \n",
       "1        tt0104271,tt0094789,tt0102076,tt0111414  \n",
       "2        tt0290884,tt0101374,tt0111414,tt1566940  \n",
       "3        tt0402910,tt1022883,tt0086190,tt0490181  \n",
       "4                                      tt0323808  \n",
       "...                                          ...  \n",
       "1028181  tt0095294,tt0375912,tt0063385,tt0985699  \n",
       "1028182  tt9676034,tt5498354,tt0436992,tt8972256  \n",
       "1028183                                      NaN  \n",
       "1028184  tt5191128,tt3254170,tt2319282,tt8452302  \n",
       "1028185                                tt9692684  \n",
       "\n",
       "[1028186 rows x 11 columns]"
      ]
     },
     "execution_count": 19,
     "metadata": {},
     "output_type": "execute_result"
    }
   ],
   "source": [
    "people_df = pd.merge(imdb_principals, imdb_name_basics, on='nconst', how='left')\n",
    "people_df"
   ]
  },
  {
   "cell_type": "code",
   "execution_count": 20,
   "metadata": {},
   "outputs": [
    {
     "data": {
      "text/html": [
       "<div>\n",
       "<style scoped>\n",
       "    .dataframe tbody tr th:only-of-type {\n",
       "        vertical-align: middle;\n",
       "    }\n",
       "\n",
       "    .dataframe tbody tr th {\n",
       "        vertical-align: top;\n",
       "    }\n",
       "\n",
       "    .dataframe thead th {\n",
       "        text-align: right;\n",
       "    }\n",
       "</style>\n",
       "<table border=\"1\" class=\"dataframe\">\n",
       "  <thead>\n",
       "    <tr style=\"text-align: right;\">\n",
       "      <th></th>\n",
       "      <th>tconst</th>\n",
       "      <th>ordering_x</th>\n",
       "      <th>title</th>\n",
       "      <th>region</th>\n",
       "      <th>language</th>\n",
       "      <th>types</th>\n",
       "      <th>attributes</th>\n",
       "      <th>is_original_title</th>\n",
       "      <th>averagerating</th>\n",
       "      <th>numvotes</th>\n",
       "      <th>ordering_y</th>\n",
       "      <th>nconst</th>\n",
       "      <th>category</th>\n",
       "      <th>job</th>\n",
       "      <th>characters</th>\n",
       "      <th>primary_name</th>\n",
       "      <th>birth_year</th>\n",
       "      <th>death_year</th>\n",
       "      <th>primary_profession</th>\n",
       "      <th>known_for_titles</th>\n",
       "    </tr>\n",
       "  </thead>\n",
       "  <tbody>\n",
       "    <tr>\n",
       "      <th>0</th>\n",
       "      <td>tt0369610</td>\n",
       "      <td>10</td>\n",
       "      <td>Джурасик свят</td>\n",
       "      <td>BG</td>\n",
       "      <td>bg</td>\n",
       "      <td>NaN</td>\n",
       "      <td>NaN</td>\n",
       "      <td>0.0</td>\n",
       "      <td>7.0</td>\n",
       "      <td>539338.0</td>\n",
       "      <td>10.0</td>\n",
       "      <td>nm0189777</td>\n",
       "      <td>producer</td>\n",
       "      <td>producer</td>\n",
       "      <td>NaN</td>\n",
       "      <td>Patrick Crowley</td>\n",
       "      <td>NaN</td>\n",
       "      <td>NaN</td>\n",
       "      <td>producer,assistant_director,production_manager</td>\n",
       "      <td>tt0372183,tt1059786,tt0258463,tt0440963</td>\n",
       "    </tr>\n",
       "    <tr>\n",
       "      <th>1</th>\n",
       "      <td>tt0369610</td>\n",
       "      <td>10</td>\n",
       "      <td>Джурасик свят</td>\n",
       "      <td>BG</td>\n",
       "      <td>bg</td>\n",
       "      <td>NaN</td>\n",
       "      <td>NaN</td>\n",
       "      <td>0.0</td>\n",
       "      <td>7.0</td>\n",
       "      <td>539338.0</td>\n",
       "      <td>1.0</td>\n",
       "      <td>nm0695435</td>\n",
       "      <td>actor</td>\n",
       "      <td>NaN</td>\n",
       "      <td>[\"Owen\"]</td>\n",
       "      <td>Chris Pratt</td>\n",
       "      <td>1979.0</td>\n",
       "      <td>NaN</td>\n",
       "      <td>actor,soundtrack,producer</td>\n",
       "      <td>tt1490017,tt0369610,tt1266020,tt2015381</td>\n",
       "    </tr>\n",
       "    <tr>\n",
       "      <th>2</th>\n",
       "      <td>tt0369610</td>\n",
       "      <td>10</td>\n",
       "      <td>Джурасик свят</td>\n",
       "      <td>BG</td>\n",
       "      <td>bg</td>\n",
       "      <td>NaN</td>\n",
       "      <td>NaN</td>\n",
       "      <td>0.0</td>\n",
       "      <td>7.0</td>\n",
       "      <td>539338.0</td>\n",
       "      <td>2.0</td>\n",
       "      <td>nm0397171</td>\n",
       "      <td>actress</td>\n",
       "      <td>NaN</td>\n",
       "      <td>[\"Claire\"]</td>\n",
       "      <td>Bryce Dallas Howard</td>\n",
       "      <td>1981.0</td>\n",
       "      <td>NaN</td>\n",
       "      <td>actress,director,writer</td>\n",
       "      <td>tt1454029,tt0369610,tt1800302</td>\n",
       "    </tr>\n",
       "    <tr>\n",
       "      <th>3</th>\n",
       "      <td>tt0369610</td>\n",
       "      <td>10</td>\n",
       "      <td>Джурасик свят</td>\n",
       "      <td>BG</td>\n",
       "      <td>bg</td>\n",
       "      <td>NaN</td>\n",
       "      <td>NaN</td>\n",
       "      <td>0.0</td>\n",
       "      <td>7.0</td>\n",
       "      <td>539338.0</td>\n",
       "      <td>3.0</td>\n",
       "      <td>nm1339223</td>\n",
       "      <td>actor</td>\n",
       "      <td>NaN</td>\n",
       "      <td>[\"Gray\"]</td>\n",
       "      <td>Ty Simpkins</td>\n",
       "      <td>NaN</td>\n",
       "      <td>NaN</td>\n",
       "      <td>actor</td>\n",
       "      <td>tt0369610,tt1300854,tt4154796,tt1591095</td>\n",
       "    </tr>\n",
       "    <tr>\n",
       "      <th>4</th>\n",
       "      <td>tt0369610</td>\n",
       "      <td>10</td>\n",
       "      <td>Джурасик свят</td>\n",
       "      <td>BG</td>\n",
       "      <td>bg</td>\n",
       "      <td>NaN</td>\n",
       "      <td>NaN</td>\n",
       "      <td>0.0</td>\n",
       "      <td>7.0</td>\n",
       "      <td>539338.0</td>\n",
       "      <td>4.0</td>\n",
       "      <td>nm0339460</td>\n",
       "      <td>actress</td>\n",
       "      <td>NaN</td>\n",
       "      <td>[\"Karen\"]</td>\n",
       "      <td>Judy Greer</td>\n",
       "      <td>1975.0</td>\n",
       "      <td>NaN</td>\n",
       "      <td>actress,producer,soundtrack</td>\n",
       "      <td>tt0369610,tt0337563,tt0478970,tt0988595</td>\n",
       "    </tr>\n",
       "    <tr>\n",
       "      <th>...</th>\n",
       "      <td>...</td>\n",
       "      <td>...</td>\n",
       "      <td>...</td>\n",
       "      <td>...</td>\n",
       "      <td>...</td>\n",
       "      <td>...</td>\n",
       "      <td>...</td>\n",
       "      <td>...</td>\n",
       "      <td>...</td>\n",
       "      <td>...</td>\n",
       "      <td>...</td>\n",
       "      <td>...</td>\n",
       "      <td>...</td>\n",
       "      <td>...</td>\n",
       "      <td>...</td>\n",
       "      <td>...</td>\n",
       "      <td>...</td>\n",
       "      <td>...</td>\n",
       "      <td>...</td>\n",
       "      <td>...</td>\n",
       "    </tr>\n",
       "    <tr>\n",
       "      <th>2841271</th>\n",
       "      <td>tt9880178</td>\n",
       "      <td>3</td>\n",
       "      <td>The Attention</td>\n",
       "      <td>XWW</td>\n",
       "      <td>en</td>\n",
       "      <td>imdbDisplay</td>\n",
       "      <td>NaN</td>\n",
       "      <td>0.0</td>\n",
       "      <td>NaN</td>\n",
       "      <td>NaN</td>\n",
       "      <td>5.0</td>\n",
       "      <td>nm1567587</td>\n",
       "      <td>producer</td>\n",
       "      <td>producer</td>\n",
       "      <td>NaN</td>\n",
       "      <td>Iñigo Fernández Ostolaza</td>\n",
       "      <td>NaN</td>\n",
       "      <td>NaN</td>\n",
       "      <td>editor,producer,director</td>\n",
       "      <td>tt0254455,tt7524694,tt9880178,tt0471112</td>\n",
       "    </tr>\n",
       "    <tr>\n",
       "      <th>2841272</th>\n",
       "      <td>tt9880178</td>\n",
       "      <td>3</td>\n",
       "      <td>The Attention</td>\n",
       "      <td>XWW</td>\n",
       "      <td>en</td>\n",
       "      <td>imdbDisplay</td>\n",
       "      <td>NaN</td>\n",
       "      <td>0.0</td>\n",
       "      <td>NaN</td>\n",
       "      <td>NaN</td>\n",
       "      <td>6.0</td>\n",
       "      <td>nm7279677</td>\n",
       "      <td>cinematographer</td>\n",
       "      <td>NaN</td>\n",
       "      <td>NaN</td>\n",
       "      <td>Javier de Usabel</td>\n",
       "      <td>NaN</td>\n",
       "      <td>NaN</td>\n",
       "      <td>camera_department,cinematographer,art_department</td>\n",
       "      <td>tt4948838,tt7002576,tt8951078,tt4164866</td>\n",
       "    </tr>\n",
       "    <tr>\n",
       "      <th>2841273</th>\n",
       "      <td>tt9880178</td>\n",
       "      <td>3</td>\n",
       "      <td>The Attention</td>\n",
       "      <td>XWW</td>\n",
       "      <td>en</td>\n",
       "      <td>imdbDisplay</td>\n",
       "      <td>NaN</td>\n",
       "      <td>0.0</td>\n",
       "      <td>NaN</td>\n",
       "      <td>NaN</td>\n",
       "      <td>7.0</td>\n",
       "      <td>nm1341556</td>\n",
       "      <td>self</td>\n",
       "      <td>NaN</td>\n",
       "      <td>[\"Himself\"]</td>\n",
       "      <td>Jaime Jaimes</td>\n",
       "      <td>NaN</td>\n",
       "      <td>NaN</td>\n",
       "      <td>director</td>\n",
       "      <td>tt0358405,tt0451590</td>\n",
       "    </tr>\n",
       "    <tr>\n",
       "      <th>2841274</th>\n",
       "      <td>tt9880178</td>\n",
       "      <td>3</td>\n",
       "      <td>The Attention</td>\n",
       "      <td>XWW</td>\n",
       "      <td>en</td>\n",
       "      <td>imdbDisplay</td>\n",
       "      <td>NaN</td>\n",
       "      <td>0.0</td>\n",
       "      <td>NaN</td>\n",
       "      <td>NaN</td>\n",
       "      <td>8.0</td>\n",
       "      <td>nm4242087</td>\n",
       "      <td>self</td>\n",
       "      <td>NaN</td>\n",
       "      <td>[\"Herself\"]</td>\n",
       "      <td>Amparo Malo</td>\n",
       "      <td>NaN</td>\n",
       "      <td>NaN</td>\n",
       "      <td>actress</td>\n",
       "      <td>tt5159898,tt1805202</td>\n",
       "    </tr>\n",
       "    <tr>\n",
       "      <th>2841275</th>\n",
       "      <td>tt9880178</td>\n",
       "      <td>3</td>\n",
       "      <td>The Attention</td>\n",
       "      <td>XWW</td>\n",
       "      <td>en</td>\n",
       "      <td>imdbDisplay</td>\n",
       "      <td>NaN</td>\n",
       "      <td>0.0</td>\n",
       "      <td>NaN</td>\n",
       "      <td>NaN</td>\n",
       "      <td>9.0</td>\n",
       "      <td>nm6571931</td>\n",
       "      <td>self</td>\n",
       "      <td>NaN</td>\n",
       "      <td>[\"Herself\"]</td>\n",
       "      <td>Antea Rodríguez</td>\n",
       "      <td>NaN</td>\n",
       "      <td>NaN</td>\n",
       "      <td>actress</td>\n",
       "      <td>tt6614472,tt3772550</td>\n",
       "    </tr>\n",
       "  </tbody>\n",
       "</table>\n",
       "<p>2841276 rows × 20 columns</p>\n",
       "</div>"
      ],
      "text/plain": [
       "            tconst  ordering_x          title region language        types  \\\n",
       "0        tt0369610          10  Джурасик свят     BG       bg          NaN   \n",
       "1        tt0369610          10  Джурасик свят     BG       bg          NaN   \n",
       "2        tt0369610          10  Джурасик свят     BG       bg          NaN   \n",
       "3        tt0369610          10  Джурасик свят     BG       bg          NaN   \n",
       "4        tt0369610          10  Джурасик свят     BG       bg          NaN   \n",
       "...            ...         ...            ...    ...      ...          ...   \n",
       "2841271  tt9880178           3  The Attention    XWW       en  imdbDisplay   \n",
       "2841272  tt9880178           3  The Attention    XWW       en  imdbDisplay   \n",
       "2841273  tt9880178           3  The Attention    XWW       en  imdbDisplay   \n",
       "2841274  tt9880178           3  The Attention    XWW       en  imdbDisplay   \n",
       "2841275  tt9880178           3  The Attention    XWW       en  imdbDisplay   \n",
       "\n",
       "        attributes  is_original_title  averagerating  numvotes  ordering_y  \\\n",
       "0              NaN                0.0            7.0  539338.0        10.0   \n",
       "1              NaN                0.0            7.0  539338.0         1.0   \n",
       "2              NaN                0.0            7.0  539338.0         2.0   \n",
       "3              NaN                0.0            7.0  539338.0         3.0   \n",
       "4              NaN                0.0            7.0  539338.0         4.0   \n",
       "...            ...                ...            ...       ...         ...   \n",
       "2841271        NaN                0.0            NaN       NaN         5.0   \n",
       "2841272        NaN                0.0            NaN       NaN         6.0   \n",
       "2841273        NaN                0.0            NaN       NaN         7.0   \n",
       "2841274        NaN                0.0            NaN       NaN         8.0   \n",
       "2841275        NaN                0.0            NaN       NaN         9.0   \n",
       "\n",
       "            nconst         category       job   characters  \\\n",
       "0        nm0189777         producer  producer          NaN   \n",
       "1        nm0695435            actor       NaN     [\"Owen\"]   \n",
       "2        nm0397171          actress       NaN   [\"Claire\"]   \n",
       "3        nm1339223            actor       NaN     [\"Gray\"]   \n",
       "4        nm0339460          actress       NaN    [\"Karen\"]   \n",
       "...            ...              ...       ...          ...   \n",
       "2841271  nm1567587         producer  producer          NaN   \n",
       "2841272  nm7279677  cinematographer       NaN          NaN   \n",
       "2841273  nm1341556             self       NaN  [\"Himself\"]   \n",
       "2841274  nm4242087             self       NaN  [\"Herself\"]   \n",
       "2841275  nm6571931             self       NaN  [\"Herself\"]   \n",
       "\n",
       "                     primary_name  birth_year  death_year  \\\n",
       "0                 Patrick Crowley         NaN         NaN   \n",
       "1                     Chris Pratt      1979.0         NaN   \n",
       "2             Bryce Dallas Howard      1981.0         NaN   \n",
       "3                     Ty Simpkins         NaN         NaN   \n",
       "4                      Judy Greer      1975.0         NaN   \n",
       "...                           ...         ...         ...   \n",
       "2841271  Iñigo Fernández Ostolaza         NaN         NaN   \n",
       "2841272          Javier de Usabel         NaN         NaN   \n",
       "2841273              Jaime Jaimes         NaN         NaN   \n",
       "2841274               Amparo Malo         NaN         NaN   \n",
       "2841275           Antea Rodríguez         NaN         NaN   \n",
       "\n",
       "                                       primary_profession  \\\n",
       "0          producer,assistant_director,production_manager   \n",
       "1                               actor,soundtrack,producer   \n",
       "2                                 actress,director,writer   \n",
       "3                                                   actor   \n",
       "4                             actress,producer,soundtrack   \n",
       "...                                                   ...   \n",
       "2841271                          editor,producer,director   \n",
       "2841272  camera_department,cinematographer,art_department   \n",
       "2841273                                          director   \n",
       "2841274                                           actress   \n",
       "2841275                                           actress   \n",
       "\n",
       "                                known_for_titles  \n",
       "0        tt0372183,tt1059786,tt0258463,tt0440963  \n",
       "1        tt1490017,tt0369610,tt1266020,tt2015381  \n",
       "2                  tt1454029,tt0369610,tt1800302  \n",
       "3        tt0369610,tt1300854,tt4154796,tt1591095  \n",
       "4        tt0369610,tt0337563,tt0478970,tt0988595  \n",
       "...                                          ...  \n",
       "2841271  tt0254455,tt7524694,tt9880178,tt0471112  \n",
       "2841272  tt4948838,tt7002576,tt8951078,tt4164866  \n",
       "2841273                      tt0358405,tt0451590  \n",
       "2841274                      tt5159898,tt1805202  \n",
       "2841275                      tt6614472,tt3772550  \n",
       "\n",
       "[2841276 rows x 20 columns]"
      ]
     },
     "execution_count": 20,
     "metadata": {},
     "output_type": "execute_result"
    }
   ],
   "source": [
    "imdb_df_people_df = pd.merge(imdb_df, people_df, on='tconst', how='left')\n",
    "imdb_df_people_df"
   ]
  },
  {
   "cell_type": "code",
   "execution_count": 21,
   "metadata": {
    "scrolled": true
   },
   "outputs": [
    {
     "name": "stdout",
     "output_type": "stream",
     "text": [
      "<class 'pandas.core.frame.DataFrame'>\n",
      "Int64Index: 2841276 entries, 0 to 2841275\n",
      "Data columns (total 20 columns):\n",
      " #   Column              Dtype  \n",
      "---  ------              -----  \n",
      " 0   tconst              object \n",
      " 1   ordering_x          int64  \n",
      " 2   title               object \n",
      " 3   region              object \n",
      " 4   language            object \n",
      " 5   types               object \n",
      " 6   attributes          object \n",
      " 7   is_original_title   float64\n",
      " 8   averagerating       float64\n",
      " 9   numvotes            float64\n",
      " 10  ordering_y          float64\n",
      " 11  nconst              object \n",
      " 12  category            object \n",
      " 13  job                 object \n",
      " 14  characters          object \n",
      " 15  primary_name        object \n",
      " 16  birth_year          float64\n",
      " 17  death_year          float64\n",
      " 18  primary_profession  object \n",
      " 19  known_for_titles    object \n",
      "dtypes: float64(6), int64(1), object(13)\n",
      "memory usage: 455.2+ MB\n"
     ]
    }
   ],
   "source": [
    "imdb_df_people_df.info()"
   ]
  },
  {
   "cell_type": "markdown",
   "metadata": {},
   "source": [
    "## Filtering out International and Duplicate Names\n"
   ]
  },
  {
   "cell_type": "markdown",
   "metadata": {},
   "source": [
    "Below we can see we have multiple names for a single move as it was released in several different markets. We want to isolate and get a single movie title we're familiar with and use that one. We made the decision to subset the US region to get a standard US release title. We filtered out all the different types of release titles as well."
   ]
  },
  {
   "cell_type": "code",
   "execution_count": 22,
   "metadata": {},
   "outputs": [],
   "source": [
    "#imdb_df['tconst'].value_counts()"
   ]
  },
  {
   "cell_type": "code",
   "execution_count": 23,
   "metadata": {},
   "outputs": [],
   "source": [
    "imdb_df_people_df = imdb_df_people_df[imdb_df_people_df['region'] == 'US']"
   ]
  },
  {
   "cell_type": "markdown",
   "metadata": {},
   "source": [
    "Below we can see there's different titles for a single movie and we can filter those out."
   ]
  },
  {
   "cell_type": "code",
   "execution_count": 24,
   "metadata": {},
   "outputs": [],
   "source": [
    "#imdb_df_people_df['attributes'].value_counts()"
   ]
  },
  {
   "cell_type": "code",
   "execution_count": 25,
   "metadata": {},
   "outputs": [],
   "source": [
    "#imdb_df_people_df['types'].value_counts()"
   ]
  },
  {
   "cell_type": "code",
   "execution_count": 26,
   "metadata": {},
   "outputs": [],
   "source": [
    "imdb_df_people_df = imdb_df_people_df[imdb_df_people_df['attributes'] != 'fake working title']\n",
    "imdb_df_people_df = imdb_df_people_df[imdb_df_people_df['attributes'] != 'informal short title']\n",
    "imdb_df_people_df = imdb_df_people_df[imdb_df_people_df['attributes'] != 'promotional title']\n",
    "imdb_df_people_df = imdb_df_people_df[imdb_df_people_df['types'] != 'working']\n",
    "imdb_df_people_df = imdb_df_people_df[imdb_df_people_df['attributes'] != 'IMAX version']\n",
    "imdb_df_people_df = imdb_df_people_df[imdb_df_people_df['attributes'] != 'poster title']\n",
    "imdb_df_people_df = imdb_df_people_df[imdb_df_people_df['attributes'] != 'informal title']\n",
    "imdb_df_people_df = imdb_df_people_df[imdb_df_people_df['attributes'] != '3-D version']\n",
    "imdb_df_people_df = imdb_df_people_df[imdb_df_people_df['attributes'] != 'director\\'s cut']\n",
    "imdb_df_people_df = imdb_df_people_df[imdb_df_people_df['attributes'] != 'alternative spelling']\n",
    "imdb_df_people_df = imdb_df_people_df[imdb_df_people_df['attributes'] != 'informal alternative title']\n",
    "imdb_df_people_df = imdb_df_people_df[imdb_df_people_df['attributes'] != 'long title']\n",
    "imdb_df_people_df = imdb_df_people_df[imdb_df_people_df['attributes'] != 'short title']\n",
    "imdb_df_people_df = imdb_df_people_df[imdb_df_people_df['types'] != 'alternative']"
   ]
  },
  {
   "cell_type": "markdown",
   "metadata": {},
   "source": [
    "## Removing None and Low Votes"
   ]
  },
  {
   "cell_type": "code",
   "execution_count": 27,
   "metadata": {
    "scrolled": true
   },
   "outputs": [
    {
     "data": {
      "image/png": "[encoded data removed]",
      "text/plain": [
       "<Figure size 720x720 with 1 Axes>"
      ]
     },
     "metadata": {
      "needs_background": "light"
     },
     "output_type": "display_data"
    }
   ],
   "source": [
    "fig, ax = plt.subplots(figsize=(10,10))\n",
    "ax.boxplot(np.log(imdb_df_people_df['numvotes'].dropna()));\n",
    "ax.set_yticks(np.arange(2, 15, 2))\n",
    "ax.set_yticklabels(['10^2', '10^4', '10^6', '10^8', '10^10', '10^12', '10^14']);"
   ]
  },
  {
   "cell_type": "markdown",
   "metadata": {},
   "source": [
    "We will filter out movies with less than 10^3 votes"
   ]
  },
  {
   "cell_type": "code",
   "execution_count": 28,
   "metadata": {},
   "outputs": [],
   "source": [
    "imdb_df_people_df = imdb_df_people_df[imdb_df_people_df['numvotes'] >= 10000]\n",
    "imdb_df_people_df = imdb_df_people_df.dropna(subset=['numvotes'])"
   ]
  },
  {
   "cell_type": "code",
   "execution_count": 29,
   "metadata": {},
   "outputs": [],
   "source": [
    "imdb_df_people_df = imdb_df_people_df[['tconst', 'title', 'averagerating', 'numvotes', 'category', 'primary_name', 'nconst']]"
   ]
  },
  {
   "cell_type": "markdown",
   "metadata": {},
   "source": [
    "## Merging the IMDB dataset  To the Numbers Dataset"
   ]
  },
  {
   "cell_type": "markdown",
   "metadata": {},
   "source": [
    "Renaming the movie column header to title to join tables together."
   ]
  },
  {
   "cell_type": "code",
   "execution_count": 30,
   "metadata": {},
   "outputs": [
    {
     "data": {
      "text/html": [
       "<div>\n",
       "<style scoped>\n",
       "    .dataframe tbody tr th:only-of-type {\n",
       "        vertical-align: middle;\n",
       "    }\n",
       "\n",
       "    .dataframe tbody tr th {\n",
       "        vertical-align: top;\n",
       "    }\n",
       "\n",
       "    .dataframe thead th {\n",
       "        text-align: right;\n",
       "    }\n",
       "</style>\n",
       "<table border=\"1\" class=\"dataframe\">\n",
       "  <thead>\n",
       "    <tr style=\"text-align: right;\">\n",
       "      <th></th>\n",
       "      <th>release_date</th>\n",
       "      <th>title</th>\n",
       "      <th>production_budget</th>\n",
       "      <th>domestic_gross</th>\n",
       "      <th>worldwide_gross</th>\n",
       "    </tr>\n",
       "    <tr>\n",
       "      <th>id</th>\n",
       "      <th></th>\n",
       "      <th></th>\n",
       "      <th></th>\n",
       "      <th></th>\n",
       "      <th></th>\n",
       "    </tr>\n",
       "  </thead>\n",
       "  <tbody>\n",
       "    <tr>\n",
       "      <th>1</th>\n",
       "      <td>Dec 18, 2009</td>\n",
       "      <td>Avatar</td>\n",
       "      <td>$425,000,000</td>\n",
       "      <td>$760,507,625</td>\n",
       "      <td>$2,776,345,279</td>\n",
       "    </tr>\n",
       "    <tr>\n",
       "      <th>2</th>\n",
       "      <td>May 20, 2011</td>\n",
       "      <td>Pirates of the Caribbean: On Stranger Tides</td>\n",
       "      <td>$410,600,000</td>\n",
       "      <td>$241,063,875</td>\n",
       "      <td>$1,045,663,875</td>\n",
       "    </tr>\n",
       "    <tr>\n",
       "      <th>3</th>\n",
       "      <td>Jun 7, 2019</td>\n",
       "      <td>Dark Phoenix</td>\n",
       "      <td>$350,000,000</td>\n",
       "      <td>$42,762,350</td>\n",
       "      <td>$149,762,350</td>\n",
       "    </tr>\n",
       "    <tr>\n",
       "      <th>4</th>\n",
       "      <td>May 1, 2015</td>\n",
       "      <td>Avengers: Age of Ultron</td>\n",
       "      <td>$330,600,000</td>\n",
       "      <td>$459,005,868</td>\n",
       "      <td>$1,403,013,963</td>\n",
       "    </tr>\n",
       "    <tr>\n",
       "      <th>5</th>\n",
       "      <td>Dec 15, 2017</td>\n",
       "      <td>Star Wars Ep. VIII: The Last Jedi</td>\n",
       "      <td>$317,000,000</td>\n",
       "      <td>$620,181,382</td>\n",
       "      <td>$1,316,721,747</td>\n",
       "    </tr>\n",
       "    <tr>\n",
       "      <th>...</th>\n",
       "      <td>...</td>\n",
       "      <td>...</td>\n",
       "      <td>...</td>\n",
       "      <td>...</td>\n",
       "      <td>...</td>\n",
       "    </tr>\n",
       "    <tr>\n",
       "      <th>78</th>\n",
       "      <td>Dec 31, 2018</td>\n",
       "      <td>Red 11</td>\n",
       "      <td>$7,000</td>\n",
       "      <td>$0</td>\n",
       "      <td>$0</td>\n",
       "    </tr>\n",
       "    <tr>\n",
       "      <th>79</th>\n",
       "      <td>Apr 2, 1999</td>\n",
       "      <td>Following</td>\n",
       "      <td>$6,000</td>\n",
       "      <td>$48,482</td>\n",
       "      <td>$240,495</td>\n",
       "    </tr>\n",
       "    <tr>\n",
       "      <th>80</th>\n",
       "      <td>Jul 13, 2005</td>\n",
       "      <td>Return to the Land of Wonders</td>\n",
       "      <td>$5,000</td>\n",
       "      <td>$1,338</td>\n",
       "      <td>$1,338</td>\n",
       "    </tr>\n",
       "    <tr>\n",
       "      <th>81</th>\n",
       "      <td>Sep 29, 2015</td>\n",
       "      <td>A Plague So Pleasant</td>\n",
       "      <td>$1,400</td>\n",
       "      <td>$0</td>\n",
       "      <td>$0</td>\n",
       "    </tr>\n",
       "    <tr>\n",
       "      <th>82</th>\n",
       "      <td>Aug 5, 2005</td>\n",
       "      <td>My Date With Drew</td>\n",
       "      <td>$1,100</td>\n",
       "      <td>$181,041</td>\n",
       "      <td>$181,041</td>\n",
       "    </tr>\n",
       "  </tbody>\n",
       "</table>\n",
       "<p>5782 rows × 5 columns</p>\n",
       "</div>"
      ],
      "text/plain": [
       "    release_date                                        title  \\\n",
       "id                                                              \n",
       "1   Dec 18, 2009                                       Avatar   \n",
       "2   May 20, 2011  Pirates of the Caribbean: On Stranger Tides   \n",
       "3    Jun 7, 2019                                 Dark Phoenix   \n",
       "4    May 1, 2015                      Avengers: Age of Ultron   \n",
       "5   Dec 15, 2017            Star Wars Ep. VIII: The Last Jedi   \n",
       "..           ...                                          ...   \n",
       "78  Dec 31, 2018                                       Red 11   \n",
       "79   Apr 2, 1999                                    Following   \n",
       "80  Jul 13, 2005                Return to the Land of Wonders   \n",
       "81  Sep 29, 2015                         A Plague So Pleasant   \n",
       "82   Aug 5, 2005                            My Date With Drew   \n",
       "\n",
       "   production_budget domestic_gross worldwide_gross  \n",
       "id                                                   \n",
       "1       $425,000,000   $760,507,625  $2,776,345,279  \n",
       "2       $410,600,000   $241,063,875  $1,045,663,875  \n",
       "3       $350,000,000    $42,762,350    $149,762,350  \n",
       "4       $330,600,000   $459,005,868  $1,403,013,963  \n",
       "5       $317,000,000   $620,181,382  $1,316,721,747  \n",
       "..               ...            ...             ...  \n",
       "78            $7,000             $0              $0  \n",
       "79            $6,000        $48,482        $240,495  \n",
       "80            $5,000         $1,338          $1,338  \n",
       "81            $1,400             $0              $0  \n",
       "82            $1,100       $181,041        $181,041  \n",
       "\n",
       "[5782 rows x 5 columns]"
      ]
     },
     "execution_count": 30,
     "metadata": {},
     "output_type": "execute_result"
    }
   ],
   "source": [
    "tn_df.rename(columns = {'movie': 'title'}, inplace=True)\n",
    "tn_df"
   ]
  },
  {
   "cell_type": "code",
   "execution_count": 31,
   "metadata": {},
   "outputs": [
    {
     "data": {
      "text/html": [
       "<div>\n",
       "<style scoped>\n",
       "    .dataframe tbody tr th:only-of-type {\n",
       "        vertical-align: middle;\n",
       "    }\n",
       "\n",
       "    .dataframe tbody tr th {\n",
       "        vertical-align: top;\n",
       "    }\n",
       "\n",
       "    .dataframe thead th {\n",
       "        text-align: right;\n",
       "    }\n",
       "</style>\n",
       "<table border=\"1\" class=\"dataframe\">\n",
       "  <thead>\n",
       "    <tr style=\"text-align: right;\">\n",
       "      <th></th>\n",
       "      <th>tconst</th>\n",
       "      <th>title</th>\n",
       "      <th>averagerating</th>\n",
       "      <th>numvotes</th>\n",
       "      <th>category</th>\n",
       "      <th>primary_name</th>\n",
       "      <th>nconst</th>\n",
       "      <th>release_date</th>\n",
       "      <th>production_budget</th>\n",
       "      <th>domestic_gross</th>\n",
       "      <th>worldwide_gross</th>\n",
       "    </tr>\n",
       "  </thead>\n",
       "  <tbody>\n",
       "    <tr>\n",
       "      <th>0</th>\n",
       "      <td>tt0369610</td>\n",
       "      <td>Jurassic World</td>\n",
       "      <td>7.0</td>\n",
       "      <td>539338.0</td>\n",
       "      <td>producer</td>\n",
       "      <td>Patrick Crowley</td>\n",
       "      <td>nm0189777</td>\n",
       "      <td>Jun 12, 2015</td>\n",
       "      <td>$215,000,000</td>\n",
       "      <td>$652,270,625</td>\n",
       "      <td>$1,648,854,864</td>\n",
       "    </tr>\n",
       "    <tr>\n",
       "      <th>1</th>\n",
       "      <td>tt0369610</td>\n",
       "      <td>Jurassic World</td>\n",
       "      <td>7.0</td>\n",
       "      <td>539338.0</td>\n",
       "      <td>actor</td>\n",
       "      <td>Chris Pratt</td>\n",
       "      <td>nm0695435</td>\n",
       "      <td>Jun 12, 2015</td>\n",
       "      <td>$215,000,000</td>\n",
       "      <td>$652,270,625</td>\n",
       "      <td>$1,648,854,864</td>\n",
       "    </tr>\n",
       "    <tr>\n",
       "      <th>2</th>\n",
       "      <td>tt0369610</td>\n",
       "      <td>Jurassic World</td>\n",
       "      <td>7.0</td>\n",
       "      <td>539338.0</td>\n",
       "      <td>actress</td>\n",
       "      <td>Bryce Dallas Howard</td>\n",
       "      <td>nm0397171</td>\n",
       "      <td>Jun 12, 2015</td>\n",
       "      <td>$215,000,000</td>\n",
       "      <td>$652,270,625</td>\n",
       "      <td>$1,648,854,864</td>\n",
       "    </tr>\n",
       "    <tr>\n",
       "      <th>3</th>\n",
       "      <td>tt0369610</td>\n",
       "      <td>Jurassic World</td>\n",
       "      <td>7.0</td>\n",
       "      <td>539338.0</td>\n",
       "      <td>actor</td>\n",
       "      <td>Ty Simpkins</td>\n",
       "      <td>nm1339223</td>\n",
       "      <td>Jun 12, 2015</td>\n",
       "      <td>$215,000,000</td>\n",
       "      <td>$652,270,625</td>\n",
       "      <td>$1,648,854,864</td>\n",
       "    </tr>\n",
       "    <tr>\n",
       "      <th>4</th>\n",
       "      <td>tt0369610</td>\n",
       "      <td>Jurassic World</td>\n",
       "      <td>7.0</td>\n",
       "      <td>539338.0</td>\n",
       "      <td>actress</td>\n",
       "      <td>Judy Greer</td>\n",
       "      <td>nm0339460</td>\n",
       "      <td>Jun 12, 2015</td>\n",
       "      <td>$215,000,000</td>\n",
       "      <td>$652,270,625</td>\n",
       "      <td>$1,648,854,864</td>\n",
       "    </tr>\n",
       "    <tr>\n",
       "      <th>...</th>\n",
       "      <td>...</td>\n",
       "      <td>...</td>\n",
       "      <td>...</td>\n",
       "      <td>...</td>\n",
       "      <td>...</td>\n",
       "      <td>...</td>\n",
       "      <td>...</td>\n",
       "      <td>...</td>\n",
       "      <td>...</td>\n",
       "      <td>...</td>\n",
       "      <td>...</td>\n",
       "    </tr>\n",
       "    <tr>\n",
       "      <th>12007</th>\n",
       "      <td>tt6139732</td>\n",
       "      <td>Aladdin</td>\n",
       "      <td>7.4</td>\n",
       "      <td>57549.0</td>\n",
       "      <td>producer</td>\n",
       "      <td>Jonathan Eirich</td>\n",
       "      <td>nm3043818</td>\n",
       "      <td>Nov 11, 1992</td>\n",
       "      <td>$28,000,000</td>\n",
       "      <td>$217,350,219</td>\n",
       "      <td>$504,050,219</td>\n",
       "    </tr>\n",
       "    <tr>\n",
       "      <th>12008</th>\n",
       "      <td>tt6139732</td>\n",
       "      <td>Aladdin</td>\n",
       "      <td>7.4</td>\n",
       "      <td>57549.0</td>\n",
       "      <td>producer</td>\n",
       "      <td>Dan Lin</td>\n",
       "      <td>nm1469853</td>\n",
       "      <td>May 24, 2019</td>\n",
       "      <td>$182,000,000</td>\n",
       "      <td>$246,734,314</td>\n",
       "      <td>$619,234,314</td>\n",
       "    </tr>\n",
       "    <tr>\n",
       "      <th>12009</th>\n",
       "      <td>tt6139732</td>\n",
       "      <td>Aladdin</td>\n",
       "      <td>7.4</td>\n",
       "      <td>57549.0</td>\n",
       "      <td>producer</td>\n",
       "      <td>Dan Lin</td>\n",
       "      <td>nm1469853</td>\n",
       "      <td>Nov 11, 1992</td>\n",
       "      <td>$28,000,000</td>\n",
       "      <td>$217,350,219</td>\n",
       "      <td>$504,050,219</td>\n",
       "    </tr>\n",
       "    <tr>\n",
       "      <th>12010</th>\n",
       "      <td>tt6139732</td>\n",
       "      <td>Aladdin</td>\n",
       "      <td>7.4</td>\n",
       "      <td>57549.0</td>\n",
       "      <td>composer</td>\n",
       "      <td>Alan Menken</td>\n",
       "      <td>nm0579678</td>\n",
       "      <td>May 24, 2019</td>\n",
       "      <td>$182,000,000</td>\n",
       "      <td>$246,734,314</td>\n",
       "      <td>$619,234,314</td>\n",
       "    </tr>\n",
       "    <tr>\n",
       "      <th>12011</th>\n",
       "      <td>tt6139732</td>\n",
       "      <td>Aladdin</td>\n",
       "      <td>7.4</td>\n",
       "      <td>57549.0</td>\n",
       "      <td>composer</td>\n",
       "      <td>Alan Menken</td>\n",
       "      <td>nm0579678</td>\n",
       "      <td>Nov 11, 1992</td>\n",
       "      <td>$28,000,000</td>\n",
       "      <td>$217,350,219</td>\n",
       "      <td>$504,050,219</td>\n",
       "    </tr>\n",
       "  </tbody>\n",
       "</table>\n",
       "<p>12012 rows × 11 columns</p>\n",
       "</div>"
      ],
      "text/plain": [
       "          tconst           title  averagerating  numvotes  category  \\\n",
       "0      tt0369610  Jurassic World            7.0  539338.0  producer   \n",
       "1      tt0369610  Jurassic World            7.0  539338.0     actor   \n",
       "2      tt0369610  Jurassic World            7.0  539338.0   actress   \n",
       "3      tt0369610  Jurassic World            7.0  539338.0     actor   \n",
       "4      tt0369610  Jurassic World            7.0  539338.0   actress   \n",
       "...          ...             ...            ...       ...       ...   \n",
       "12007  tt6139732         Aladdin            7.4   57549.0  producer   \n",
       "12008  tt6139732         Aladdin            7.4   57549.0  producer   \n",
       "12009  tt6139732         Aladdin            7.4   57549.0  producer   \n",
       "12010  tt6139732         Aladdin            7.4   57549.0  composer   \n",
       "12011  tt6139732         Aladdin            7.4   57549.0  composer   \n",
       "\n",
       "              primary_name     nconst  release_date production_budget  \\\n",
       "0          Patrick Crowley  nm0189777  Jun 12, 2015      $215,000,000   \n",
       "1              Chris Pratt  nm0695435  Jun 12, 2015      $215,000,000   \n",
       "2      Bryce Dallas Howard  nm0397171  Jun 12, 2015      $215,000,000   \n",
       "3              Ty Simpkins  nm1339223  Jun 12, 2015      $215,000,000   \n",
       "4               Judy Greer  nm0339460  Jun 12, 2015      $215,000,000   \n",
       "...                    ...        ...           ...               ...   \n",
       "12007      Jonathan Eirich  nm3043818  Nov 11, 1992       $28,000,000   \n",
       "12008              Dan Lin  nm1469853  May 24, 2019      $182,000,000   \n",
       "12009              Dan Lin  nm1469853  Nov 11, 1992       $28,000,000   \n",
       "12010          Alan Menken  nm0579678  May 24, 2019      $182,000,000   \n",
       "12011          Alan Menken  nm0579678  Nov 11, 1992       $28,000,000   \n",
       "\n",
       "      domestic_gross worldwide_gross  \n",
       "0       $652,270,625  $1,648,854,864  \n",
       "1       $652,270,625  $1,648,854,864  \n",
       "2       $652,270,625  $1,648,854,864  \n",
       "3       $652,270,625  $1,648,854,864  \n",
       "4       $652,270,625  $1,648,854,864  \n",
       "...              ...             ...  \n",
       "12007   $217,350,219    $504,050,219  \n",
       "12008   $246,734,314    $619,234,314  \n",
       "12009   $217,350,219    $504,050,219  \n",
       "12010   $246,734,314    $619,234,314  \n",
       "12011   $217,350,219    $504,050,219  \n",
       "\n",
       "[12012 rows x 11 columns]"
      ]
     },
     "execution_count": 31,
     "metadata": {},
     "output_type": "execute_result"
    }
   ],
   "source": [
    "imdb_tndb = pd.merge(imdb_df_people_df, tn_df, on='title', how='inner')\n",
    "imdb_tndb"
   ]
  },
  {
   "cell_type": "markdown",
   "metadata": {},
   "source": [
    "## Changing the data type of monetary values from string into float"
   ]
  },
  {
   "cell_type": "code",
   "execution_count": 32,
   "metadata": {},
   "outputs": [
    {
     "name": "stdout",
     "output_type": "stream",
     "text": [
      "<class 'pandas.core.frame.DataFrame'>\n",
      "Int64Index: 12012 entries, 0 to 12011\n",
      "Data columns (total 11 columns):\n",
      " #   Column             Non-Null Count  Dtype  \n",
      "---  ------             --------------  -----  \n",
      " 0   tconst             12012 non-null  object \n",
      " 1   title              12012 non-null  object \n",
      " 2   averagerating      12012 non-null  float64\n",
      " 3   numvotes           12012 non-null  float64\n",
      " 4   category           12012 non-null  object \n",
      " 5   primary_name       12012 non-null  object \n",
      " 6   nconst             12012 non-null  object \n",
      " 7   release_date       12012 non-null  object \n",
      " 8   production_budget  12012 non-null  object \n",
      " 9   domestic_gross     12012 non-null  object \n",
      " 10  worldwide_gross    12012 non-null  object \n",
      "dtypes: float64(2), object(9)\n",
      "memory usage: 1.1+ MB\n"
     ]
    }
   ],
   "source": [
    "imdb_tndb.info()"
   ]
  },
  {
   "cell_type": "code",
   "execution_count": 33,
   "metadata": {},
   "outputs": [],
   "source": [
    "imdb_tndb['domestic_gross'] = imdb_tndb['domestic_gross'].str.replace(',','')\n",
    "imdb_tndb['domestic_gross'] = imdb_tndb['domestic_gross'].str.replace('$','')\n",
    "imdb_tndb['domestic_gross'] = imdb_tndb['domestic_gross'].astype(float)"
   ]
  },
  {
   "cell_type": "code",
   "execution_count": 34,
   "metadata": {},
   "outputs": [],
   "source": [
    "imdb_tndb['production_budget'] = imdb_tndb['production_budget'].str.replace(',','')\n",
    "imdb_tndb['production_budget'] = imdb_tndb['production_budget'].str.replace('$','')\n",
    "imdb_tndb['production_budget'] = imdb_tndb['production_budget'].astype(float)"
   ]
  },
  {
   "cell_type": "code",
   "execution_count": 35,
   "metadata": {},
   "outputs": [],
   "source": [
    "imdb_tndb['worldwide_gross'] = imdb_tndb['worldwide_gross'].str.replace(',','')\n",
    "imdb_tndb['worldwide_gross'] = imdb_tndb['worldwide_gross'].str.replace('$','')\n",
    "imdb_tndb['worldwide_gross'] = imdb_tndb['worldwide_gross'].astype(float)"
   ]
  },
  {
   "cell_type": "markdown",
   "metadata": {},
   "source": [
    "## Adding Profit Margin Column and ratio of Production Budget to Worldwide Gross\n"
   ]
  },
  {
   "cell_type": "code",
   "execution_count": 36,
   "metadata": {},
   "outputs": [],
   "source": [
    "imdb_tndb['Profit_Margin'] = ((imdb_tndb['worldwide_gross'] - imdb_tndb['production_budget']) / imdb_tndb['worldwide_gross'])*100\n",
    "imdb_tndb['ratio_budget_gross'] = (imdb_tndb['production_budget'] / imdb_tndb['worldwide_gross'])\n",
    "imdb_tndb['ratio_budget_gross_%'] = imdb_tndb['ratio_budget_gross']*100"
   ]
  },
  {
   "cell_type": "markdown",
   "metadata": {},
   "source": [
    "## Filtering out rows with domestic and worldwide gross is zero"
   ]
  },
  {
   "cell_type": "code",
   "execution_count": 37,
   "metadata": {
    "scrolled": true
   },
   "outputs": [
    {
     "data": {
      "text/html": [
       "<div>\n",
       "<style scoped>\n",
       "    .dataframe tbody tr th:only-of-type {\n",
       "        vertical-align: middle;\n",
       "    }\n",
       "\n",
       "    .dataframe tbody tr th {\n",
       "        vertical-align: top;\n",
       "    }\n",
       "\n",
       "    .dataframe thead th {\n",
       "        text-align: right;\n",
       "    }\n",
       "</style>\n",
       "<table border=\"1\" class=\"dataframe\">\n",
       "  <thead>\n",
       "    <tr style=\"text-align: right;\">\n",
       "      <th></th>\n",
       "      <th>tconst</th>\n",
       "      <th>title</th>\n",
       "      <th>averagerating</th>\n",
       "      <th>numvotes</th>\n",
       "      <th>category</th>\n",
       "      <th>primary_name</th>\n",
       "      <th>nconst</th>\n",
       "      <th>release_date</th>\n",
       "      <th>production_budget</th>\n",
       "      <th>domestic_gross</th>\n",
       "      <th>worldwide_gross</th>\n",
       "      <th>Profit_Margin</th>\n",
       "      <th>ratio_budget_gross</th>\n",
       "      <th>ratio_budget_gross_%</th>\n",
       "    </tr>\n",
       "  </thead>\n",
       "  <tbody>\n",
       "    <tr>\n",
       "      <th>0</th>\n",
       "      <td>tt0369610</td>\n",
       "      <td>Jurassic World</td>\n",
       "      <td>7.0</td>\n",
       "      <td>539338.0</td>\n",
       "      <td>producer</td>\n",
       "      <td>Patrick Crowley</td>\n",
       "      <td>nm0189777</td>\n",
       "      <td>Jun 12, 2015</td>\n",
       "      <td>215000000.0</td>\n",
       "      <td>652270625.0</td>\n",
       "      <td>1.648855e+09</td>\n",
       "      <td>86.960647</td>\n",
       "      <td>0.130394</td>\n",
       "      <td>13.039353</td>\n",
       "    </tr>\n",
       "    <tr>\n",
       "      <th>1</th>\n",
       "      <td>tt0369610</td>\n",
       "      <td>Jurassic World</td>\n",
       "      <td>7.0</td>\n",
       "      <td>539338.0</td>\n",
       "      <td>actor</td>\n",
       "      <td>Chris Pratt</td>\n",
       "      <td>nm0695435</td>\n",
       "      <td>Jun 12, 2015</td>\n",
       "      <td>215000000.0</td>\n",
       "      <td>652270625.0</td>\n",
       "      <td>1.648855e+09</td>\n",
       "      <td>86.960647</td>\n",
       "      <td>0.130394</td>\n",
       "      <td>13.039353</td>\n",
       "    </tr>\n",
       "    <tr>\n",
       "      <th>2</th>\n",
       "      <td>tt0369610</td>\n",
       "      <td>Jurassic World</td>\n",
       "      <td>7.0</td>\n",
       "      <td>539338.0</td>\n",
       "      <td>actress</td>\n",
       "      <td>Bryce Dallas Howard</td>\n",
       "      <td>nm0397171</td>\n",
       "      <td>Jun 12, 2015</td>\n",
       "      <td>215000000.0</td>\n",
       "      <td>652270625.0</td>\n",
       "      <td>1.648855e+09</td>\n",
       "      <td>86.960647</td>\n",
       "      <td>0.130394</td>\n",
       "      <td>13.039353</td>\n",
       "    </tr>\n",
       "    <tr>\n",
       "      <th>3</th>\n",
       "      <td>tt0369610</td>\n",
       "      <td>Jurassic World</td>\n",
       "      <td>7.0</td>\n",
       "      <td>539338.0</td>\n",
       "      <td>actor</td>\n",
       "      <td>Ty Simpkins</td>\n",
       "      <td>nm1339223</td>\n",
       "      <td>Jun 12, 2015</td>\n",
       "      <td>215000000.0</td>\n",
       "      <td>652270625.0</td>\n",
       "      <td>1.648855e+09</td>\n",
       "      <td>86.960647</td>\n",
       "      <td>0.130394</td>\n",
       "      <td>13.039353</td>\n",
       "    </tr>\n",
       "    <tr>\n",
       "      <th>4</th>\n",
       "      <td>tt0369610</td>\n",
       "      <td>Jurassic World</td>\n",
       "      <td>7.0</td>\n",
       "      <td>539338.0</td>\n",
       "      <td>actress</td>\n",
       "      <td>Judy Greer</td>\n",
       "      <td>nm0339460</td>\n",
       "      <td>Jun 12, 2015</td>\n",
       "      <td>215000000.0</td>\n",
       "      <td>652270625.0</td>\n",
       "      <td>1.648855e+09</td>\n",
       "      <td>86.960647</td>\n",
       "      <td>0.130394</td>\n",
       "      <td>13.039353</td>\n",
       "    </tr>\n",
       "    <tr>\n",
       "      <th>...</th>\n",
       "      <td>...</td>\n",
       "      <td>...</td>\n",
       "      <td>...</td>\n",
       "      <td>...</td>\n",
       "      <td>...</td>\n",
       "      <td>...</td>\n",
       "      <td>...</td>\n",
       "      <td>...</td>\n",
       "      <td>...</td>\n",
       "      <td>...</td>\n",
       "      <td>...</td>\n",
       "      <td>...</td>\n",
       "      <td>...</td>\n",
       "      <td>...</td>\n",
       "    </tr>\n",
       "    <tr>\n",
       "      <th>12007</th>\n",
       "      <td>tt6139732</td>\n",
       "      <td>Aladdin</td>\n",
       "      <td>7.4</td>\n",
       "      <td>57549.0</td>\n",
       "      <td>producer</td>\n",
       "      <td>Jonathan Eirich</td>\n",
       "      <td>nm3043818</td>\n",
       "      <td>Nov 11, 1992</td>\n",
       "      <td>28000000.0</td>\n",
       "      <td>217350219.0</td>\n",
       "      <td>5.040502e+08</td>\n",
       "      <td>94.444998</td>\n",
       "      <td>0.055550</td>\n",
       "      <td>5.555002</td>\n",
       "    </tr>\n",
       "    <tr>\n",
       "      <th>12008</th>\n",
       "      <td>tt6139732</td>\n",
       "      <td>Aladdin</td>\n",
       "      <td>7.4</td>\n",
       "      <td>57549.0</td>\n",
       "      <td>producer</td>\n",
       "      <td>Dan Lin</td>\n",
       "      <td>nm1469853</td>\n",
       "      <td>May 24, 2019</td>\n",
       "      <td>182000000.0</td>\n",
       "      <td>246734314.0</td>\n",
       "      <td>6.192343e+08</td>\n",
       "      <td>70.608864</td>\n",
       "      <td>0.293911</td>\n",
       "      <td>29.391136</td>\n",
       "    </tr>\n",
       "    <tr>\n",
       "      <th>12009</th>\n",
       "      <td>tt6139732</td>\n",
       "      <td>Aladdin</td>\n",
       "      <td>7.4</td>\n",
       "      <td>57549.0</td>\n",
       "      <td>producer</td>\n",
       "      <td>Dan Lin</td>\n",
       "      <td>nm1469853</td>\n",
       "      <td>Nov 11, 1992</td>\n",
       "      <td>28000000.0</td>\n",
       "      <td>217350219.0</td>\n",
       "      <td>5.040502e+08</td>\n",
       "      <td>94.444998</td>\n",
       "      <td>0.055550</td>\n",
       "      <td>5.555002</td>\n",
       "    </tr>\n",
       "    <tr>\n",
       "      <th>12010</th>\n",
       "      <td>tt6139732</td>\n",
       "      <td>Aladdin</td>\n",
       "      <td>7.4</td>\n",
       "      <td>57549.0</td>\n",
       "      <td>composer</td>\n",
       "      <td>Alan Menken</td>\n",
       "      <td>nm0579678</td>\n",
       "      <td>May 24, 2019</td>\n",
       "      <td>182000000.0</td>\n",
       "      <td>246734314.0</td>\n",
       "      <td>6.192343e+08</td>\n",
       "      <td>70.608864</td>\n",
       "      <td>0.293911</td>\n",
       "      <td>29.391136</td>\n",
       "    </tr>\n",
       "    <tr>\n",
       "      <th>12011</th>\n",
       "      <td>tt6139732</td>\n",
       "      <td>Aladdin</td>\n",
       "      <td>7.4</td>\n",
       "      <td>57549.0</td>\n",
       "      <td>composer</td>\n",
       "      <td>Alan Menken</td>\n",
       "      <td>nm0579678</td>\n",
       "      <td>Nov 11, 1992</td>\n",
       "      <td>28000000.0</td>\n",
       "      <td>217350219.0</td>\n",
       "      <td>5.040502e+08</td>\n",
       "      <td>94.444998</td>\n",
       "      <td>0.055550</td>\n",
       "      <td>5.555002</td>\n",
       "    </tr>\n",
       "  </tbody>\n",
       "</table>\n",
       "<p>11815 rows × 14 columns</p>\n",
       "</div>"
      ],
      "text/plain": [
       "          tconst           title  averagerating  numvotes  category  \\\n",
       "0      tt0369610  Jurassic World            7.0  539338.0  producer   \n",
       "1      tt0369610  Jurassic World            7.0  539338.0     actor   \n",
       "2      tt0369610  Jurassic World            7.0  539338.0   actress   \n",
       "3      tt0369610  Jurassic World            7.0  539338.0     actor   \n",
       "4      tt0369610  Jurassic World            7.0  539338.0   actress   \n",
       "...          ...             ...            ...       ...       ...   \n",
       "12007  tt6139732         Aladdin            7.4   57549.0  producer   \n",
       "12008  tt6139732         Aladdin            7.4   57549.0  producer   \n",
       "12009  tt6139732         Aladdin            7.4   57549.0  producer   \n",
       "12010  tt6139732         Aladdin            7.4   57549.0  composer   \n",
       "12011  tt6139732         Aladdin            7.4   57549.0  composer   \n",
       "\n",
       "              primary_name     nconst  release_date  production_budget  \\\n",
       "0          Patrick Crowley  nm0189777  Jun 12, 2015        215000000.0   \n",
       "1              Chris Pratt  nm0695435  Jun 12, 2015        215000000.0   \n",
       "2      Bryce Dallas Howard  nm0397171  Jun 12, 2015        215000000.0   \n",
       "3              Ty Simpkins  nm1339223  Jun 12, 2015        215000000.0   \n",
       "4               Judy Greer  nm0339460  Jun 12, 2015        215000000.0   \n",
       "...                    ...        ...           ...                ...   \n",
       "12007      Jonathan Eirich  nm3043818  Nov 11, 1992         28000000.0   \n",
       "12008              Dan Lin  nm1469853  May 24, 2019        182000000.0   \n",
       "12009              Dan Lin  nm1469853  Nov 11, 1992         28000000.0   \n",
       "12010          Alan Menken  nm0579678  May 24, 2019        182000000.0   \n",
       "12011          Alan Menken  nm0579678  Nov 11, 1992         28000000.0   \n",
       "\n",
       "       domestic_gross  worldwide_gross  Profit_Margin  ratio_budget_gross  \\\n",
       "0         652270625.0     1.648855e+09      86.960647            0.130394   \n",
       "1         652270625.0     1.648855e+09      86.960647            0.130394   \n",
       "2         652270625.0     1.648855e+09      86.960647            0.130394   \n",
       "3         652270625.0     1.648855e+09      86.960647            0.130394   \n",
       "4         652270625.0     1.648855e+09      86.960647            0.130394   \n",
       "...               ...              ...            ...                 ...   \n",
       "12007     217350219.0     5.040502e+08      94.444998            0.055550   \n",
       "12008     246734314.0     6.192343e+08      70.608864            0.293911   \n",
       "12009     217350219.0     5.040502e+08      94.444998            0.055550   \n",
       "12010     246734314.0     6.192343e+08      70.608864            0.293911   \n",
       "12011     217350219.0     5.040502e+08      94.444998            0.055550   \n",
       "\n",
       "       ratio_budget_gross_%  \n",
       "0                 13.039353  \n",
       "1                 13.039353  \n",
       "2                 13.039353  \n",
       "3                 13.039353  \n",
       "4                 13.039353  \n",
       "...                     ...  \n",
       "12007              5.555002  \n",
       "12008             29.391136  \n",
       "12009              5.555002  \n",
       "12010             29.391136  \n",
       "12011              5.555002  \n",
       "\n",
       "[11815 rows x 14 columns]"
      ]
     },
     "execution_count": 37,
     "metadata": {},
     "output_type": "execute_result"
    }
   ],
   "source": [
    "imdb_tndb = imdb_tndb[imdb_tndb['worldwide_gross'] > 0]\n",
    "imdb_tndb"
   ]
  },
  {
   "cell_type": "code",
   "execution_count": 38,
   "metadata": {},
   "outputs": [],
   "source": [
    "#imdb_tndb = imdb_tndb[imdb_tndb['domestic_gross'] > 0]\n",
    "#imdb_tndb"
   ]
  },
  {
   "cell_type": "markdown",
   "metadata": {},
   "source": [
    "## Filtering out movies to only have a time period since 1960 and isolating year"
   ]
  },
  {
   "cell_type": "code",
   "execution_count": 39,
   "metadata": {},
   "outputs": [
    {
     "name": "stderr",
     "output_type": "stream",
     "text": [
      "<ipython-input-39-2033d2b2549f>:1: SettingWithCopyWarning: \n",
      "A value is trying to be set on a copy of a slice from a DataFrame.\n",
      "Try using .loc[row_indexer,col_indexer] = value instead\n",
      "\n",
      "See the caveats in the documentation: https://pandas.pydata.org/pandas-docs/stable/user_guide/indexing.html#returning-a-view-versus-a-copy\n",
      "  imdb_tndb['release dates'] = pd.DatetimeIndex(imdb_tndb.release_date)\n"
     ]
    }
   ],
   "source": [
    "imdb_tndb['release dates'] = pd.DatetimeIndex(imdb_tndb.release_date)"
   ]
  },
  {
   "cell_type": "code",
   "execution_count": 40,
   "metadata": {},
   "outputs": [
    {
     "name": "stdout",
     "output_type": "stream",
     "text": [
      "<class 'pandas.core.frame.DataFrame'>\n",
      "Int64Index: 11815 entries, 0 to 12011\n",
      "Data columns (total 15 columns):\n",
      " #   Column                Non-Null Count  Dtype         \n",
      "---  ------                --------------  -----         \n",
      " 0   tconst                11815 non-null  object        \n",
      " 1   title                 11815 non-null  object        \n",
      " 2   averagerating         11815 non-null  float64       \n",
      " 3   numvotes              11815 non-null  float64       \n",
      " 4   category              11815 non-null  object        \n",
      " 5   primary_name          11815 non-null  object        \n",
      " 6   nconst                11815 non-null  object        \n",
      " 7   release_date          11815 non-null  object        \n",
      " 8   production_budget     11815 non-null  float64       \n",
      " 9   domestic_gross        11815 non-null  float64       \n",
      " 10  worldwide_gross       11815 non-null  float64       \n",
      " 11  Profit_Margin         11815 non-null  float64       \n",
      " 12  ratio_budget_gross    11815 non-null  float64       \n",
      " 13  ratio_budget_gross_%  11815 non-null  float64       \n",
      " 14  release dates         11815 non-null  datetime64[ns]\n",
      "dtypes: datetime64[ns](1), float64(8), object(6)\n",
      "memory usage: 1.4+ MB\n"
     ]
    }
   ],
   "source": [
    "imdb_tndb.info()"
   ]
  },
  {
   "cell_type": "code",
   "execution_count": 41,
   "metadata": {},
   "outputs": [
    {
     "name": "stderr",
     "output_type": "stream",
     "text": [
      "<ipython-input-41-56ba741b7411>:2: SettingWithCopyWarning: \n",
      "A value is trying to be set on a copy of a slice from a DataFrame.\n",
      "Try using .loc[row_indexer,col_indexer] = value instead\n",
      "\n",
      "See the caveats in the documentation: https://pandas.pydata.org/pandas-docs/stable/user_guide/indexing.html#returning-a-view-versus-a-copy\n",
      "  imdb_tndb['years'] = imdb_tndb['release dates'].dt.year\n"
     ]
    }
   ],
   "source": [
    "imdb_tndb = imdb_tndb[imdb_tndb['release dates'] >= '1960-01-01']\n",
    "imdb_tndb['years'] = imdb_tndb['release dates'].dt.year"
   ]
  },
  {
   "cell_type": "markdown",
   "metadata": {},
   "source": [
    "## Filtering out Directors and Performers"
   ]
  },
  {
   "cell_type": "code",
   "execution_count": 42,
   "metadata": {
    "scrolled": false
   },
   "outputs": [],
   "source": [
    "directors = imdb_tndb[imdb_tndb['category'] == 'director']\n",
    "performers = imdb_tndb[(imdb_tndb['category'] == 'actor') | (imdb_tndb['category'] == 'actress')]"
   ]
  },
  {
   "cell_type": "markdown",
   "metadata": {},
   "source": [
    "We sort the set descending by the average rating to get the higher rating of the movie for each 'tconst' and remove any additional duplicates."
   ]
  },
  {
   "cell_type": "code",
   "execution_count": 43,
   "metadata": {
    "scrolled": true
   },
   "outputs": [],
   "source": [
    "directors = directors.sort_values(by='tconst', ascending=False)\n",
    "directors.drop_duplicates(subset=['primary_name', 'title', 'tconst', 'nconst'], keep='first', inplace=True)"
   ]
  },
  {
   "cell_type": "code",
   "execution_count": 44,
   "metadata": {},
   "outputs": [],
   "source": [
    "performers = performers.sort_values(by='averagerating', ascending=False)\n",
    "performers.drop_duplicates(subset=['primary_name', 'title', 'tconst', 'nconst'], keep='first', inplace=True)"
   ]
  },
  {
   "cell_type": "markdown",
   "metadata": {},
   "source": [
    "## Initial Exploration of Correlations and Visualizations"
   ]
  },
  {
   "cell_type": "code",
   "execution_count": 45,
   "metadata": {
    "scrolled": true
   },
   "outputs": [],
   "source": [
    "#directors.corr()"
   ]
  },
  {
   "cell_type": "code",
   "execution_count": 46,
   "metadata": {},
   "outputs": [],
   "source": [
    "#performers.corr()"
   ]
  },
  {
   "cell_type": "markdown",
   "metadata": {},
   "source": [
    "### Grouping the Movies by each Director and isolating the top 10 grossing"
   ]
  },
  {
   "cell_type": "markdown",
   "metadata": {},
   "source": [
    "Below, we got the average of each director by grouping all the movies done by a director and taking the average and sorted from highest rating to lowest rating"
   ]
  },
  {
   "cell_type": "code",
   "execution_count": 47,
   "metadata": {
    "scrolled": false
   },
   "outputs": [],
   "source": [
    "director_avg = directors.groupby('primary_name').mean()\n",
    "director_avg.sort_values(by='averagerating', ascending=False, inplace=True)"
   ]
  },
  {
   "cell_type": "code",
   "execution_count": 48,
   "metadata": {},
   "outputs": [],
   "source": [
    "#director_avg = director_avg[director_avg['ratio_production_to_gross'] < 1.00]\n"
   ]
  },
  {
   "cell_type": "code",
   "execution_count": 49,
   "metadata": {},
   "outputs": [
    {
     "data": {
      "text/html": [
       "<div>\n",
       "<style scoped>\n",
       "    .dataframe tbody tr th:only-of-type {\n",
       "        vertical-align: middle;\n",
       "    }\n",
       "\n",
       "    .dataframe tbody tr th {\n",
       "        vertical-align: top;\n",
       "    }\n",
       "\n",
       "    .dataframe thead th {\n",
       "        text-align: right;\n",
       "    }\n",
       "</style>\n",
       "<table border=\"1\" class=\"dataframe\">\n",
       "  <thead>\n",
       "    <tr style=\"text-align: right;\">\n",
       "      <th></th>\n",
       "      <th>averagerating</th>\n",
       "      <th>numvotes</th>\n",
       "      <th>production_budget</th>\n",
       "      <th>domestic_gross</th>\n",
       "      <th>worldwide_gross</th>\n",
       "      <th>Profit_Margin</th>\n",
       "      <th>ratio_budget_gross</th>\n",
       "      <th>ratio_budget_gross_%</th>\n",
       "      <th>years</th>\n",
       "    </tr>\n",
       "  </thead>\n",
       "  <tbody>\n",
       "    <tr>\n",
       "      <th>averagerating</th>\n",
       "      <td>1.000000</td>\n",
       "      <td>0.536273</td>\n",
       "      <td>0.222979</td>\n",
       "      <td>0.330502</td>\n",
       "      <td>0.320194</td>\n",
       "      <td>0.104132</td>\n",
       "      <td>-0.104132</td>\n",
       "      <td>-0.104132</td>\n",
       "      <td>0.107552</td>\n",
       "    </tr>\n",
       "    <tr>\n",
       "      <th>numvotes</th>\n",
       "      <td>0.536273</td>\n",
       "      <td>1.000000</td>\n",
       "      <td>0.534649</td>\n",
       "      <td>0.643256</td>\n",
       "      <td>0.637274</td>\n",
       "      <td>0.070327</td>\n",
       "      <td>-0.070327</td>\n",
       "      <td>-0.070327</td>\n",
       "      <td>-0.043904</td>\n",
       "    </tr>\n",
       "    <tr>\n",
       "      <th>production_budget</th>\n",
       "      <td>0.222979</td>\n",
       "      <td>0.534649</td>\n",
       "      <td>1.000000</td>\n",
       "      <td>0.738508</td>\n",
       "      <td>0.788058</td>\n",
       "      <td>0.069673</td>\n",
       "      <td>-0.069673</td>\n",
       "      <td>-0.069673</td>\n",
       "      <td>0.075485</td>\n",
       "    </tr>\n",
       "    <tr>\n",
       "      <th>domestic_gross</th>\n",
       "      <td>0.330502</td>\n",
       "      <td>0.643256</td>\n",
       "      <td>0.738508</td>\n",
       "      <td>1.000000</td>\n",
       "      <td>0.952984</td>\n",
       "      <td>0.076965</td>\n",
       "      <td>-0.076965</td>\n",
       "      <td>-0.076965</td>\n",
       "      <td>0.075806</td>\n",
       "    </tr>\n",
       "    <tr>\n",
       "      <th>worldwide_gross</th>\n",
       "      <td>0.320194</td>\n",
       "      <td>0.637274</td>\n",
       "      <td>0.788058</td>\n",
       "      <td>0.952984</td>\n",
       "      <td>1.000000</td>\n",
       "      <td>0.068575</td>\n",
       "      <td>-0.068575</td>\n",
       "      <td>-0.068575</td>\n",
       "      <td>0.090686</td>\n",
       "    </tr>\n",
       "    <tr>\n",
       "      <th>Profit_Margin</th>\n",
       "      <td>0.104132</td>\n",
       "      <td>0.070327</td>\n",
       "      <td>0.069673</td>\n",
       "      <td>0.076965</td>\n",
       "      <td>0.068575</td>\n",
       "      <td>1.000000</td>\n",
       "      <td>-1.000000</td>\n",
       "      <td>-1.000000</td>\n",
       "      <td>0.011202</td>\n",
       "    </tr>\n",
       "    <tr>\n",
       "      <th>ratio_budget_gross</th>\n",
       "      <td>-0.104132</td>\n",
       "      <td>-0.070327</td>\n",
       "      <td>-0.069673</td>\n",
       "      <td>-0.076965</td>\n",
       "      <td>-0.068575</td>\n",
       "      <td>-1.000000</td>\n",
       "      <td>1.000000</td>\n",
       "      <td>1.000000</td>\n",
       "      <td>-0.011202</td>\n",
       "    </tr>\n",
       "    <tr>\n",
       "      <th>ratio_budget_gross_%</th>\n",
       "      <td>-0.104132</td>\n",
       "      <td>-0.070327</td>\n",
       "      <td>-0.069673</td>\n",
       "      <td>-0.076965</td>\n",
       "      <td>-0.068575</td>\n",
       "      <td>-1.000000</td>\n",
       "      <td>1.000000</td>\n",
       "      <td>1.000000</td>\n",
       "      <td>-0.011202</td>\n",
       "    </tr>\n",
       "    <tr>\n",
       "      <th>years</th>\n",
       "      <td>0.107552</td>\n",
       "      <td>-0.043904</td>\n",
       "      <td>0.075485</td>\n",
       "      <td>0.075806</td>\n",
       "      <td>0.090686</td>\n",
       "      <td>0.011202</td>\n",
       "      <td>-0.011202</td>\n",
       "      <td>-0.011202</td>\n",
       "      <td>1.000000</td>\n",
       "    </tr>\n",
       "  </tbody>\n",
       "</table>\n",
       "</div>"
      ],
      "text/plain": [
       "                      averagerating  numvotes  production_budget  \\\n",
       "averagerating              1.000000  0.536273           0.222979   \n",
       "numvotes                   0.536273  1.000000           0.534649   \n",
       "production_budget          0.222979  0.534649           1.000000   \n",
       "domestic_gross             0.330502  0.643256           0.738508   \n",
       "worldwide_gross            0.320194  0.637274           0.788058   \n",
       "Profit_Margin              0.104132  0.070327           0.069673   \n",
       "ratio_budget_gross        -0.104132 -0.070327          -0.069673   \n",
       "ratio_budget_gross_%      -0.104132 -0.070327          -0.069673   \n",
       "years                      0.107552 -0.043904           0.075485   \n",
       "\n",
       "                      domestic_gross  worldwide_gross  Profit_Margin  \\\n",
       "averagerating               0.330502         0.320194       0.104132   \n",
       "numvotes                    0.643256         0.637274       0.070327   \n",
       "production_budget           0.738508         0.788058       0.069673   \n",
       "domestic_gross              1.000000         0.952984       0.076965   \n",
       "worldwide_gross             0.952984         1.000000       0.068575   \n",
       "Profit_Margin               0.076965         0.068575       1.000000   \n",
       "ratio_budget_gross         -0.076965        -0.068575      -1.000000   \n",
       "ratio_budget_gross_%       -0.076965        -0.068575      -1.000000   \n",
       "years                       0.075806         0.090686       0.011202   \n",
       "\n",
       "                      ratio_budget_gross  ratio_budget_gross_%     years  \n",
       "averagerating                  -0.104132             -0.104132  0.107552  \n",
       "numvotes                       -0.070327             -0.070327 -0.043904  \n",
       "production_budget              -0.069673             -0.069673  0.075485  \n",
       "domestic_gross                 -0.076965             -0.076965  0.075806  \n",
       "worldwide_gross                -0.068575             -0.068575  0.090686  \n",
       "Profit_Margin                  -1.000000             -1.000000  0.011202  \n",
       "ratio_budget_gross              1.000000              1.000000 -0.011202  \n",
       "ratio_budget_gross_%            1.000000              1.000000 -0.011202  \n",
       "years                          -0.011202             -0.011202  1.000000  "
      ]
     },
     "execution_count": 49,
     "metadata": {},
     "output_type": "execute_result"
    }
   ],
   "source": [
    "director_avg.corr()"
   ]
  },
  {
   "cell_type": "markdown",
   "metadata": {},
   "source": [
    "We can observe a slight positive correlation between the average rating of the director and the gross, meaning generally higher rating directors will bring in more profit.\n"
   ]
  },
  {
   "cell_type": "code",
   "execution_count": 50,
   "metadata": {},
   "outputs": [
    {
     "name": "stderr",
     "output_type": "stream",
     "text": [
      "<ipython-input-50-d1698c26b0ed>:2: SettingWithCopyWarning: \n",
      "A value is trying to be set on a copy of a slice from a DataFrame\n",
      "\n",
      "See the caveats in the documentation: https://pandas.pydata.org/pandas-docs/stable/user_guide/indexing.html#returning-a-view-versus-a-copy\n",
      "  directors_gross_df.sort_values(by='averagerating', ascending=False, inplace=True)\n"
     ]
    }
   ],
   "source": [
    "directors_gross_df = director_avg[director_avg['worldwide_gross'] > 150000000]\n",
    "directors_gross_df.sort_values(by='averagerating', ascending=False, inplace=True)\n",
    "top_10_directors = directors_gross_df[:10]\n"
   ]
  },
  {
   "cell_type": "code",
   "execution_count": 51,
   "metadata": {},
   "outputs": [],
   "source": [
    "director_budget = top_10_directors['production_budget'].values[:10]\n",
    "top_10_directors_names = top_10_directors['production_budget'].index[:10]\n",
    "directors_gross = top_10_directors['worldwide_gross'].values[:10]"
   ]
  },
  {
   "cell_type": "code",
   "execution_count": 52,
   "metadata": {},
   "outputs": [
    {
     "name": "stderr",
     "output_type": "stream",
     "text": [
      "<ipython-input-52-e8c9a822f969>:5: MatplotlibDeprecationWarning: Case-insensitive properties were deprecated in 3.3 and support will be removed two minor releases later\n",
      "  ax.set_xlabel('Director', Fontsize=16)\n",
      "<ipython-input-52-e8c9a822f969>:6: MatplotlibDeprecationWarning: Case-insensitive properties were deprecated in 3.3 and support will be removed two minor releases later\n",
      "  ax.set_ylabel('In $100m', Fontsize=16)\n",
      "<ipython-input-52-e8c9a822f969>:9: UserWarning: FixedFormatter should only be used together with FixedLocator\n",
      "  ax.set_xticklabels(top_10_directors_names, rotation=18, fontsize=14)\n",
      "<ipython-input-52-e8c9a822f969>:10: UserWarning: FixedFormatter should only be used together with FixedLocator\n",
      "  ax.set_yticklabels(['0', '2', '4', '6', '8'], fontsize=14);\n"
     ]
    },
    {
     "data": {
      "image/png": "[encoded data removed]",
      "text/plain": [
       "<Figure size 1080x576 with 1 Axes>"
      ]
     },
     "metadata": {
      "needs_background": "light"
     },
     "output_type": "display_data"
    }
   ],
   "source": [
    "# in notebook version\n",
    "fig, ax = plt.subplots(figsize = (15, 8))\n",
    "ax.bar(top_10_directors_names, directors_gross)\n",
    "ax.bar(top_10_directors_names, director_budget, color='orange')\n",
    "ax.set_xlabel('Director', Fontsize=16)\n",
    "ax.set_ylabel('In $100m', Fontsize=16)\n",
    "ax.set_title('Director\\'s Production Budget vs Gross', fontsize=20)\n",
    "ax.legend(['Gross', 'Budget'])\n",
    "ax.set_xticklabels(top_10_directors_names, rotation=18, fontsize=14)\n",
    "ax.set_yticklabels(['0', '2', '4', '6', '8'], fontsize=14);\n",
    "plt.savefig('../images/Director_avg_budget_vs_avg_gross_figure',bbox_inches='tight')"
   ]
  },
  {
   "cell_type": "code",
   "execution_count": 53,
   "metadata": {},
   "outputs": [
    {
     "name": "stderr",
     "output_type": "stream",
     "text": [
      "<ipython-input-53-6dd6c46f69ca>:5: MatplotlibDeprecationWarning: Case-insensitive properties were deprecated in 3.3 and support will be removed two minor releases later\n",
      "  ax.set_xlabel('Director', Fontsize=16)\n",
      "<ipython-input-53-6dd6c46f69ca>:6: MatplotlibDeprecationWarning: Case-insensitive properties were deprecated in 3.3 and support will be removed two minor releases later\n",
      "  ax.set_ylabel('In $100m', Fontsize=16)\n",
      "<ipython-input-53-6dd6c46f69ca>:7: MatplotlibDeprecationWarning: Case-insensitive properties were deprecated in 3.3 and support will be removed two minor releases later\n",
      "  ax.set_title('Director\\'s Production Budget vs Gross', color='white', Fontsize=20)\n",
      "<ipython-input-53-6dd6c46f69ca>:9: UserWarning: FixedFormatter should only be used together with FixedLocator\n",
      "  ax.set_xticklabels(top_10_directors_names, rotation=18, Fontsize=14)\n",
      "<ipython-input-53-6dd6c46f69ca>:9: MatplotlibDeprecationWarning: Case-insensitive properties were deprecated in 3.3 and support will be removed two minor releases later\n",
      "  ax.set_xticklabels(top_10_directors_names, rotation=18, Fontsize=14)\n",
      "<ipython-input-53-6dd6c46f69ca>:19: UserWarning: FixedFormatter should only be used together with FixedLocator\n",
      "  ax.set_yticklabels(['0', '2', '4', '6', '8'], fontsize=14);\n"
     ]
    },
    {
     "data": {
      "image/png": "[encoded data removed]",
      "text/plain": [
       "<Figure size 1080x576 with 1 Axes>"
      ]
     },
     "metadata": {
      "needs_background": "dark"
     },
     "output_type": "display_data"
    }
   ],
   "source": [
    "#readme version dark\n",
    "fig, ax = plt.subplots(figsize = (15, 8))\n",
    "ax.bar(top_10_directors_names, directors_gross)\n",
    "ax.bar(top_10_directors_names, director_budget, color='orange')\n",
    "ax.set_xlabel('Director', Fontsize=16)\n",
    "ax.set_ylabel('In $100m', Fontsize=16)\n",
    "ax.set_title('Director\\'s Production Budget vs Gross', color='white', Fontsize=20)\n",
    "ax.legend(['Gross', 'Budget'])\n",
    "ax.set_xticklabels(top_10_directors_names, rotation=18, Fontsize=14)\n",
    "ax.spines['bottom'].set_color('white')\n",
    "ax.spines['top'].set_color('white')\n",
    "ax.spines['left'].set_color('white')\n",
    "ax.spines['right'].set_color('white')\n",
    "ax.yaxis.label.set_color('white')\n",
    "ax.tick_params(axis='x', colors='white')\n",
    "ax.yaxis.label.set_color('white')\n",
    "ax.tick_params(axis='y', colors='white')\n",
    "ax.xaxis.label.set_color('white')\n",
    "ax.set_yticklabels(['0', '2', '4', '6', '8'], fontsize=14);\n",
    "plt.savefig('../images/Director_avg_budget_vs_avg_gross_figure_dark',bbox_inches='tight', transparent=True)"
   ]
  },
  {
   "cell_type": "code",
   "execution_count": 55,
   "metadata": {},
   "outputs": [
    {
     "name": "stderr",
     "output_type": "stream",
     "text": [
      "<ipython-input-55-73b9db6afb6e>:6: MatplotlibDeprecationWarning: Case-insensitive properties were deprecated in 3.3 and support will be removed two minor releases later\n",
      "  ax.set_xlabel('Director', Fontsize=16)\n",
      "<ipython-input-55-73b9db6afb6e>:7: MatplotlibDeprecationWarning: Case-insensitive properties were deprecated in 3.3 and support will be removed two minor releases later\n",
      "  ax.set_ylabel('In $100m', Fontsize=16)\n",
      "<ipython-input-55-73b9db6afb6e>:9: UserWarning: FixedFormatter should only be used together with FixedLocator\n",
      "  ax.set_xticklabels(top_10_directors_names, rotation=18, Fontsize=14)\n",
      "<ipython-input-55-73b9db6afb6e>:9: MatplotlibDeprecationWarning: Case-insensitive properties were deprecated in 3.3 and support will be removed two minor releases later\n",
      "  ax.set_xticklabels(top_10_directors_names, rotation=18, Fontsize=14)\n",
      "<ipython-input-55-73b9db6afb6e>:10: UserWarning: FixedFormatter should only be used together with FixedLocator\n",
      "  ax.set_yticklabels(['0', '2', '4', '6', '8'], fontsize=14);\n"
     ]
    },
    {
     "data": {
      "image/png": "[encoded data removed]",
      "text/plain": [
       "<Figure size 1080x576 with 1 Axes>"
      ]
     },
     "metadata": {
      "needs_background": "light"
     },
     "output_type": "display_data"
    }
   ],
   "source": [
    "#for powerpoint slide\n",
    "fig, ax = plt.subplots(figsize = (15, 8))\n",
    "plt.style.use=('use_dark_background')\n",
    "ax.bar(top_10_directors_names, directors_gross)\n",
    "ax.bar(top_10_directors_names, director_budget, color='orange')\n",
    "ax.set_xlabel('Director', Fontsize=16)\n",
    "ax.set_ylabel('In $100m', Fontsize=16)\n",
    "ax.legend(['Gross', 'Budget'])\n",
    "ax.set_xticklabels(top_10_directors_names, rotation=18, Fontsize=14)\n",
    "ax.set_yticklabels(['0', '2', '4', '6', '8'], fontsize=14);\n",
    "plt.savefig('../images/Director_avg_budget_vs_avg_gross_notitle_ppt',bbox_inches='tight')"
   ]
  },
  {
   "cell_type": "code",
   "execution_count": 56,
   "metadata": {},
   "outputs": [],
   "source": [
    "#director_index = director_avg['Profit_Margin'].index[:10]\n",
    "#director_index"
   ]
  },
  {
   "cell_type": "code",
   "execution_count": 57,
   "metadata": {},
   "outputs": [],
   "source": [
    "#director_values = director_avg['Profit_Margin'].values[:10]\n",
    "#director_values"
   ]
  },
  {
   "cell_type": "code",
   "execution_count": 58,
   "metadata": {},
   "outputs": [],
   "source": [
    "#director_budget = director_avg['ratio_budget_gross_%'].values[:10]"
   ]
  },
  {
   "cell_type": "code",
   "execution_count": 59,
   "metadata": {},
   "outputs": [],
   "source": [
    "#fig, ax = plt.subplots(figsize=(10, 5))\n",
    "#ax.bar(director_index, director_values)\n",
    "#ax.bar(director_index, director_budget, color='orange')\n",
    "#ax.set_xticklabels(director_index, rotation=90)\n",
    "#ax.set_xlabel('Director Average Rating')\n",
    "#ax.set_ylabel('Director\\'s Profit Margin\\'s and Budget')\n",
    "#ax.set_title('Director\\'s Profit vs Budget');"
   ]
  },
  {
   "cell_type": "code",
   "execution_count": 60,
   "metadata": {},
   "outputs": [],
   "source": [
    "#fig, ax = plt.subplots()\n",
    "#ax.scatter(director_avg['averagerating'], director_avg['ratio_budget_gross_%'], alpha=.3)\n",
    "#ax.set_xlabel('Director Average Rating')\n",
    "#ax.set_ylabel('Ratio of Production to Gross')\n",
    "#ax.set_title('Director Avg Rating vs Ratio of Production to Gross');"
   ]
  },
  {
   "cell_type": "code",
   "execution_count": 61,
   "metadata": {},
   "outputs": [],
   "source": [
    "#fig, ax = plt.subplots()\n",
    "#ax.scatter(director_avg['worldwide_gross'], director_avg['averagerating'],  alpha=.3)\n",
    "#ax.set_xlabel('Director Average Rating')\n",
    "#ax.set_ylabel('Worldwide Gross')\n",
    "#ax.set_title('Director Avg Rating vs Worldwide to Gross');"
   ]
  },
  {
   "cell_type": "code",
   "execution_count": 62,
   "metadata": {},
   "outputs": [
    {
     "data": {
      "text/html": [
       "<div>\n",
       "<style scoped>\n",
       "    .dataframe tbody tr th:only-of-type {\n",
       "        vertical-align: middle;\n",
       "    }\n",
       "\n",
       "    .dataframe tbody tr th {\n",
       "        vertical-align: top;\n",
       "    }\n",
       "\n",
       "    .dataframe thead th {\n",
       "        text-align: right;\n",
       "    }\n",
       "</style>\n",
       "<table border=\"1\" class=\"dataframe\">\n",
       "  <thead>\n",
       "    <tr style=\"text-align: right;\">\n",
       "      <th></th>\n",
       "      <th>tconst</th>\n",
       "      <th>title</th>\n",
       "      <th>averagerating</th>\n",
       "      <th>numvotes</th>\n",
       "      <th>category</th>\n",
       "      <th>nconst</th>\n",
       "      <th>release_date</th>\n",
       "      <th>production_budget</th>\n",
       "      <th>domestic_gross</th>\n",
       "      <th>worldwide_gross</th>\n",
       "      <th>Profit_Margin</th>\n",
       "      <th>ratio_budget_gross</th>\n",
       "      <th>ratio_budget_gross_%</th>\n",
       "      <th>release dates</th>\n",
       "      <th>years</th>\n",
       "    </tr>\n",
       "    <tr>\n",
       "      <th>primary_name</th>\n",
       "      <th></th>\n",
       "      <th></th>\n",
       "      <th></th>\n",
       "      <th></th>\n",
       "      <th></th>\n",
       "      <th></th>\n",
       "      <th></th>\n",
       "      <th></th>\n",
       "      <th></th>\n",
       "      <th></th>\n",
       "      <th></th>\n",
       "      <th></th>\n",
       "      <th></th>\n",
       "      <th></th>\n",
       "      <th></th>\n",
       "    </tr>\n",
       "  </thead>\n",
       "  <tbody>\n",
       "    <tr>\n",
       "      <th>Kevin Costner</th>\n",
       "      <td>7</td>\n",
       "      <td>7</td>\n",
       "      <td>7</td>\n",
       "      <td>7</td>\n",
       "      <td>7</td>\n",
       "      <td>7</td>\n",
       "      <td>7</td>\n",
       "      <td>7</td>\n",
       "      <td>7</td>\n",
       "      <td>7</td>\n",
       "      <td>7</td>\n",
       "      <td>7</td>\n",
       "      <td>7</td>\n",
       "      <td>7</td>\n",
       "      <td>7</td>\n",
       "    </tr>\n",
       "    <tr>\n",
       "      <th>Zoe Saldana</th>\n",
       "      <td>7</td>\n",
       "      <td>7</td>\n",
       "      <td>7</td>\n",
       "      <td>7</td>\n",
       "      <td>7</td>\n",
       "      <td>7</td>\n",
       "      <td>7</td>\n",
       "      <td>7</td>\n",
       "      <td>7</td>\n",
       "      <td>7</td>\n",
       "      <td>7</td>\n",
       "      <td>7</td>\n",
       "      <td>7</td>\n",
       "      <td>7</td>\n",
       "      <td>7</td>\n",
       "    </tr>\n",
       "    <tr>\n",
       "      <th>James Marsden</th>\n",
       "      <td>7</td>\n",
       "      <td>7</td>\n",
       "      <td>7</td>\n",
       "      <td>7</td>\n",
       "      <td>7</td>\n",
       "      <td>7</td>\n",
       "      <td>7</td>\n",
       "      <td>7</td>\n",
       "      <td>7</td>\n",
       "      <td>7</td>\n",
       "      <td>7</td>\n",
       "      <td>7</td>\n",
       "      <td>7</td>\n",
       "      <td>7</td>\n",
       "      <td>7</td>\n",
       "    </tr>\n",
       "    <tr>\n",
       "      <th>James McAvoy</th>\n",
       "      <td>7</td>\n",
       "      <td>7</td>\n",
       "      <td>7</td>\n",
       "      <td>7</td>\n",
       "      <td>7</td>\n",
       "      <td>7</td>\n",
       "      <td>7</td>\n",
       "      <td>7</td>\n",
       "      <td>7</td>\n",
       "      <td>7</td>\n",
       "      <td>7</td>\n",
       "      <td>7</td>\n",
       "      <td>7</td>\n",
       "      <td>7</td>\n",
       "      <td>7</td>\n",
       "    </tr>\n",
       "    <tr>\n",
       "      <th>Anna Faris</th>\n",
       "      <td>7</td>\n",
       "      <td>7</td>\n",
       "      <td>7</td>\n",
       "      <td>7</td>\n",
       "      <td>7</td>\n",
       "      <td>7</td>\n",
       "      <td>7</td>\n",
       "      <td>7</td>\n",
       "      <td>7</td>\n",
       "      <td>7</td>\n",
       "      <td>7</td>\n",
       "      <td>7</td>\n",
       "      <td>7</td>\n",
       "      <td>7</td>\n",
       "      <td>7</td>\n",
       "    </tr>\n",
       "    <tr>\n",
       "      <th>Ethan Hawke</th>\n",
       "      <td>7</td>\n",
       "      <td>7</td>\n",
       "      <td>7</td>\n",
       "      <td>7</td>\n",
       "      <td>7</td>\n",
       "      <td>7</td>\n",
       "      <td>7</td>\n",
       "      <td>7</td>\n",
       "      <td>7</td>\n",
       "      <td>7</td>\n",
       "      <td>7</td>\n",
       "      <td>7</td>\n",
       "      <td>7</td>\n",
       "      <td>7</td>\n",
       "      <td>7</td>\n",
       "    </tr>\n",
       "    <tr>\n",
       "      <th>Jamie Foxx</th>\n",
       "      <td>7</td>\n",
       "      <td>7</td>\n",
       "      <td>7</td>\n",
       "      <td>7</td>\n",
       "      <td>7</td>\n",
       "      <td>7</td>\n",
       "      <td>7</td>\n",
       "      <td>7</td>\n",
       "      <td>7</td>\n",
       "      <td>7</td>\n",
       "      <td>7</td>\n",
       "      <td>7</td>\n",
       "      <td>7</td>\n",
       "      <td>7</td>\n",
       "      <td>7</td>\n",
       "    </tr>\n",
       "    <tr>\n",
       "      <th>Zach Galifianakis</th>\n",
       "      <td>7</td>\n",
       "      <td>7</td>\n",
       "      <td>7</td>\n",
       "      <td>7</td>\n",
       "      <td>7</td>\n",
       "      <td>7</td>\n",
       "      <td>7</td>\n",
       "      <td>7</td>\n",
       "      <td>7</td>\n",
       "      <td>7</td>\n",
       "      <td>7</td>\n",
       "      <td>7</td>\n",
       "      <td>7</td>\n",
       "      <td>7</td>\n",
       "      <td>7</td>\n",
       "    </tr>\n",
       "    <tr>\n",
       "      <th>Michael B. Jordan</th>\n",
       "      <td>7</td>\n",
       "      <td>7</td>\n",
       "      <td>7</td>\n",
       "      <td>7</td>\n",
       "      <td>7</td>\n",
       "      <td>7</td>\n",
       "      <td>7</td>\n",
       "      <td>7</td>\n",
       "      <td>7</td>\n",
       "      <td>7</td>\n",
       "      <td>7</td>\n",
       "      <td>7</td>\n",
       "      <td>7</td>\n",
       "      <td>7</td>\n",
       "      <td>7</td>\n",
       "    </tr>\n",
       "    <tr>\n",
       "      <th>Selena Gomez</th>\n",
       "      <td>7</td>\n",
       "      <td>7</td>\n",
       "      <td>7</td>\n",
       "      <td>7</td>\n",
       "      <td>7</td>\n",
       "      <td>7</td>\n",
       "      <td>7</td>\n",
       "      <td>7</td>\n",
       "      <td>7</td>\n",
       "      <td>7</td>\n",
       "      <td>7</td>\n",
       "      <td>7</td>\n",
       "      <td>7</td>\n",
       "      <td>7</td>\n",
       "      <td>7</td>\n",
       "    </tr>\n",
       "  </tbody>\n",
       "</table>\n",
       "</div>"
      ],
      "text/plain": [
       "                   tconst  title  averagerating  numvotes  category  nconst  \\\n",
       "primary_name                                                                  \n",
       "Kevin Costner           7      7              7         7         7       7   \n",
       "Zoe Saldana             7      7              7         7         7       7   \n",
       "James Marsden           7      7              7         7         7       7   \n",
       "James McAvoy            7      7              7         7         7       7   \n",
       "Anna Faris              7      7              7         7         7       7   \n",
       "Ethan Hawke             7      7              7         7         7       7   \n",
       "Jamie Foxx              7      7              7         7         7       7   \n",
       "Zach Galifianakis       7      7              7         7         7       7   \n",
       "Michael B. Jordan       7      7              7         7         7       7   \n",
       "Selena Gomez            7      7              7         7         7       7   \n",
       "\n",
       "                   release_date  production_budget  domestic_gross  \\\n",
       "primary_name                                                         \n",
       "Kevin Costner                 7                  7               7   \n",
       "Zoe Saldana                   7                  7               7   \n",
       "James Marsden                 7                  7               7   \n",
       "James McAvoy                  7                  7               7   \n",
       "Anna Faris                    7                  7               7   \n",
       "Ethan Hawke                   7                  7               7   \n",
       "Jamie Foxx                    7                  7               7   \n",
       "Zach Galifianakis             7                  7               7   \n",
       "Michael B. Jordan             7                  7               7   \n",
       "Selena Gomez                  7                  7               7   \n",
       "\n",
       "                   worldwide_gross  Profit_Margin  ratio_budget_gross  \\\n",
       "primary_name                                                            \n",
       "Kevin Costner                    7              7                   7   \n",
       "Zoe Saldana                      7              7                   7   \n",
       "James Marsden                    7              7                   7   \n",
       "James McAvoy                     7              7                   7   \n",
       "Anna Faris                       7              7                   7   \n",
       "Ethan Hawke                      7              7                   7   \n",
       "Jamie Foxx                       7              7                   7   \n",
       "Zach Galifianakis                7              7                   7   \n",
       "Michael B. Jordan                7              7                   7   \n",
       "Selena Gomez                     7              7                   7   \n",
       "\n",
       "                   ratio_budget_gross_%  release dates  years  \n",
       "primary_name                                                   \n",
       "Kevin Costner                         7              7      7  \n",
       "Zoe Saldana                           7              7      7  \n",
       "James Marsden                         7              7      7  \n",
       "James McAvoy                          7              7      7  \n",
       "Anna Faris                            7              7      7  \n",
       "Ethan Hawke                           7              7      7  \n",
       "Jamie Foxx                            7              7      7  \n",
       "Zach Galifianakis                     7              7      7  \n",
       "Michael B. Jordan                     7              7      7  \n",
       "Selena Gomez                          7              7      7  "
      ]
     },
     "execution_count": 62,
     "metadata": {},
     "output_type": "execute_result"
    }
   ],
   "source": [
    "performers_count = performers.groupby('primary_name').count()\n",
    "performers_count.sort_values(by='title', ascending=False, inplace=True)\n",
    "performers_count[95:105]"
   ]
  },
  {
   "cell_type": "markdown",
   "metadata": {},
   "source": [
    "look at how many movies they've starred in since our start date. Depict trends for each actor. If trend goes down, they're losing it or if they're on the rise. using movie ratings as indicator"
   ]
  },
  {
   "cell_type": "code",
   "execution_count": 63,
   "metadata": {},
   "outputs": [],
   "source": [
    "#dwayne_johnson = performers[performers['primary_name'] == 'Dwayne Johnson']\n",
    "#dwayne_johnson.sort_values(by='release dates', ascending=True, inplace=True)"
   ]
  },
  {
   "cell_type": "code",
   "execution_count": 64,
   "metadata": {
    "scrolled": true
   },
   "outputs": [],
   "source": [
    "#fig, ax = plt.subplots()\n",
    "#ax.plot(dwayne_johnson['release dates'], dwayne_johnson['averagerating'])"
   ]
  },
  {
   "cell_type": "code",
   "execution_count": 65,
   "metadata": {
    "scrolled": true
   },
   "outputs": [],
   "source": [
    "actor_male = performers[performers['primary_name'] == 'Chris Evans']\n",
    "actor_male = actor_male.sort_values(by='release dates', ascending=True)"
   ]
  },
  {
   "cell_type": "code",
   "execution_count": 66,
   "metadata": {
    "scrolled": false
   },
   "outputs": [
    {
     "name": "stderr",
     "output_type": "stream",
     "text": [
      "<ipython-input-66-c42dc680a749>:7: UserWarning: FixedFormatter should only be used together with FixedLocator\n",
      "  ax.set_xticklabels(actor_male['years'], fontsize=14)\n",
      "<ipython-input-66-c42dc680a749>:8: UserWarning: FixedFormatter should only be used together with FixedLocator\n",
      "  ax.set_yticklabels(['0', '1', '2', '3', '4', '5', '6', '7', '8'], fontsize=14);\n"
     ]
    },
    {
     "data": {
      "image/png": "[encoded data removed]",
      "text/plain": [
       "<Figure size 1080x576 with 1 Axes>"
      ]
     },
     "metadata": {
      "needs_background": "light"
     },
     "output_type": "display_data"
    }
   ],
   "source": [
    "#notebook version\n",
    "fig, ax = plt.subplots(figsize=(15, 8))\n",
    "ax.bar(actor_male['years'], actor_male['averagerating'])\n",
    "ax.set_xlabel('Release Year', fontsize=16)\n",
    "ax.set_ylabel('Movie Rating', fontsize=16)\n",
    "ax.set_title('Chris Evans Avg Ratings Over the Years', fontsize=20);\n",
    "ax.set_xticklabels(actor_male['years'], fontsize=14)\n",
    "ax.set_yticklabels(['0', '1', '2', '3', '4', '5', '6', '7', '8'], fontsize=14);\n",
    "plt.savefig('../images/Chris_evans_ratings_over_years', bbox_inches='tight')"
   ]
  },
  {
   "cell_type": "code",
   "execution_count": 67,
   "metadata": {},
   "outputs": [
    {
     "name": "stderr",
     "output_type": "stream",
     "text": [
      "<ipython-input-67-b81c4b3ac847>:7: UserWarning: FixedFormatter should only be used together with FixedLocator\n",
      "  ax.set_xticklabels(actor_male['years'], fontsize=14)\n",
      "<ipython-input-67-b81c4b3ac847>:17: UserWarning: FixedFormatter should only be used together with FixedLocator\n",
      "  ax.set_yticklabels(['0', '1', '2', '3', '4', '5', '6', '7', '8'], fontsize=14);\n"
     ]
    },
    {
     "data": {
      "image/png": "[encoded data removed]",
      "text/plain": [
       "<Figure size 1080x576 with 1 Axes>"
      ]
     },
     "metadata": {
      "needs_background": "dark"
     },
     "output_type": "display_data"
    }
   ],
   "source": [
    "#dark version for readme\n",
    "fig, ax = plt.subplots(figsize=(15, 8))\n",
    "ax.bar(actor_male['years'], actor_male['averagerating'])\n",
    "ax.set_xlabel('Release Year', fontsize=16)\n",
    "ax.set_ylabel('Movie Rating', fontsize=16)\n",
    "ax.set_title('Chris Evans Avg Ratings Over the Years', fontsize=20, color='white');\n",
    "ax.set_xticklabels(actor_male['years'], fontsize=14)\n",
    "ax.spines['bottom'].set_color('white')\n",
    "ax.spines['top'].set_color('white')\n",
    "ax.spines['left'].set_color('white')\n",
    "ax.spines['right'].set_color('white')\n",
    "ax.yaxis.label.set_color('white')\n",
    "ax.tick_params(axis='x', colors='white')\n",
    "ax.yaxis.label.set_color('white')\n",
    "ax.tick_params(axis='y', colors='white')\n",
    "ax.xaxis.label.set_color('white')\n",
    "ax.set_yticklabels(['0', '1', '2', '3', '4', '5', '6', '7', '8'], fontsize=14);\n",
    "plt.savefig('../images/Chris_evans_ratings_over_years_dark',bbox_inches='tight', transparent=True)"
   ]
  },
  {
   "cell_type": "code",
   "execution_count": 68,
   "metadata": {},
   "outputs": [
    {
     "name": "stderr",
     "output_type": "stream",
     "text": [
      "<ipython-input-68-d69fba486491>:6: UserWarning: FixedFormatter should only be used together with FixedLocator\n",
      "  ax.set_xticklabels(actor_male['years'], fontsize=14)\n",
      "<ipython-input-68-d69fba486491>:7: UserWarning: FixedFormatter should only be used together with FixedLocator\n",
      "  ax.set_yticklabels(['0', '1', '2', '3', '4', '5', '6', '7', '8'], fontsize=14);\n"
     ]
    },
    {
     "data": {
      "image/png": "[encoded data removed]",
      "text/plain": [
       "<Figure size 1080x576 with 1 Axes>"
      ]
     },
     "metadata": {
      "needs_background": "light"
     },
     "output_type": "display_data"
    }
   ],
   "source": [
    "# ppt version\n",
    "fig, ax = plt.subplots(figsize=(15, 8))\n",
    "ax.bar(actor_male['years'], actor_male['averagerating'])\n",
    "ax.set_xlabel('Release Year', fontsize=16)\n",
    "ax.set_ylabel('Movie Rating', fontsize=16)\n",
    "ax.set_xticklabels(actor_male['years'], fontsize=14)\n",
    "ax.set_yticklabels(['0', '1', '2', '3', '4', '5', '6', '7', '8'], fontsize=14);\n",
    "plt.savefig('../images/Chris_evans_ratings_over_years_notitle_ppt',bbox_inches='tight')"
   ]
  },
  {
   "cell_type": "code",
   "execution_count": 69,
   "metadata": {},
   "outputs": [],
   "source": [
    "actor_female = performers[performers['primary_name'] == 'Jennifer Garner']\n",
    "actor_female = actor_female.sort_values(by='release dates', ascending=True)"
   ]
  },
  {
   "cell_type": "code",
   "execution_count": 78,
   "metadata": {},
   "outputs": [
    {
     "name": "stderr",
     "output_type": "stream",
     "text": [
      "<ipython-input-78-fcc1f63dfd65>:7: UserWarning: FixedFormatter should only be used together with FixedLocator\n",
      "  ax.set_xticklabels(['0', '2011', '2012', '2013', '2014', '2015', '2016', '2017', '2018'], fontsize=14)\n",
      "<ipython-input-78-fcc1f63dfd65>:8: UserWarning: FixedFormatter should only be used together with FixedLocator\n",
      "  ax.set_yticklabels(['0', '1', '2', '3', '4', '5', '6', '7', '8'], fontsize=14);\n"
     ]
    },
    {
     "data": {
      "image/png": "[encoded data removed]",
      "text/plain": [
       "<Figure size 1080x576 with 1 Axes>"
      ]
     },
     "metadata": {
      "needs_background": "light"
     },
     "output_type": "display_data"
    }
   ],
   "source": [
    "#notebook version\n",
    "fig, ax = plt.subplots(figsize=(15, 8))\n",
    "ax.bar(actor_female['years'], actor_female['averagerating'] )\n",
    "ax.set_xlabel('Release Year', fontsize=16)\n",
    "ax.set_ylabel('Movie Rating', fontsize=16)\n",
    "ax.set_title('Jennifer Garner Ratings Over the Years', fontsize=20)\n",
    "ax.set_xticklabels(['0', '2011', '2012', '2013', '2014', '2015', '2016', '2017', '2018'], fontsize=14)\n",
    "ax.set_yticklabels(['0', '1', '2', '3', '4', '5', '6', '7', '8'], fontsize=14);\n",
    "plt.savefig('../images/Jennifer_garner_ratings_over_years',bbox_inches='tight')"
   ]
  },
  {
   "cell_type": "code",
   "execution_count": 79,
   "metadata": {},
   "outputs": [
    {
     "name": "stderr",
     "output_type": "stream",
     "text": [
      "<ipython-input-79-eee14186515c>:6: MatplotlibDeprecationWarning: Case-insensitive properties were deprecated in 3.3 and support will be removed two minor releases later\n",
      "  ax.set_title('Jennifer Garner Ratings Over the Years', color='white', Fontsize=20)\n",
      "<ipython-input-79-eee14186515c>:16: UserWarning: FixedFormatter should only be used together with FixedLocator\n",
      "  ax.set_yticklabels(['0', '1', '2', '3', '4', '5', '6', '7', '8'], fontsize=14)\n",
      "<ipython-input-79-eee14186515c>:17: UserWarning: FixedFormatter should only be used together with FixedLocator\n",
      "  ax.set_xticklabels(['0', '2011', '2012', '2013', '2014', '2015', '2016', '2017', '2018'], fontsize=14);\n"
     ]
    },
    {
     "data": {
      "image/png": "[encoded data removed]",
      "text/plain": [
       "<Figure size 1080x576 with 1 Axes>"
      ]
     },
     "metadata": {
      "needs_background": "dark"
     },
     "output_type": "display_data"
    }
   ],
   "source": [
    "#dark version for readme\n",
    "fig, ax = plt.subplots(figsize=(15, 8))\n",
    "ax.bar(actor_female['years'], actor_female['averagerating'] )\n",
    "ax.set_xlabel('Release Year', fontsize=16)\n",
    "ax.set_ylabel('Movie Rating', fontsize=16)\n",
    "ax.set_title('Jennifer Garner Ratings Over the Years', color='white', Fontsize=20)\n",
    "ax.spines['bottom'].set_color('white')\n",
    "ax.spines['top'].set_color('white')\n",
    "ax.spines['left'].set_color('white')\n",
    "ax.spines['right'].set_color('white')\n",
    "ax.yaxis.label.set_color('white')\n",
    "ax.tick_params(axis='x', colors='white')\n",
    "ax.yaxis.label.set_color('white')\n",
    "ax.tick_params(axis='y', colors='white')\n",
    "ax.xaxis.label.set_color('white')\n",
    "ax.set_yticklabels(['0', '1', '2', '3', '4', '5', '6', '7', '8'], fontsize=14)\n",
    "ax.set_xticklabels(['0', '2011', '2012', '2013', '2014', '2015', '2016', '2017', '2018'], fontsize=14);\n",
    "plt.savefig('../images/Jennifer_garner_ratings_over_years_dark',bbox_inches='tight', transparent=True)"
   ]
  },
  {
   "cell_type": "code",
   "execution_count": 72,
   "metadata": {},
   "outputs": [
    {
     "name": "stderr",
     "output_type": "stream",
     "text": [
      "<ipython-input-72-f30b1e4d1400>:6: UserWarning: FixedFormatter should only be used together with FixedLocator\n",
      "  ax.set_xticklabels(actor_female['years'], fontsize=14)\n",
      "<ipython-input-72-f30b1e4d1400>:7: UserWarning: FixedFormatter should only be used together with FixedLocator\n",
      "  ax.set_yticklabels(['0', '1', '2', '3', '4', '5', '6', '7', '8'], fontsize=14);\n"
     ]
    },
    {
     "data": {
      "image/png": "[encoded data removed]",
      "text/plain": [
       "<Figure size 1080x576 with 1 Axes>"
      ]
     },
     "metadata": {
      "needs_background": "light"
     },
     "output_type": "display_data"
    }
   ],
   "source": [
    "# no title for ppt\n",
    "fig, ax = plt.subplots(figsize=(15, 8))\n",
    "ax.bar(actor_female['years'], actor_female['averagerating'] )\n",
    "ax.set_xlabel('Release Year', fontsize=16)\n",
    "ax.set_ylabel('Movie Rating', fontsize=16)\n",
    "ax.set_xticklabels(actor_female['years'], fontsize=14)\n",
    "ax.set_yticklabels(['0', '1', '2', '3', '4', '5', '6', '7', '8'], fontsize=14);\n",
    "plt.savefig('../images/Jennifer_garner_ratings_over_years_notitle_ppt',bbox_inches='tight')"
   ]
  },
  {
   "cell_type": "code",
   "execution_count": 73,
   "metadata": {},
   "outputs": [],
   "source": [
    "#performers.info()"
   ]
  },
  {
   "cell_type": "code",
   "execution_count": null,
   "metadata": {},
   "outputs": [],
   "source": [
    "#actor_ratings = performers.pivot_table(index='primary_name', columns='years', values='averagerating', aggfunc='mean')"
   ]
  },
  {
   "cell_type": "code",
   "execution_count": null,
   "metadata": {},
   "outputs": [],
   "source": [
    "#actor_ratings.index"
   ]
  },
  {
   "cell_type": "code",
   "execution_count": null,
   "metadata": {},
   "outputs": [],
   "source": [
    "#Matthew_McConaughey = actor_ratings[(actor_ratings.index.get_level_values('primary_name') == \"Matthew McConaughey\")]\n",
    "#Matthew_McConaughey"
   ]
  },
  {
   "cell_type": "code",
   "execution_count": null,
   "metadata": {},
   "outputs": [],
   "source": [
    "#fig, ax = plt.subplots()\n",
    "#ax.plot(Matthew_McConaughey);"
   ]
  },
  {
   "cell_type": "code",
   "execution_count": null,
   "metadata": {},
   "outputs": [],
   "source": [
    "#performers_avg = performers.groupby('primary_name').mean()"
   ]
  },
  {
   "cell_type": "code",
   "execution_count": null,
   "metadata": {},
   "outputs": [],
   "source": [
    "#performers_avg = performers_avg[performers_avg['ratio_production_to_gross'] < 1.00]\n",
    "#performers_avg.sort_values(by='averagerating', ascending=False, inplace=True)"
   ]
  },
  {
   "cell_type": "code",
   "execution_count": null,
   "metadata": {},
   "outputs": [],
   "source": [
    "#performers_avg[25:50]"
   ]
  },
  {
   "cell_type": "code",
   "execution_count": null,
   "metadata": {},
   "outputs": [],
   "source": [
    "#performers_avg.corr()"
   ]
  },
  {
   "cell_type": "markdown",
   "metadata": {},
   "source": [
    "Similarly, we can observe a slight negative correlation between the average rating of the performers and the ratio of production budget to gross. This is a good thing as the smaller the ratio  the production to worldwide is, the more profitable the movie. This makes our correlation negative."
   ]
  },
  {
   "cell_type": "code",
   "execution_count": null,
   "metadata": {},
   "outputs": [],
   "source": [
    "#fig, ax = plt.subplots()\n",
    "#ax.scatter(performers_avg['averagerating'], performers_avg['ratio_budget_gross'], alpha=.3)\n",
    "#ax.set_xlabel('Performer Average Rating')\n",
    "#ax.set_ylabel('Ratio of Production to Gross')\n",
    "#ax.set_title('Performer Avg Rating vs Ratio of Production to Gross');"
   ]
  },
  {
   "cell_type": "code",
   "execution_count": null,
   "metadata": {},
   "outputs": [],
   "source": [
    "fig, ax = plt.subplots()\n",
    "ax.scatter(performers_avg['averagerating'], performers_avg['worldwide_gross'], alpha=.2)\n",
    "ax.set_xlabel('Performer Average Rating')\n",
    "ax.set_ylabel('Worldwide Gross')\n",
    "ax.set_title('Performer Avg Rating vs Worldwide Gross');"
   ]
  },
  {
   "cell_type": "markdown",
   "metadata": {},
   "source": [
    "see correlation between $$ spent and return - scatter"
   ]
  },
  {
   "cell_type": "markdown",
   "metadata": {},
   "source": [
    "In the plot below, we can see that there's a slightly positive correlation between average rating and worldwide gross. We can also observe that many low budget"
   ]
  },
  {
   "cell_type": "markdown",
   "metadata": {},
   "source": [
    "list of top actors"
   ]
  },
  {
   "cell_type": "code",
   "execution_count": null,
   "metadata": {},
   "outputs": [],
   "source": [
    "#def actor_info(actor):\n",
    "#    actor_name = performers[performers['primary_name'] == 'actor']\n",
    "#    actor_name.sort_values(by='release dates', ascending=True, inplace=True)\n",
    "#    fig, ax = plt.subplots()\n",
    " #   return ax.plot(actor_name['release dates'], actor_name['averagerating'])"
   ]
  },
  {
   "cell_type": "code",
   "execution_count": null,
   "metadata": {},
   "outputs": [],
   "source": []
  }
 ],
 "metadata": {
  "kernelspec": {
   "display_name": "Python (learn-env)",
   "language": "python",
   "name": "learn-env"
  },
  "language_info": {
   "codemirror_mode": {
    "name": "ipython",
    "version": 3
   },
   "file_extension": ".py",
   "mimetype": "text/x-python",
   "name": "python",
   "nbconvert_exporter": "python",
   "pygments_lexer": "ipython3",
   "version": "3.8.5"
  }
 },
 "nbformat": 4,
 "nbformat_minor": 4
}
