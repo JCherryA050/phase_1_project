{
 "cells": [
  {
   "cell_type": "markdown",
   "metadata": {},
   "source": [
    "# Microsoft Studios: Rise to the Surface"
   ]
  },
  {
   "cell_type": "markdown",
   "metadata": {},
   "source": [
    "An analysis of past film data from IMDB, TNDB, and Box Office Mojo, to recommmended the course of action for a new studio entering the movie industry today."
   ]
  },
  {
   "cell_type": "markdown",
   "metadata": {},
   "source": [
    "## Goals"
   ]
  },
  {
   "cell_type": "markdown",
   "metadata": {},
   "source": [
    "We want to use the datasets from IMDB, TNDB, BOM, and TMDB to identify patterns and behaviours behind what makes a movie successful in the box office and recommend them to stakeholders. Identifying these successful trends and behaviours and then emulating them will enable our new studio to keep costs low, maximize profit, and become a mighty competitor in the movie industry.\n",
    "\n",
    "We will be exploring the datasets below to find who we can onboard to the team, the type of content to create, and when to structure our releases to ensure success at the box office. "
   ]
  },
  {
   "cell_type": "markdown",
   "metadata": {},
   "source": [
    "   ### Import the Required Libraries and Install Additional Packages"
   ]
  },
  {
   "cell_type": "code",
   "execution_count": 5,
   "metadata": {},
   "outputs": [
    {
     "name": "stdout",
     "output_type": "stream",
     "text": [
      "Requirement already satisfied: fuzzywuzzy in c:\\users\\erin vu\\anaconda3\\envs\\learn-env\\lib\\site-packages (0.18.0)\n"
     ]
    }
   ],
   "source": [
    "!pip install fuzzywuzzy\n",
    "import numpy as np\n",
    "import pandas as pd\n",
    "import matplotlib.pyplot as plt\n",
    "import fuzzywuzzy\n",
    "from fuzzywuzzy import fuzz\n",
    "from fuzzywuzzy import process\n",
    "%matplotlib inline"
   ]
  },
  {
   "cell_type": "markdown",
   "metadata": {},
   "source": [
    "### Data Background"
   ]
  },
  {
   "cell_type": "markdown",
   "metadata": {},
   "source": [
    "The data we used is a collection of data from IMDB (The Internet Movie Database), TNDB (The Numbers Database), and BOM (Box Office Mojo), and TMDB (The Movie Database). "
   ]
  },
  {
   "cell_type": "code",
   "execution_count": 6,
   "metadata": {},
   "outputs": [],
   "source": [
    "mojo_df         = pd.read_csv    ('../zippedData/bom.movie_gross.csv.gz')\n",
    "rt_info_df      = pd.read_csv    ('../zippedData/rt.movie_info.tsv.gz', sep='\\t', encoding='iso8859_1')\n",
    "rt_review_df    = pd.read_csv    ('../zippedData/rt.reviews.tsv.gz'   , sep='\\t', encoding='iso8859_1')\n",
    "imdb_title_df   = pd.read_csv    ('../zippedData/imdb.title.basics.csv.gz')\n",
    "imdb_ratings    = pd.read_csv    ('../zippedData/imdb.title.ratings.csv.gz')\n",
    "imdb_principals = pd.read_csv    ('../zippedData/imdb.title.principals.csv.gz')\n",
    "imdb_akas       = pd.read_csv    ('../zippedData/imdb.title.akas.csv.gz')\n",
    "imdb_crew       = pd.read_csv    ('../zippedData/imdb.title.crew.csv.gz')\n",
    "tmbd_df         = pd.read_csv    ('../zippedData/tmdb.movies.csv.gz'  , index_col=0)\n",
    "tn_df           = pd.read_csv    ('../zippedData/tn.movie_budgets.csv.gz', index_col=0)"
   ]
  },
  {
   "cell_type": "code",
   "execution_count": null,
   "metadata": {},
   "outputs": [],
   "source": []
  }
 ],
 "metadata": {
  "kernelspec": {
   "display_name": "Python 3",
   "language": "python",
   "name": "python3"
  },
  "language_info": {
   "codemirror_mode": {
    "name": "ipython",
    "version": 3
   },
   "file_extension": ".py",
   "mimetype": "text/x-python",
   "name": "python",
   "nbconvert_exporter": "python",
   "pygments_lexer": "ipython3",
   "version": "3.8.5"
  }
 },
 "nbformat": 4,
 "nbformat_minor": 4
}
